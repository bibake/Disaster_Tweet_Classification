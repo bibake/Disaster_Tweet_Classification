{
  "nbformat": 4,
  "nbformat_minor": 0,
  "metadata": {
    "colab": {
      "name": "20-04_NLP_DisasterTweets_BU.ipynb",
      "provenance": [],
      "collapsed_sections": [
        "PpWY-UbQvgEB",
        "3iF8EKtOzZRz",
        "hk8ppkmA3wz7",
        "9dTUuZ-DjM27",
        "M4kuXEPJjKUu",
        "5Tsa-LxQjTfo",
        "E1_TdV5bzhn8",
        "3UsFQh0neEzl",
        "KI4ngANweH_t",
        "EisaidhqebZD",
        "W1n4YVxzmT_o",
        "UTQVvQAZW71-",
        "ve0R0nXLXGgR",
        "vmPOYQYkXK5T",
        "YxlfFMATd7Mf",
        "i6DJFmkWiETV",
        "hjNQ6dgATFKt",
        "NiVmxFZLT5tA",
        "ioRl6a2TVbT6",
        "8N69szSDj3kJ",
        "ezXVpBTDn-M9",
        "RcD3vzzEno8n",
        "fQwy8_BN2qTY",
        "LptcEunD2t7K",
        "hd_EFhTNodaR",
        "fEPhDqEb2ODy",
        "1POWfbGvhIzJ",
        "qqjkWZHF2ej8",
        "vXvRn_3I2iKy",
        "UugcJFwndvcZ",
        "CJxwB2Syc6AT",
        "PysJM6qqWWbT",
        "uB-lghhVrCXO",
        "OSt4PbxQiEdR",
        "KtnpQzfnMxB5",
        "z4s7R5ubUJe2",
        "FlSsSUxpeMxW",
        "U_6RusD-wk6F",
        "zJ6ImBo4QV-V",
        "KvElzdL5Y63E",
        "Yo7umDR8sIFz",
        "xxV-r1Nbp7YE",
        "ypu1oQCZvno_",
        "ZrsGW5e0_uz_",
        "TTxcTTsczlQn",
        "ow0Nf84C1GEO",
        "wbr8WPvrj1dk",
        "NRFr5Basx1VH",
        "cPhth2yI5iL_",
        "KyAwhGDB669U",
        "0H5JYvhTx1VJ",
        "JyiMLk7px1VK",
        "wN8XlNnYx1VL",
        "QE81whUCx1VL",
        "PABLeugcxpNC",
        "VE9mj4AWQxHD",
        "YzuFKGteitca",
        "6Cz9eNyfY9Fi",
        "Ag9m6WU57T-I",
        "Yu-c08pSx1D2",
        "td1SQyYQ1R2y",
        "DJd2dJa31YCq",
        "URvYe_He1csE",
        "eQsEIVZw1kss",
        "cP6NFcIH4mxf"
      ],
      "include_colab_link": true
    },
    "kernelspec": {
      "name": "python3",
      "display_name": "Python 3"
    },
    "accelerator": "GPU"
  },
  "cells": [
    {
      "cell_type": "markdown",
      "metadata": {
        "id": "view-in-github",
        "colab_type": "text"
      },
      "source": [
        "<a href=\"https://colab.research.google.com/github/bibake/Disaster_Tweet_Classification/blob/master/20_04_NLP_DisasterTweets_BU.ipynb\" target=\"_parent\"><img src=\"https://colab.research.google.com/assets/colab-badge.svg\" alt=\"Open In Colab\"/></a>"
      ]
    },
    {
      "cell_type": "code",
      "metadata": {
        "id": "8XL39RE9eWvG",
        "colab_type": "code",
        "colab": {}
      },
      "source": [
        "import pandas as pd\n",
        "import numpy as np\n",
        "import os\n",
        "import pickle\n",
        "import warnings\n",
        "import matplotlib.pyplot as plt\n",
        "import seaborn as sns\n",
        "\n",
        "from sklearn.feature_extraction.text import CountVectorizer\n",
        "from sklearn.exceptions import FitFailedWarning\n",
        "warnings.filterwarnings(\"ignore\", category = DeprecationWarning)\n",
        "warnings.filterwarnings('ignore', category = FitFailedWarning)\n",
        "warnings.filterwarnings('ignore', category = UserWarning)"
      ],
      "execution_count": 0,
      "outputs": []
    },
    {
      "cell_type": "markdown",
      "metadata": {
        "colab_type": "text",
        "id": "8V163aLx7Yqj"
      },
      "source": [
        "<br>\n",
        "<br>"
      ]
    },
    {
      "cell_type": "markdown",
      "metadata": {
        "id": "PpWY-UbQvgEB",
        "colab_type": "text"
      },
      "source": [
        "# 1. Introduction"
      ]
    },
    {
      "cell_type": "markdown",
      "metadata": {
        "id": "nK0i3Po6ER0H",
        "colab_type": "text"
      },
      "source": [
        "This notebook depicts a comprehensive programming solution to solve the Kaggle text classification challenge described [here](https://www.kaggle.com/c/nlp-getting-started/overview).\n",
        "\n",
        "<br>\n",
        "\n",
        "The task is a supervised binary text classification task of tweets from Twitter. The tweets are classified as either related to a **real disaster** or **not**. The purpose of the task is to establish an algorithm that can automatically and accurately determine if a tweet is referring to a real disaster or not. The applications for this are wide-ranging. Among the main uses is as an **emergency response support tool**. \n",
        "\n",
        "<br>\n",
        "\n",
        "At a high level, this notebook achieves the following:\n",
        "\n",
        "- Understand data\n",
        "- Prepare data\n",
        "- Train classification algorithms\n",
        "- Make predictions on unseen data\n",
        "\n",
        "<br>\n",
        "\n",
        "The notebook is organized in the following sections:<br /><font size=\"2\"> _**Note**: these sections can be navigated using the table of contents found in the left side-bar._\n",
        "\n",
        "1. Introduction\n",
        "2. Load and Explore Data\n",
        "3. Baseline Models\n",
        "4. Further Cleaning and Modelling\n",
        "5. Deep Learning\n",
        "6. Conclusion\n",
        "\n",
        "The main focus of this notebook is on non-deep learning techniques. Thus, only the last portion of the notebook is dedicated to deep learning."
      ]
    },
    {
      "cell_type": "markdown",
      "metadata": {
        "colab_type": "text",
        "id": "6EulOlRv7XVf"
      },
      "source": [
        "<br>\n",
        "<br>"
      ]
    },
    {
      "cell_type": "markdown",
      "metadata": {
        "id": "3iF8EKtOzZRz",
        "colab_type": "text"
      },
      "source": [
        "# 2. Load and Explore Data"
      ]
    },
    {
      "cell_type": "markdown",
      "metadata": {
        "colab_type": "text",
        "id": "hk8ppkmA3wz7"
      },
      "source": [
        "## Load and Basic Overview"
      ]
    },
    {
      "cell_type": "markdown",
      "metadata": {
        "id": "0IcKzYKny0-F",
        "colab_type": "text"
      },
      "source": [
        "Algorithms are triained using a labelled dataset provided on Kaggle ([here](https://www.kaggle.com/c/nlp-getting-started/data) and [here](https://gist.githubusercontent.com/bibake/f484cab46630d36bf05faf78fb65a358/raw/95a256cfef101a317115f6d5f0ff5f91ee8e9fc6/train.csv)). Predictions are made on the unlabelled test set ([here](https://www.kaggle.com/c/nlp-getting-started/data) and [here](https://gist.githubusercontent.com/bibake/f484cab46630d36bf05faf78fb65a358/raw/95a256cfef101a317115f6d5f0ff5f91ee8e9fc6/test.csv)).\n",
        "\n",
        "Here we load the two datasets, as well as a submission file."
      ]
    },
    {
      "cell_type": "code",
      "metadata": {
        "id": "1DKTKztVefLr",
        "colab_type": "code",
        "colab": {}
      },
      "source": [
        "train = pd.read_csv('https://gist.githubusercontent.com/bibake/f484cab46630d36bf05faf78fb65a358/raw/95a256cfef101a317115f6d5f0ff5f91ee8e9fc6/train.csv')\n",
        "test = pd.read_csv('https://gist.githubusercontent.com/bibake/f484cab46630d36bf05faf78fb65a358/raw/95a256cfef101a317115f6d5f0ff5f91ee8e9fc6/test.csv')\n",
        "submission = pd.read_csv('https://gist.githubusercontent.com/bibake/f484cab46630d36bf05faf78fb65a358/raw/d89ae3903e8b24869a5fb58b1cdb79ad5c31f19d/sample_submission.csv')"
      ],
      "execution_count": 0,
      "outputs": []
    },
    {
      "cell_type": "markdown",
      "metadata": {
        "id": "jIf5n2Nuyr_C",
        "colab_type": "text"
      },
      "source": [
        "The datasets, the first 5 lines of which can be seen below, contain the following columns:\n",
        "\n",
        "- **id** - a unique identifier for each tweet\n",
        "- **text** - the text of the tweet\n",
        "- **location** - the location the tweet was sent from (may be blank)\n",
        "- **keyword** - a particular keyword from the tweet (may be blank)\n",
        "- **target** - in train.csv only, this denotes whether a tweet is about a real disaster (1) or not (0)"
      ]
    },
    {
      "cell_type": "code",
      "metadata": {
        "id": "iDW4bV1SmUS7",
        "colab_type": "code",
        "outputId": "e38ca8a9-9cbc-468f-cf23-f5efb5b84ff9",
        "colab": {
          "base_uri": "https://localhost:8080/",
          "height": 578
        }
      },
      "source": [
        "pd.set_option('display.max_colwidth', None)\n",
        "display(train.head(), test.head(), submission.head())"
      ],
      "execution_count": 0,
      "outputs": [
        {
          "output_type": "display_data",
          "data": {
            "text/html": [
              "<div>\n",
              "<style scoped>\n",
              "    .dataframe tbody tr th:only-of-type {\n",
              "        vertical-align: middle;\n",
              "    }\n",
              "\n",
              "    .dataframe tbody tr th {\n",
              "        vertical-align: top;\n",
              "    }\n",
              "\n",
              "    .dataframe thead th {\n",
              "        text-align: right;\n",
              "    }\n",
              "</style>\n",
              "<table border=\"1\" class=\"dataframe\">\n",
              "  <thead>\n",
              "    <tr style=\"text-align: right;\">\n",
              "      <th></th>\n",
              "      <th>id</th>\n",
              "      <th>keyword</th>\n",
              "      <th>location</th>\n",
              "      <th>text</th>\n",
              "      <th>target</th>\n",
              "    </tr>\n",
              "  </thead>\n",
              "  <tbody>\n",
              "    <tr>\n",
              "      <th>0</th>\n",
              "      <td>1</td>\n",
              "      <td>NaN</td>\n",
              "      <td>NaN</td>\n",
              "      <td>Our Deeds are the Reason of this #earthquake May ALLAH Forgive us all</td>\n",
              "      <td>1</td>\n",
              "    </tr>\n",
              "    <tr>\n",
              "      <th>1</th>\n",
              "      <td>4</td>\n",
              "      <td>NaN</td>\n",
              "      <td>NaN</td>\n",
              "      <td>Forest fire near La Ronge Sask. Canada</td>\n",
              "      <td>1</td>\n",
              "    </tr>\n",
              "    <tr>\n",
              "      <th>2</th>\n",
              "      <td>5</td>\n",
              "      <td>NaN</td>\n",
              "      <td>NaN</td>\n",
              "      <td>All residents asked to 'shelter in place' are being notified by officers. No other evacuation or shelter in place orders are expected</td>\n",
              "      <td>1</td>\n",
              "    </tr>\n",
              "    <tr>\n",
              "      <th>3</th>\n",
              "      <td>6</td>\n",
              "      <td>NaN</td>\n",
              "      <td>NaN</td>\n",
              "      <td>13,000 people receive #wildfires evacuation orders in California</td>\n",
              "      <td>1</td>\n",
              "    </tr>\n",
              "    <tr>\n",
              "      <th>4</th>\n",
              "      <td>7</td>\n",
              "      <td>NaN</td>\n",
              "      <td>NaN</td>\n",
              "      <td>Just got sent this photo from Ruby #Alaska as smoke from #wildfires pours into a school</td>\n",
              "      <td>1</td>\n",
              "    </tr>\n",
              "  </tbody>\n",
              "</table>\n",
              "</div>"
            ],
            "text/plain": [
              "   id  ... target\n",
              "0   1  ...      1\n",
              "1   4  ...      1\n",
              "2   5  ...      1\n",
              "3   6  ...      1\n",
              "4   7  ...      1\n",
              "\n",
              "[5 rows x 5 columns]"
            ]
          },
          "metadata": {
            "tags": []
          }
        },
        {
          "output_type": "display_data",
          "data": {
            "text/html": [
              "<div>\n",
              "<style scoped>\n",
              "    .dataframe tbody tr th:only-of-type {\n",
              "        vertical-align: middle;\n",
              "    }\n",
              "\n",
              "    .dataframe tbody tr th {\n",
              "        vertical-align: top;\n",
              "    }\n",
              "\n",
              "    .dataframe thead th {\n",
              "        text-align: right;\n",
              "    }\n",
              "</style>\n",
              "<table border=\"1\" class=\"dataframe\">\n",
              "  <thead>\n",
              "    <tr style=\"text-align: right;\">\n",
              "      <th></th>\n",
              "      <th>id</th>\n",
              "      <th>keyword</th>\n",
              "      <th>location</th>\n",
              "      <th>text</th>\n",
              "    </tr>\n",
              "  </thead>\n",
              "  <tbody>\n",
              "    <tr>\n",
              "      <th>0</th>\n",
              "      <td>0</td>\n",
              "      <td>NaN</td>\n",
              "      <td>NaN</td>\n",
              "      <td>Just happened a terrible car crash</td>\n",
              "    </tr>\n",
              "    <tr>\n",
              "      <th>1</th>\n",
              "      <td>2</td>\n",
              "      <td>NaN</td>\n",
              "      <td>NaN</td>\n",
              "      <td>Heard about #earthquake is different cities, stay safe everyone.</td>\n",
              "    </tr>\n",
              "    <tr>\n",
              "      <th>2</th>\n",
              "      <td>3</td>\n",
              "      <td>NaN</td>\n",
              "      <td>NaN</td>\n",
              "      <td>there is a forest fire at spot pond, geese are fleeing across the street, I cannot save them all</td>\n",
              "    </tr>\n",
              "    <tr>\n",
              "      <th>3</th>\n",
              "      <td>9</td>\n",
              "      <td>NaN</td>\n",
              "      <td>NaN</td>\n",
              "      <td>Apocalypse lighting. #Spokane #wildfires</td>\n",
              "    </tr>\n",
              "    <tr>\n",
              "      <th>4</th>\n",
              "      <td>11</td>\n",
              "      <td>NaN</td>\n",
              "      <td>NaN</td>\n",
              "      <td>Typhoon Soudelor kills 28 in China and Taiwan</td>\n",
              "    </tr>\n",
              "  </tbody>\n",
              "</table>\n",
              "</div>"
            ],
            "text/plain": [
              "   id  ...                                                                                              text\n",
              "0   0  ...                                                                Just happened a terrible car crash\n",
              "1   2  ...                                  Heard about #earthquake is different cities, stay safe everyone.\n",
              "2   3  ...  there is a forest fire at spot pond, geese are fleeing across the street, I cannot save them all\n",
              "3   9  ...                                                          Apocalypse lighting. #Spokane #wildfires\n",
              "4  11  ...                                                     Typhoon Soudelor kills 28 in China and Taiwan\n",
              "\n",
              "[5 rows x 4 columns]"
            ]
          },
          "metadata": {
            "tags": []
          }
        },
        {
          "output_type": "display_data",
          "data": {
            "text/html": [
              "<div>\n",
              "<style scoped>\n",
              "    .dataframe tbody tr th:only-of-type {\n",
              "        vertical-align: middle;\n",
              "    }\n",
              "\n",
              "    .dataframe tbody tr th {\n",
              "        vertical-align: top;\n",
              "    }\n",
              "\n",
              "    .dataframe thead th {\n",
              "        text-align: right;\n",
              "    }\n",
              "</style>\n",
              "<table border=\"1\" class=\"dataframe\">\n",
              "  <thead>\n",
              "    <tr style=\"text-align: right;\">\n",
              "      <th></th>\n",
              "      <th>id</th>\n",
              "      <th>target</th>\n",
              "    </tr>\n",
              "  </thead>\n",
              "  <tbody>\n",
              "    <tr>\n",
              "      <th>0</th>\n",
              "      <td>0</td>\n",
              "      <td>0</td>\n",
              "    </tr>\n",
              "    <tr>\n",
              "      <th>1</th>\n",
              "      <td>2</td>\n",
              "      <td>0</td>\n",
              "    </tr>\n",
              "    <tr>\n",
              "      <th>2</th>\n",
              "      <td>3</td>\n",
              "      <td>0</td>\n",
              "    </tr>\n",
              "    <tr>\n",
              "      <th>3</th>\n",
              "      <td>9</td>\n",
              "      <td>0</td>\n",
              "    </tr>\n",
              "    <tr>\n",
              "      <th>4</th>\n",
              "      <td>11</td>\n",
              "      <td>0</td>\n",
              "    </tr>\n",
              "  </tbody>\n",
              "</table>\n",
              "</div>"
            ],
            "text/plain": [
              "   id  target\n",
              "0   0       0\n",
              "1   2       0\n",
              "2   3       0\n",
              "3   9       0\n",
              "4  11       0"
            ]
          },
          "metadata": {
            "tags": []
          }
        }
      ]
    },
    {
      "cell_type": "markdown",
      "metadata": {
        "id": "9dTUuZ-DjM27",
        "colab_type": "text"
      },
      "source": [
        "### Shape"
      ]
    },
    {
      "cell_type": "code",
      "metadata": {
        "id": "GRICtuEZmnf2",
        "colab_type": "code",
        "outputId": "600b2e0e-3e86-4092-e2e9-47f453dd974e",
        "colab": {
          "base_uri": "https://localhost:8080/",
          "height": 51
        }
      },
      "source": [
        "print('There are {} rows and {} columns in train'.format(train.shape[0], train.shape[1]))\n",
        "print('There are {} rows and {} columns in train'.format(test.shape[0], test.shape[1]))"
      ],
      "execution_count": 0,
      "outputs": [
        {
          "output_type": "stream",
          "text": [
            "There are 7613 rows and 5 columns in train\n",
            "There are 3263 rows and 4 columns in train\n"
          ],
          "name": "stdout"
        }
      ]
    },
    {
      "cell_type": "markdown",
      "metadata": {
        "id": "M4kuXEPJjKUu",
        "colab_type": "text"
      },
      "source": [
        "### Data-types and NULLs"
      ]
    },
    {
      "cell_type": "code",
      "metadata": {
        "id": "3FD6x74Nm34g",
        "colab_type": "code",
        "outputId": "70d8ab63-0b60-4b90-91f8-33f5372a4510",
        "colab": {
          "base_uri": "https://localhost:8080/",
          "height": 357
        }
      },
      "source": [
        "print(train.info())\n",
        "print('\\n', train.isna().sum())"
      ],
      "execution_count": 0,
      "outputs": [
        {
          "output_type": "stream",
          "text": [
            "<class 'pandas.core.frame.DataFrame'>\n",
            "RangeIndex: 7613 entries, 0 to 7612\n",
            "Data columns (total 5 columns):\n",
            " #   Column    Non-Null Count  Dtype \n",
            "---  ------    --------------  ----- \n",
            " 0   id        7613 non-null   int64 \n",
            " 1   keyword   7552 non-null   object\n",
            " 2   location  5080 non-null   object\n",
            " 3   text      7613 non-null   object\n",
            " 4   target    7613 non-null   int64 \n",
            "dtypes: int64(2), object(3)\n",
            "memory usage: 297.5+ KB\n",
            "None\n",
            "\n",
            " id             0\n",
            "keyword       61\n",
            "location    2533\n",
            "text           0\n",
            "target         0\n",
            "dtype: int64\n"
          ],
          "name": "stdout"
        }
      ]
    },
    {
      "cell_type": "markdown",
      "metadata": {
        "id": "KMv5a5Yai4hX",
        "colab_type": "text"
      },
      "source": [
        "We see from the output above that there are two numeric columns and three categorical. Of the five, two have missing values, keyword and location."
      ]
    },
    {
      "cell_type": "markdown",
      "metadata": {
        "id": "5Tsa-LxQjTfo",
        "colab_type": "text"
      },
      "source": [
        "### Class balance"
      ]
    },
    {
      "cell_type": "code",
      "metadata": {
        "id": "9tWyoJLpnAze",
        "colab_type": "code",
        "outputId": "5e69bdd5-8ded-41ee-d9df-492195d7234f",
        "colab": {
          "base_uri": "https://localhost:8080/",
          "height": 68
        }
      },
      "source": [
        "train.target.value_counts()"
      ],
      "execution_count": 0,
      "outputs": [
        {
          "output_type": "execute_result",
          "data": {
            "text/plain": [
              "0    4342\n",
              "1    3271\n",
              "Name: target, dtype: int64"
            ]
          },
          "metadata": {
            "tags": []
          },
          "execution_count": 6
        }
      ]
    },
    {
      "cell_type": "code",
      "metadata": {
        "id": "p80WF293nGB-",
        "colab_type": "code",
        "outputId": "dce2121e-4ca1-4a4b-c3d3-18c3dbc33c1d",
        "colab": {
          "base_uri": "https://localhost:8080/",
          "height": 282
        }
      },
      "source": [
        "plt.style.use('fast')\n",
        "\n",
        "sns.barplot(train.target.value_counts().index, train.target.value_counts().values, alpha=0.5, palette=[\"green\", 'red'])\n",
        "plt.ylabel('Count', fontsize=12)\n",
        "plt.xlabel('Target', fontsize=12)\n",
        "plt.show()"
      ],
      "execution_count": 0,
      "outputs": [
        {
          "output_type": "display_data",
          "data": {
            "image/png": "[encoded data removed]",
            "text/plain": [
              "<Figure size 432x288 with 1 Axes>"
            ]
          },
          "metadata": {
            "tags": [],
            "needs_background": "light"
          }
        }
      ]
    },
    {
      "cell_type": "markdown",
      "metadata": {
        "colab_type": "text",
        "id": "2ujQQ_2j7VF4"
      },
      "source": [
        "<br>"
      ]
    },
    {
      "cell_type": "markdown",
      "metadata": {
        "id": "YPbwnFKijZml",
        "colab_type": "text"
      },
      "source": [
        "Wee see that there is a slight imbalance in favor of beinign (non-disaster) tweets. The imbalance, however, is not so large that it will significantly effect our modelling."
      ]
    },
    {
      "cell_type": "markdown",
      "metadata": {
        "id": "E1_TdV5bzhn8",
        "colab_type": "text"
      },
      "source": [
        "## Exploratory Data Analysis"
      ]
    },
    {
      "cell_type": "markdown",
      "metadata": {
        "id": "3UsFQh0neEzl",
        "colab_type": "text"
      },
      "source": [
        "#### Characters per tweet"
      ]
    },
    {
      "cell_type": "code",
      "metadata": {
        "colab_type": "code",
        "outputId": "5ec071d8-4b55-4fa6-b241-02949a25c9d0",
        "id": "R2pahRaydPmR",
        "colab": {
          "base_uri": "https://localhost:8080/",
          "height": 356
        }
      },
      "source": [
        "fig,(ax1,ax2)=plt.subplots(1,2,figsize=(10,5))\n",
        "tweet_len=train[train['target']==0]['text'].str.len()\n",
        "ax1.hist(tweet_len,color='green', alpha = 0.5)\n",
        "ax1.set_title('Benign tweets')\n",
        "tweet_len=train[train['target']==1]['text'].str.len()\n",
        "ax2.hist(tweet_len,color='red', alpha = 0.5)\n",
        "ax2.set_title('Disaster tweets')\n",
        "fig.suptitle('Characters in tweets')\n",
        "plt.show()"
      ],
      "execution_count": 0,
      "outputs": [
        {
          "output_type": "display_data",
          "data": {
            "image/png": "[encoded data removed]",
            "text/plain": [
              "<Figure size 720x360 with 2 Axes>"
            ]
          },
          "metadata": {
            "tags": [],
            "needs_background": "light"
          }
        }
      ]
    },
    {
      "cell_type": "markdown",
      "metadata": {
        "id": "KI4ngANweH_t",
        "colab_type": "text"
      },
      "source": [
        "#### Words per tweet"
      ]
    },
    {
      "cell_type": "code",
      "metadata": {
        "id": "wLfXjBL-eKzR",
        "colab_type": "code",
        "outputId": "000a64a0-ce19-4069-eff6-59277f00a7ba",
        "colab": {
          "base_uri": "https://localhost:8080/",
          "height": 356
        }
      },
      "source": [
        "fig,(ax1,ax2)=plt.subplots(1,2,figsize=(10,5))\n",
        "tweet_len=train[train['target']==0]['text'].str.split().map(lambda x: len(x))\n",
        "ax1.hist(tweet_len,color='green', alpha = 0.5)\n",
        "ax1.set_title('Benign tweets')\n",
        "tweet_len=train[train['target']==1]['text'].str.split().map(lambda x: len(x))\n",
        "ax2.hist(tweet_len,color='red', alpha = 0.5)\n",
        "ax2.set_title('Disaster tweets')\n",
        "fig.suptitle('Words in a tweet')\n",
        "plt.show()"
      ],
      "execution_count": 0,
      "outputs": [
        {
          "output_type": "display_data",
          "data": {
            "image/png": "[encoded data removed]",
            "text/plain": [
              "<Figure size 720x360 with 2 Axes>"
            ]
          },
          "metadata": {
            "tags": [],
            "needs_background": "light"
          }
        }
      ]
    },
    {
      "cell_type": "markdown",
      "metadata": {
        "id": "EisaidhqebZD",
        "colab_type": "text"
      },
      "source": [
        "#### Average word length per tweet"
      ]
    },
    {
      "cell_type": "code",
      "metadata": {
        "id": "CV6kBlO9eeGv",
        "colab_type": "code",
        "outputId": "f46e1b88-87af-4820-a56a-f0abe971c197",
        "colab": {
          "base_uri": "https://localhost:8080/",
          "height": 387
        }
      },
      "source": [
        "fig,(ax1,ax2)=plt.subplots(1,2,figsize=(10,5))\n",
        "word=train[train['target']==0]['text'].str.split().apply(lambda x : [len(i) for i in x])\n",
        "sns.distplot(word.map(lambda x: np.mean(x)),ax=ax1,color='green')\n",
        "ax1.set_title('Benign')\n",
        "word=train[train['target']==1]['text'].str.split().apply(lambda x : [len(i) for i in x])\n",
        "sns.distplot(word.map(lambda x: np.mean(x)),ax=ax2,color='red')\n",
        "ax2.set_title('Disaster')\n",
        "fig.suptitle('Average word length in each tweet')"
      ],
      "execution_count": 0,
      "outputs": [
        {
          "output_type": "execute_result",
          "data": {
            "text/plain": [
              "Text(0.5, 0.98, 'Average word length in each tweet')"
            ]
          },
          "metadata": {
            "tags": []
          },
          "execution_count": 10
        },
        {
          "output_type": "display_data",
          "data": {
            "image/png": "[encoded data removed]",
            "text/plain": [
              "<Figure size 720x360 with 2 Axes>"
            ]
          },
          "metadata": {
            "tags": [],
            "needs_background": "light"
          }
        }
      ]
    },
    {
      "cell_type": "markdown",
      "metadata": {
        "id": "W1n4YVxzmT_o",
        "colab_type": "text"
      },
      "source": [
        "#### N-Gram analysis"
      ]
    },
    {
      "cell_type": "code",
      "metadata": {
        "id": "aX4KEhp7mWTY",
        "colab_type": "code",
        "colab": {}
      },
      "source": [
        "# https://www.kaggle.com/shahules/basic-eda-cleaning-and-glove\n",
        "\n",
        "def get_top_tweet_bigrams(corpus, n=None):\n",
        "    vec = CountVectorizer(ngram_range=(2, 2)).fit(corpus)\n",
        "    bag_of_words = vec.transform(corpus)\n",
        "    sum_words = bag_of_words.sum(axis=0) \n",
        "    words_freq = [(word, sum_words[0, idx]) for word, idx in vec.vocabulary_.items()]\n",
        "    words_freq =sorted(words_freq, key = lambda x: x[1], reverse=True)\n",
        "    return words_freq[:n]"
      ],
      "execution_count": 0,
      "outputs": []
    },
    {
      "cell_type": "code",
      "metadata": {
        "id": "--UvQYobmaKy",
        "colab_type": "code",
        "outputId": "8c184d61-425e-4e0f-91b7-5078b968abbc",
        "colab": {
          "base_uri": "https://localhost:8080/",
          "height": 337
        }
      },
      "source": [
        "plt.figure(figsize=(10,5))\n",
        "top_tweet_bigrams = get_top_tweet_bigrams(train['text'])[:10]\n",
        "x,y=map(list,zip(*top_tweet_bigrams))\n",
        "sns.barplot(x=y,y=x, alpha = 0.5)"
      ],
      "execution_count": 0,
      "outputs": [
        {
          "output_type": "execute_result",
          "data": {
            "text/plain": [
              "<matplotlib.axes._subplots.AxesSubplot at 0x7f52a4f7b518>"
            ]
          },
          "metadata": {
            "tags": []
          },
          "execution_count": 12
        },
        {
          "output_type": "display_data",
          "data": {
            "image/png": "[encoded data removed]",
            "text/plain": [
              "<Figure size 720x360 with 1 Axes>"
            ]
          },
          "metadata": {
            "tags": [],
            "needs_background": "light"
          }
        }
      ]
    },
    {
      "cell_type": "markdown",
      "metadata": {
        "id": "EWUaHrK97ROu",
        "colab_type": "text"
      },
      "source": [
        "<br>"
      ]
    },
    {
      "cell_type": "markdown",
      "metadata": {
        "id": "UTQVvQAZW71-",
        "colab_type": "text"
      },
      "source": [
        "## Identifying and Treating Discrepancies"
      ]
    },
    {
      "cell_type": "markdown",
      "metadata": {
        "id": "ve0R0nXLXGgR",
        "colab_type": "text"
      },
      "source": [
        "### Mis-labelled tweets"
      ]
    },
    {
      "cell_type": "markdown",
      "metadata": {
        "id": "bcAd_hUu1kZU",
        "colab_type": "text"
      },
      "source": [
        "Here, I draw from the work done [here](https://www.kaggle.com/muhammedfathi/fake-or-real-with-bert) to identify and relabel tweets that have erroneously been labeled as disasters.\n",
        "\n",
        "This step is important to ensure that our model is not learning patterns from incorrect data."
      ]
    },
    {
      "cell_type": "code",
      "metadata": {
        "id": "KPXGSOClV75t",
        "colab_type": "code",
        "outputId": "81059782-f318-4218-d708-c45ab2cb949a",
        "colab": {
          "base_uri": "https://localhost:8080/",
          "height": 545
        }
      },
      "source": [
        "ids_with_target_error = [328,443,513,2619,3640,3900,4342,5781,6552,6554,6570,6701,6702,6729,6861,7226]\n",
        "train[train['id'].isin(ids_with_target_error)][['text', 'target']]"
      ],
      "execution_count": 0,
      "outputs": [
        {
          "output_type": "execute_result",
          "data": {
            "text/html": [
              "<div>\n",
              "<style scoped>\n",
              "    .dataframe tbody tr th:only-of-type {\n",
              "        vertical-align: middle;\n",
              "    }\n",
              "\n",
              "    .dataframe tbody tr th {\n",
              "        vertical-align: top;\n",
              "    }\n",
              "\n",
              "    .dataframe thead th {\n",
              "        text-align: right;\n",
              "    }\n",
              "</style>\n",
              "<table border=\"1\" class=\"dataframe\">\n",
              "  <thead>\n",
              "    <tr style=\"text-align: right;\">\n",
              "      <th></th>\n",
              "      <th>text</th>\n",
              "      <th>target</th>\n",
              "    </tr>\n",
              "  </thead>\n",
              "  <tbody>\n",
              "    <tr>\n",
              "      <th>229</th>\n",
              "      <td>Ready to get annihilated for the BUCS game</td>\n",
              "      <td>1</td>\n",
              "    </tr>\n",
              "    <tr>\n",
              "      <th>301</th>\n",
              "      <td>Short Reading\\n\\nApocalypse 21:1023 \\n\\nIn the spirit the angel took me to the top of an enormous high mountain and... http://t.co/v8AfTD9zeZ</td>\n",
              "      <td>1</td>\n",
              "    </tr>\n",
              "    <tr>\n",
              "      <th>356</th>\n",
              "      <td>But if you build an army of 100 dogs and their leader is a lion all dogs will fight like a lion.</td>\n",
              "      <td>1</td>\n",
              "    </tr>\n",
              "    <tr>\n",
              "      <th>1822</th>\n",
              "      <td>My iPod crashed..... \\n#WeLoveYouLouis \\n#MTVHottest One Direction</td>\n",
              "      <td>1</td>\n",
              "    </tr>\n",
              "    <tr>\n",
              "      <th>2536</th>\n",
              "      <td>This desperation dislocation\\nSeparation condemnation\\nRevelation in temptation\\nIsolation desolation\\nLet it go and so to find away</td>\n",
              "      <td>1</td>\n",
              "    </tr>\n",
              "    <tr>\n",
              "      <th>2715</th>\n",
              "      <td>Man Currensy really be talkin that talk... I'd be more devastated if he had a ghostwriter than anybody else....</td>\n",
              "      <td>1</td>\n",
              "    </tr>\n",
              "    <tr>\n",
              "      <th>3024</th>\n",
              "      <td>Going to a fest? Bring swimming goggles for the dust storm in the circle pit</td>\n",
              "      <td>1</td>\n",
              "    </tr>\n",
              "    <tr>\n",
              "      <th>4068</th>\n",
              "      <td>Campsite recommendations \\nToilets /shower \\nPub \\nFires \\nNo kids \\nPizza shop \\nForest \\nPretty stream \\nNo midges\\nNo snakes\\nThanks ??</td>\n",
              "      <td>1</td>\n",
              "    </tr>\n",
              "    <tr>\n",
              "      <th>4609</th>\n",
              "      <td>My prediction for the Vikings game this Sunday....dont expect a whole lot. Infact I think Zimmer goal is....injury free 1st game</td>\n",
              "      <td>1</td>\n",
              "    </tr>\n",
              "    <tr>\n",
              "      <th>4611</th>\n",
              "      <td>Dante Exum's knee injury could stem Jazz's hoped-for surge back to ... http://t.co/8PIFutrB5U</td>\n",
              "      <td>1</td>\n",
              "    </tr>\n",
              "    <tr>\n",
              "      <th>4622</th>\n",
              "      <td>@Sport_EN Just being linked to Arsenal causes injury.</td>\n",
              "      <td>1</td>\n",
              "    </tr>\n",
              "    <tr>\n",
              "      <th>4713</th>\n",
              "      <td>Imagine a room with walls that are lava lamps.</td>\n",
              "      <td>1</td>\n",
              "    </tr>\n",
              "    <tr>\n",
              "      <th>4714</th>\n",
              "      <td>The sunset looked like an erupting volcano .... My initial thought was the Pixar short Lava http://t.co/g4sChqFEsT</td>\n",
              "      <td>1</td>\n",
              "    </tr>\n",
              "    <tr>\n",
              "      <th>4732</th>\n",
              "      <td>Check out my Lava lamp dude ???? http://t.co/To9ViqooFv</td>\n",
              "      <td>1</td>\n",
              "    </tr>\n",
              "    <tr>\n",
              "      <th>4820</th>\n",
              "      <td>If abortion is murder then blowjobs are cannibalism and masturbation is mass genocide.</td>\n",
              "      <td>1</td>\n",
              "    </tr>\n",
              "    <tr>\n",
              "      <th>5068</th>\n",
              "      <td>Of course the one day I have to dress professionally aka unsensibly for class is the day I have try and outrun a natural disaster!</td>\n",
              "      <td>1</td>\n",
              "    </tr>\n",
              "  </tbody>\n",
              "</table>\n",
              "</div>"
            ],
            "text/plain": [
              "                                                                                                                                               text  target\n",
              "229                                                                                                      Ready to get annihilated for the BUCS game       1\n",
              "301   Short Reading\\n\\nApocalypse 21:1023 \\n\\nIn the spirit the angel took me to the top of an enormous high mountain and... http://t.co/v8AfTD9zeZ       1\n",
              "356                                                But if you build an army of 100 dogs and their leader is a lion all dogs will fight like a lion.       1\n",
              "1822                                                                             My iPod crashed..... \\n#WeLoveYouLouis \\n#MTVHottest One Direction       1\n",
              "2536           This desperation dislocation\\nSeparation condemnation\\nRevelation in temptation\\nIsolation desolation\\nLet it go and so to find away       1\n",
              "2715                                Man Currensy really be talkin that talk... I'd be more devastated if he had a ghostwriter than anybody else....       1\n",
              "3024                                                                   Going to a fest? Bring swimming goggles for the dust storm in the circle pit       1\n",
              "4068     Campsite recommendations \\nToilets /shower \\nPub \\nFires \\nNo kids \\nPizza shop \\nForest \\nPretty stream \\nNo midges\\nNo snakes\\nThanks ??       1\n",
              "4609               My prediction for the Vikings game this Sunday....dont expect a whole lot. Infact I think Zimmer goal is....injury free 1st game       1\n",
              "4611                                                  Dante Exum's knee injury could stem Jazz's hoped-for surge back to ... http://t.co/8PIFutrB5U       1\n",
              "4622                                                                                          @Sport_EN Just being linked to Arsenal causes injury.       1\n",
              "4713                                                                                                 Imagine a room with walls that are lava lamps.       1\n",
              "4714                             The sunset looked like an erupting volcano .... My initial thought was the Pixar short Lava http://t.co/g4sChqFEsT       1\n",
              "4732                                                                                        Check out my Lava lamp dude ???? http://t.co/To9ViqooFv       1\n",
              "4820                                                         If abortion is murder then blowjobs are cannibalism and masturbation is mass genocide.       1\n",
              "5068             Of course the one day I have to dress professionally aka unsensibly for class is the day I have try and outrun a natural disaster!       1"
            ]
          },
          "metadata": {
            "tags": []
          },
          "execution_count": 13
        }
      ]
    },
    {
      "cell_type": "markdown",
      "metadata": {
        "id": "RDCOh0F32Rp4",
        "colab_type": "text"
      },
      "source": [
        "Having identified the mis-labelled tweets, the code below re-labels them as 0."
      ]
    },
    {
      "cell_type": "code",
      "metadata": {
        "id": "zxiv4cAjC8nX",
        "colab_type": "code",
        "outputId": "6d04104c-85b1-4d75-c17b-10b3dadc43c8",
        "colab": {
          "base_uri": "https://localhost:8080/",
          "height": 545
        }
      },
      "source": [
        "train.at[train['id'].isin(ids_with_target_error),'target'] = 0\n",
        "train[train['id'].isin(ids_with_target_error)][['text', 'target']]"
      ],
      "execution_count": 0,
      "outputs": [
        {
          "output_type": "execute_result",
          "data": {
            "text/html": [
              "<div>\n",
              "<style scoped>\n",
              "    .dataframe tbody tr th:only-of-type {\n",
              "        vertical-align: middle;\n",
              "    }\n",
              "\n",
              "    .dataframe tbody tr th {\n",
              "        vertical-align: top;\n",
              "    }\n",
              "\n",
              "    .dataframe thead th {\n",
              "        text-align: right;\n",
              "    }\n",
              "</style>\n",
              "<table border=\"1\" class=\"dataframe\">\n",
              "  <thead>\n",
              "    <tr style=\"text-align: right;\">\n",
              "      <th></th>\n",
              "      <th>text</th>\n",
              "      <th>target</th>\n",
              "    </tr>\n",
              "  </thead>\n",
              "  <tbody>\n",
              "    <tr>\n",
              "      <th>229</th>\n",
              "      <td>Ready to get annihilated for the BUCS game</td>\n",
              "      <td>0</td>\n",
              "    </tr>\n",
              "    <tr>\n",
              "      <th>301</th>\n",
              "      <td>Short Reading\\n\\nApocalypse 21:1023 \\n\\nIn the spirit the angel took me to the top of an enormous high mountain and... http://t.co/v8AfTD9zeZ</td>\n",
              "      <td>0</td>\n",
              "    </tr>\n",
              "    <tr>\n",
              "      <th>356</th>\n",
              "      <td>But if you build an army of 100 dogs and their leader is a lion all dogs will fight like a lion.</td>\n",
              "      <td>0</td>\n",
              "    </tr>\n",
              "    <tr>\n",
              "      <th>1822</th>\n",
              "      <td>My iPod crashed..... \\n#WeLoveYouLouis \\n#MTVHottest One Direction</td>\n",
              "      <td>0</td>\n",
              "    </tr>\n",
              "    <tr>\n",
              "      <th>2536</th>\n",
              "      <td>This desperation dislocation\\nSeparation condemnation\\nRevelation in temptation\\nIsolation desolation\\nLet it go and so to find away</td>\n",
              "      <td>0</td>\n",
              "    </tr>\n",
              "    <tr>\n",
              "      <th>2715</th>\n",
              "      <td>Man Currensy really be talkin that talk... I'd be more devastated if he had a ghostwriter than anybody else....</td>\n",
              "      <td>0</td>\n",
              "    </tr>\n",
              "    <tr>\n",
              "      <th>3024</th>\n",
              "      <td>Going to a fest? Bring swimming goggles for the dust storm in the circle pit</td>\n",
              "      <td>0</td>\n",
              "    </tr>\n",
              "    <tr>\n",
              "      <th>4068</th>\n",
              "      <td>Campsite recommendations \\nToilets /shower \\nPub \\nFires \\nNo kids \\nPizza shop \\nForest \\nPretty stream \\nNo midges\\nNo snakes\\nThanks ??</td>\n",
              "      <td>0</td>\n",
              "    </tr>\n",
              "    <tr>\n",
              "      <th>4609</th>\n",
              "      <td>My prediction for the Vikings game this Sunday....dont expect a whole lot. Infact I think Zimmer goal is....injury free 1st game</td>\n",
              "      <td>0</td>\n",
              "    </tr>\n",
              "    <tr>\n",
              "      <th>4611</th>\n",
              "      <td>Dante Exum's knee injury could stem Jazz's hoped-for surge back to ... http://t.co/8PIFutrB5U</td>\n",
              "      <td>0</td>\n",
              "    </tr>\n",
              "    <tr>\n",
              "      <th>4622</th>\n",
              "      <td>@Sport_EN Just being linked to Arsenal causes injury.</td>\n",
              "      <td>0</td>\n",
              "    </tr>\n",
              "    <tr>\n",
              "      <th>4713</th>\n",
              "      <td>Imagine a room with walls that are lava lamps.</td>\n",
              "      <td>0</td>\n",
              "    </tr>\n",
              "    <tr>\n",
              "      <th>4714</th>\n",
              "      <td>The sunset looked like an erupting volcano .... My initial thought was the Pixar short Lava http://t.co/g4sChqFEsT</td>\n",
              "      <td>0</td>\n",
              "    </tr>\n",
              "    <tr>\n",
              "      <th>4732</th>\n",
              "      <td>Check out my Lava lamp dude ???? http://t.co/To9ViqooFv</td>\n",
              "      <td>0</td>\n",
              "    </tr>\n",
              "    <tr>\n",
              "      <th>4820</th>\n",
              "      <td>If abortion is murder then blowjobs are cannibalism and masturbation is mass genocide.</td>\n",
              "      <td>0</td>\n",
              "    </tr>\n",
              "    <tr>\n",
              "      <th>5068</th>\n",
              "      <td>Of course the one day I have to dress professionally aka unsensibly for class is the day I have try and outrun a natural disaster!</td>\n",
              "      <td>0</td>\n",
              "    </tr>\n",
              "  </tbody>\n",
              "</table>\n",
              "</div>"
            ],
            "text/plain": [
              "                                                                                                                                               text  target\n",
              "229                                                                                                      Ready to get annihilated for the BUCS game       0\n",
              "301   Short Reading\\n\\nApocalypse 21:1023 \\n\\nIn the spirit the angel took me to the top of an enormous high mountain and... http://t.co/v8AfTD9zeZ       0\n",
              "356                                                But if you build an army of 100 dogs and their leader is a lion all dogs will fight like a lion.       0\n",
              "1822                                                                             My iPod crashed..... \\n#WeLoveYouLouis \\n#MTVHottest One Direction       0\n",
              "2536           This desperation dislocation\\nSeparation condemnation\\nRevelation in temptation\\nIsolation desolation\\nLet it go and so to find away       0\n",
              "2715                                Man Currensy really be talkin that talk... I'd be more devastated if he had a ghostwriter than anybody else....       0\n",
              "3024                                                                   Going to a fest? Bring swimming goggles for the dust storm in the circle pit       0\n",
              "4068     Campsite recommendations \\nToilets /shower \\nPub \\nFires \\nNo kids \\nPizza shop \\nForest \\nPretty stream \\nNo midges\\nNo snakes\\nThanks ??       0\n",
              "4609               My prediction for the Vikings game this Sunday....dont expect a whole lot. Infact I think Zimmer goal is....injury free 1st game       0\n",
              "4611                                                  Dante Exum's knee injury could stem Jazz's hoped-for surge back to ... http://t.co/8PIFutrB5U       0\n",
              "4622                                                                                          @Sport_EN Just being linked to Arsenal causes injury.       0\n",
              "4713                                                                                                 Imagine a room with walls that are lava lamps.       0\n",
              "4714                             The sunset looked like an erupting volcano .... My initial thought was the Pixar short Lava http://t.co/g4sChqFEsT       0\n",
              "4732                                                                                        Check out my Lava lamp dude ???? http://t.co/To9ViqooFv       0\n",
              "4820                                                         If abortion is murder then blowjobs are cannibalism and masturbation is mass genocide.       0\n",
              "5068             Of course the one day I have to dress professionally aka unsensibly for class is the day I have try and outrun a natural disaster!       0"
            ]
          },
          "metadata": {
            "tags": []
          },
          "execution_count": 14
        }
      ]
    },
    {
      "cell_type": "markdown",
      "metadata": {
        "id": "vmPOYQYkXK5T",
        "colab_type": "text"
      },
      "source": [
        "### Semantically identical tweets"
      ]
    },
    {
      "cell_type": "markdown",
      "metadata": {
        "id": "ckP7uuhS2YOm",
        "colab_type": "text"
      },
      "source": [
        "In addition to mis-labelled tweets, there are duplicated tweets, many of which have inconsistent labels. This draws from the work done [here](https://www.kaggle.com/dmitri9149/transformer-svm-semantically-identical-tweets). Rather than merely ensuring consistency among duplicate tweets, I will find all duplicates, regardless of label consistency, and remove all but one. To do this, I define some helper functions based on code found [here](https://www.quora.com/How-do-I-calculate-Cosine-Similarity-between-tweets)."
      ]
    },
    {
      "cell_type": "markdown",
      "metadata": {
        "id": "YxlfFMATd7Mf",
        "colab_type": "text"
      },
      "source": [
        "#### Helper functions"
      ]
    },
    {
      "cell_type": "markdown",
      "metadata": {
        "id": "4zY2f8Vi3DDr",
        "colab_type": "text"
      },
      "source": [
        "The first helper function serves to create a dictionary from the text passed. The dictionary keys are the words in the text and the values are the frequency of those words."
      ]
    },
    {
      "cell_type": "code",
      "metadata": {
        "id": "nEVFnVx3ZoR9",
        "colab_type": "code",
        "colab": {}
      },
      "source": [
        "import re, math\n",
        "from collections import Counter\n",
        "\n",
        "WORD = re.compile(r'\\w+')\n",
        "\n",
        "def iNeedAVector(text):\n",
        "     words = WORD.findall(text)\n",
        "     return Counter(words)"
      ],
      "execution_count": 0,
      "outputs": []
    },
    {
      "cell_type": "markdown",
      "metadata": {
        "id": "AMRY89L03xPJ",
        "colab_type": "text"
      },
      "source": [
        "Using the iNeedAVector function, I create a new column in the training dataframe that contains the corresponding dictionary for each tweet."
      ]
    },
    {
      "cell_type": "code",
      "metadata": {
        "id": "GFhj5mBF3vnl",
        "colab_type": "code",
        "outputId": "5cec6db3-8690-48f1-f59e-17c6320d2b2b",
        "colab": {
          "base_uri": "https://localhost:8080/"
        }
      },
      "source": [
        "train['vector'] = train['text'].map(lambda x: iNeedAVector(x))\n",
        "train"
      ],
      "execution_count": 0,
      "outputs": [
        {
          "output_type": "execute_result",
          "data": {
            "text/html": [
              "<div>\n",
              "<style scoped>\n",
              "    .dataframe tbody tr th:only-of-type {\n",
              "        vertical-align: middle;\n",
              "    }\n",
              "\n",
              "    .dataframe tbody tr th {\n",
              "        vertical-align: top;\n",
              "    }\n",
              "\n",
              "    .dataframe thead th {\n",
              "        text-align: right;\n",
              "    }\n",
              "</style>\n",
              "<table border=\"1\" class=\"dataframe\">\n",
              "  <thead>\n",
              "    <tr style=\"text-align: right;\">\n",
              "      <th></th>\n",
              "      <th>id</th>\n",
              "      <th>keyword</th>\n",
              "      <th>location</th>\n",
              "      <th>text</th>\n",
              "      <th>target</th>\n",
              "      <th>vector</th>\n",
              "    </tr>\n",
              "  </thead>\n",
              "  <tbody>\n",
              "    <tr>\n",
              "      <th>0</th>\n",
              "      <td>1</td>\n",
              "      <td>NaN</td>\n",
              "      <td>NaN</td>\n",
              "      <td>Our Deeds are the Reason of this #earthquake May ALLAH Forgive us all</td>\n",
              "      <td>1</td>\n",
              "      <td>{'Our': 1, 'Deeds': 1, 'are': 1, 'the': 1, 'Reason': 1, 'of': 1, 'this': 1, 'earthquake': 1, 'May': 1, 'ALLAH': 1, 'Forgive': 1, 'us': 1, 'all': 1}</td>\n",
              "    </tr>\n",
              "    <tr>\n",
              "      <th>1</th>\n",
              "      <td>4</td>\n",
              "      <td>NaN</td>\n",
              "      <td>NaN</td>\n",
              "      <td>Forest fire near La Ronge Sask. Canada</td>\n",
              "      <td>1</td>\n",
              "      <td>{'Forest': 1, 'fire': 1, 'near': 1, 'La': 1, 'Ronge': 1, 'Sask': 1, 'Canada': 1}</td>\n",
              "    </tr>\n",
              "    <tr>\n",
              "      <th>2</th>\n",
              "      <td>5</td>\n",
              "      <td>NaN</td>\n",
              "      <td>NaN</td>\n",
              "      <td>All residents asked to 'shelter in place' are being notified by officers. No other evacuation or shelter in place orders are expected</td>\n",
              "      <td>1</td>\n",
              "      <td>{'All': 1, 'residents': 1, 'asked': 1, 'to': 1, 'shelter': 2, 'in': 2, 'place': 2, 'are': 2, 'being': 1, 'notified': 1, 'by': 1, 'officers': 1, 'No': 1, 'other': 1, 'evacuation': 1, 'or': 1, 'orders': 1, 'expected': 1}</td>\n",
              "    </tr>\n",
              "    <tr>\n",
              "      <th>3</th>\n",
              "      <td>6</td>\n",
              "      <td>NaN</td>\n",
              "      <td>NaN</td>\n",
              "      <td>13,000 people receive #wildfires evacuation orders in California</td>\n",
              "      <td>1</td>\n",
              "      <td>{'13': 1, '000': 1, 'people': 1, 'receive': 1, 'wildfires': 1, 'evacuation': 1, 'orders': 1, 'in': 1, 'California': 1}</td>\n",
              "    </tr>\n",
              "    <tr>\n",
              "      <th>4</th>\n",
              "      <td>7</td>\n",
              "      <td>NaN</td>\n",
              "      <td>NaN</td>\n",
              "      <td>Just got sent this photo from Ruby #Alaska as smoke from #wildfires pours into a school</td>\n",
              "      <td>1</td>\n",
              "      <td>{'Just': 1, 'got': 1, 'sent': 1, 'this': 1, 'photo': 1, 'from': 2, 'Ruby': 1, 'Alaska': 1, 'as': 1, 'smoke': 1, 'wildfires': 1, 'pours': 1, 'into': 1, 'a': 1, 'school': 1}</td>\n",
              "    </tr>\n",
              "    <tr>\n",
              "      <th>...</th>\n",
              "      <td>...</td>\n",
              "      <td>...</td>\n",
              "      <td>...</td>\n",
              "      <td>...</td>\n",
              "      <td>...</td>\n",
              "      <td>...</td>\n",
              "    </tr>\n",
              "    <tr>\n",
              "      <th>7608</th>\n",
              "      <td>10869</td>\n",
              "      <td>NaN</td>\n",
              "      <td>NaN</td>\n",
              "      <td>Two giant cranes holding a bridge collapse into nearby homes http://t.co/STfMbbZFB5</td>\n",
              "      <td>1</td>\n",
              "      <td>{'Two': 1, 'giant': 1, 'cranes': 1, 'holding': 1, 'a': 1, 'bridge': 1, 'collapse': 1, 'into': 1, 'nearby': 1, 'homes': 1, 'http': 1, 't': 1, 'co': 1, 'STfMbbZFB5': 1}</td>\n",
              "    </tr>\n",
              "    <tr>\n",
              "      <th>7609</th>\n",
              "      <td>10870</td>\n",
              "      <td>NaN</td>\n",
              "      <td>NaN</td>\n",
              "      <td>@aria_ahrary @TheTawniest The out of control wild fires in California even in the Northern part of the state. Very troubling.</td>\n",
              "      <td>1</td>\n",
              "      <td>{'aria_ahrary': 1, 'TheTawniest': 1, 'The': 1, 'out': 1, 'of': 2, 'control': 1, 'wild': 1, 'fires': 1, 'in': 2, 'California': 1, 'even': 1, 'the': 2, 'Northern': 1, 'part': 1, 'state': 1, 'Very': 1, 'troubling': 1}</td>\n",
              "    </tr>\n",
              "    <tr>\n",
              "      <th>7610</th>\n",
              "      <td>10871</td>\n",
              "      <td>NaN</td>\n",
              "      <td>NaN</td>\n",
              "      <td>M1.94 [01:04 UTC]?5km S of Volcano Hawaii. http://t.co/zDtoyd8EbJ</td>\n",
              "      <td>1</td>\n",
              "      <td>{'M1': 1, '94': 1, '01': 1, '04': 1, 'UTC': 1, '5km': 1, 'S': 1, 'of': 1, 'Volcano': 1, 'Hawaii': 1, 'http': 1, 't': 1, 'co': 1, 'zDtoyd8EbJ': 1}</td>\n",
              "    </tr>\n",
              "    <tr>\n",
              "      <th>7611</th>\n",
              "      <td>10872</td>\n",
              "      <td>NaN</td>\n",
              "      <td>NaN</td>\n",
              "      <td>Police investigating after an e-bike collided with a car in Little Portugal. E-bike rider suffered serious non-life threatening injuries.</td>\n",
              "      <td>1</td>\n",
              "      <td>{'Police': 1, 'investigating': 1, 'after': 1, 'an': 1, 'e': 1, 'bike': 2, 'collided': 1, 'with': 1, 'a': 1, 'car': 1, 'in': 1, 'Little': 1, 'Portugal': 1, 'E': 1, 'rider': 1, 'suffered': 1, 'serious': 1, 'non': 1, 'life': 1, 'threatening': 1, 'injuries': 1}</td>\n",
              "    </tr>\n",
              "    <tr>\n",
              "      <th>7612</th>\n",
              "      <td>10873</td>\n",
              "      <td>NaN</td>\n",
              "      <td>NaN</td>\n",
              "      <td>The Latest: More Homes Razed by Northern California Wildfire - ABC News http://t.co/YmY4rSkQ3d</td>\n",
              "      <td>1</td>\n",
              "      <td>{'The': 1, 'Latest': 1, 'More': 1, 'Homes': 1, 'Razed': 1, 'by': 1, 'Northern': 1, 'California': 1, 'Wildfire': 1, 'ABC': 1, 'News': 1, 'http': 1, 't': 1, 'co': 1, 'YmY4rSkQ3d': 1}</td>\n",
              "    </tr>\n",
              "  </tbody>\n",
              "</table>\n",
              "<p>7613 rows × 6 columns</p>\n",
              "</div>"
            ],
            "text/plain": [
              "         id  ...                                                                                                                                                                                                                                                             vector\n",
              "0         1  ...                                                                                                                {'Our': 1, 'Deeds': 1, 'are': 1, 'the': 1, 'Reason': 1, 'of': 1, 'this': 1, 'earthquake': 1, 'May': 1, 'ALLAH': 1, 'Forgive': 1, 'us': 1, 'all': 1}\n",
              "1         4  ...                                                                                                                                                                                   {'Forest': 1, 'fire': 1, 'near': 1, 'La': 1, 'Ronge': 1, 'Sask': 1, 'Canada': 1}\n",
              "2         5  ...                                         {'All': 1, 'residents': 1, 'asked': 1, 'to': 1, 'shelter': 2, 'in': 2, 'place': 2, 'are': 2, 'being': 1, 'notified': 1, 'by': 1, 'officers': 1, 'No': 1, 'other': 1, 'evacuation': 1, 'or': 1, 'orders': 1, 'expected': 1}\n",
              "3         6  ...                                                                                                                                             {'13': 1, '000': 1, 'people': 1, 'receive': 1, 'wildfires': 1, 'evacuation': 1, 'orders': 1, 'in': 1, 'California': 1}\n",
              "4         7  ...                                                                                        {'Just': 1, 'got': 1, 'sent': 1, 'this': 1, 'photo': 1, 'from': 2, 'Ruby': 1, 'Alaska': 1, 'as': 1, 'smoke': 1, 'wildfires': 1, 'pours': 1, 'into': 1, 'a': 1, 'school': 1}\n",
              "...     ...  ...                                                                                                                                                                                                                                                                ...\n",
              "7608  10869  ...                                                                                             {'Two': 1, 'giant': 1, 'cranes': 1, 'holding': 1, 'a': 1, 'bridge': 1, 'collapse': 1, 'into': 1, 'nearby': 1, 'homes': 1, 'http': 1, 't': 1, 'co': 1, 'STfMbbZFB5': 1}\n",
              "7609  10870  ...                                             {'aria_ahrary': 1, 'TheTawniest': 1, 'The': 1, 'out': 1, 'of': 2, 'control': 1, 'wild': 1, 'fires': 1, 'in': 2, 'California': 1, 'even': 1, 'the': 2, 'Northern': 1, 'part': 1, 'state': 1, 'Very': 1, 'troubling': 1}\n",
              "7610  10871  ...                                                                                                                  {'M1': 1, '94': 1, '01': 1, '04': 1, 'UTC': 1, '5km': 1, 'S': 1, 'of': 1, 'Volcano': 1, 'Hawaii': 1, 'http': 1, 't': 1, 'co': 1, 'zDtoyd8EbJ': 1}\n",
              "7611  10872  ...  {'Police': 1, 'investigating': 1, 'after': 1, 'an': 1, 'e': 1, 'bike': 2, 'collided': 1, 'with': 1, 'a': 1, 'car': 1, 'in': 1, 'Little': 1, 'Portugal': 1, 'E': 1, 'rider': 1, 'suffered': 1, 'serious': 1, 'non': 1, 'life': 1, 'threatening': 1, 'injuries': 1}\n",
              "7612  10873  ...                                                                               {'The': 1, 'Latest': 1, 'More': 1, 'Homes': 1, 'Razed': 1, 'by': 1, 'Northern': 1, 'California': 1, 'Wildfire': 1, 'ABC': 1, 'News': 1, 'http': 1, 't': 1, 'co': 1, 'YmY4rSkQ3d': 1}\n",
              "\n",
              "[7613 rows x 6 columns]"
            ]
          },
          "metadata": {
            "tags": []
          },
          "execution_count": 16
        }
      ]
    },
    {
      "cell_type": "markdown",
      "metadata": {
        "id": "09sD0KDJ4PuN",
        "colab_type": "text"
      },
      "source": [
        "With the newly created column, I can compute the cosine similarity between pairs of tweets using the function below."
      ]
    },
    {
      "cell_type": "code",
      "metadata": {
        "id": "7cRUJ_Ct3EXV",
        "colab_type": "code",
        "colab": {}
      },
      "source": [
        "def iNeedACosine(v1, v2):\n",
        "     intersection = set(v1.keys()) & set(v2.keys())\n",
        "     nume = sum([v1[x] * v2[x] for x in intersection])\n",
        "     test1 = sum([v1[x]**2 for x in v1.keys()])\n",
        "     test2 = sum([v2[x]**2 for x in v2.keys()])\n",
        "     den = math.sqrt(test1) * math.sqrt(test2)\n",
        "     if not den:\n",
        "        return 0.0\n",
        "     else:\n",
        "        return float(nume) / den"
      ],
      "execution_count": 0,
      "outputs": []
    },
    {
      "cell_type": "markdown",
      "metadata": {
        "id": "aSsKvor544SD",
        "colab_type": "text"
      },
      "source": [
        "Cosine similarity measures the cosine angle between tow vectors projected in multi-dimensional space. This is a better measure of similarity than Euclidean distance, because it can identify similarity among documents of different sizes. The smaller the angle, the higher cosine similarity.\n",
        "\n",
        "<br>\n",
        "\n",
        "With the newly defined functions, I loop over each of the tweets in the train set and calculate the cosine similarity with all other tweets. Tweets with cosine similarity greater than 90% are stored in a dictionary (`similar`) with the following structure:\n",
        "\n",
        "- **Keys**: Base tweet\n",
        "- **Values**: Array of tweets with cosine similarty above 90% with the base tweet.\n",
        "\n",
        "<br>\n",
        "\n",
        "Tweets that have been captured as values for a base tweet are stored in an array (`tested`), preventing them from being looped over again."
      ]
    },
    {
      "cell_type": "markdown",
      "metadata": {
        "id": "i6DJFmkWiETV",
        "colab_type": "text"
      },
      "source": [
        "#### Searching for similar tweets"
      ]
    },
    {
      "cell_type": "code",
      "metadata": {
        "id": "fzx9sjrDfGy7",
        "colab_type": "code",
        "colab": {}
      },
      "source": [
        "from collections import defaultdict\n",
        "\n",
        "similar = defaultdict(list)\n",
        "tested = []\n",
        "\n",
        "for i in range(len(train)):\n",
        "  if i not in tested:\n",
        "    for j in range(len(train)):\n",
        "      if j > i and j not in tested:\n",
        "        sim = iNeedACosine(train['vector'][i], train['vector'][j])\n",
        "        if sim > 0.9:\n",
        "          tested.append(j)\n",
        "          similar[i].append(j)\n",
        "  # if i in similar.keys():\n",
        "  #   print(i, similar[i])"
      ],
      "execution_count": 0,
      "outputs": []
    },
    {
      "cell_type": "markdown",
      "metadata": {
        "id": "MUuH4i2WDerQ",
        "colab_type": "text"
      },
      "source": [
        "Before continuing, I create a dictionary for similar tweets in the test set as well. These may be useful later on, if there are descrepancies in predicted labels for the test set."
      ]
    },
    {
      "cell_type": "code",
      "metadata": {
        "id": "3cmB8hV1DvL9",
        "colab_type": "code",
        "colab": {}
      },
      "source": [
        "test['vector'] = test['text'].map(lambda x: iNeedAVector(x))"
      ],
      "execution_count": 0,
      "outputs": []
    },
    {
      "cell_type": "code",
      "metadata": {
        "id": "oiqBKfXkDjw6",
        "colab_type": "code",
        "colab": {}
      },
      "source": [
        "similar_test = defaultdict(list)\n",
        "tested = []\n",
        "\n",
        "for i in range(len(test)):\n",
        "  if i not in tested:\n",
        "    for j in range(len(test)):\n",
        "      if j > i and j not in tested:\n",
        "        sim = iNeedACosine(test['vector'][i], test['vector'][j])\n",
        "        if sim > 0.9:\n",
        "          tested.append(j)\n",
        "          similar_test[i].append(j)\n",
        "  # if i in similar_test.keys():\n",
        "  #   print(i, similar_test[i])"
      ],
      "execution_count": 0,
      "outputs": []
    },
    {
      "cell_type": "markdown",
      "metadata": {
        "id": "E4ewlW7gSiLS",
        "colab_type": "text"
      },
      "source": [
        "To avoid having to run the loops above repeatedly, the objects, `similar` and `similar_test`, are saved using `pickle` with the code below."
      ]
    },
    {
      "cell_type": "code",
      "metadata": {
        "id": "s4I0JB0rURnB",
        "colab_type": "code",
        "colab": {}
      },
      "source": [
        "with open('similar_tweets.pkl', 'wb') as f:\n",
        "    pickle.dump([similar, similar_test], f)"
      ],
      "execution_count": 0,
      "outputs": []
    },
    {
      "cell_type": "markdown",
      "metadata": {
        "id": "MH8ezwEtS2g7",
        "colab_type": "text"
      },
      "source": [
        "With the objects saved, we can simply load them when needed using the code below."
      ]
    },
    {
      "cell_type": "code",
      "metadata": {
        "id": "_CCFjQwnUr56",
        "colab_type": "code",
        "colab": {}
      },
      "source": [
        "with open('similar_tweets.pkl', 'rb') as f:\n",
        "    similar, similar_test = pickle.load(f)"
      ],
      "execution_count": 0,
      "outputs": []
    },
    {
      "cell_type": "markdown",
      "metadata": {
        "id": "hjNQ6dgATFKt",
        "colab_type": "text"
      },
      "source": [
        "#### Exploring similar tweets"
      ]
    },
    {
      "cell_type": "code",
      "metadata": {
        "id": "Kmz0PMieyV8T",
        "colab_type": "code",
        "outputId": "74cffde2-2612-4514-abc7-5775c4a34726",
        "colab": {
          "base_uri": "https://localhost:8080/",
          "height": 51
        }
      },
      "source": [
        "print('{} duplicated tweets in the train set.'.format(len(similar)))\n",
        "print('{} duplicate tweets in the test set.'.format(len(similar_test)))"
      ],
      "execution_count": 0,
      "outputs": [
        {
          "output_type": "stream",
          "text": [
            "342 duplicated tweets in the train set.\n",
            "113 duplicate tweets in the test set.\n"
          ],
          "name": "stdout"
        }
      ]
    },
    {
      "cell_type": "markdown",
      "metadata": {
        "id": "fwCdW5kO1DiD",
        "colab_type": "text"
      },
      "source": [
        "As we see, there are many tweets that are very similar. Some of these tweets have inconsitent labels. See the example below."
      ]
    },
    {
      "cell_type": "code",
      "metadata": {
        "colab_type": "code",
        "outputId": "459c60e5-6ddc-4810-c5fe-247020962568",
        "id": "_XIBgBFTBCiR",
        "colab": {
          "base_uri": "https://localhost:8080/",
          "height": 576
        }
      },
      "source": [
        "similar_group = [4391, 4392, 4393, 4394, 4396, 4397, 4399, 4400, 4403, 4404, 4405, 4407, 4408, 4412, 4414, 4415, 4420]\n",
        "train.loc[similar_group,['text','target']]"
      ],
      "execution_count": 0,
      "outputs": [
        {
          "output_type": "execute_result",
          "data": {
            "text/html": [
              "<div>\n",
              "<style scoped>\n",
              "    .dataframe tbody tr th:only-of-type {\n",
              "        vertical-align: middle;\n",
              "    }\n",
              "\n",
              "    .dataframe tbody tr th {\n",
              "        vertical-align: top;\n",
              "    }\n",
              "\n",
              "    .dataframe thead th {\n",
              "        text-align: right;\n",
              "    }\n",
              "</style>\n",
              "<table border=\"1\" class=\"dataframe\">\n",
              "  <thead>\n",
              "    <tr style=\"text-align: right;\">\n",
              "      <th></th>\n",
              "      <th>text</th>\n",
              "      <th>target</th>\n",
              "    </tr>\n",
              "  </thead>\n",
              "  <tbody>\n",
              "    <tr>\n",
              "      <th>4391</th>\n",
              "      <td>#hot  Funtenna: hijacking computers to send data as sound waves [Black Hat 2015] http://t.co/gUJNPLJVvt #prebreak #best</td>\n",
              "      <td>0</td>\n",
              "    </tr>\n",
              "    <tr>\n",
              "      <th>4392</th>\n",
              "      <td>#hot  Funtenna: hijacking computers to send data as sound waves [Black Hat 2015] http://t.co/J2aQs5loxu #prebreak #best</td>\n",
              "      <td>1</td>\n",
              "    </tr>\n",
              "    <tr>\n",
              "      <th>4393</th>\n",
              "      <td>#hot  Funtenna: hijacking computers to send data as sound waves [Black Hat 2015] http://t.co/s4PNIhJQX7 #prebreak #best</td>\n",
              "      <td>0</td>\n",
              "    </tr>\n",
              "    <tr>\n",
              "      <th>4394</th>\n",
              "      <td>#hot  Funtenna: hijacking computers to send data as sound waves [Black Hat 2015] http://t.co/cx6auPneMu #prebreak #best</td>\n",
              "      <td>0</td>\n",
              "    </tr>\n",
              "    <tr>\n",
              "      <th>4396</th>\n",
              "      <td>#hot  Funtenna: hijacking computers to send data as sound waves [Black Hat 2015] http://t.co/wvTPuRYx63 #prebreak #best</td>\n",
              "      <td>0</td>\n",
              "    </tr>\n",
              "    <tr>\n",
              "      <th>4397</th>\n",
              "      <td>#hot  Funtenna: hijacking computers to send data as sound waves [Black Hat 2015] http://t.co/J5onxFwLAo #prebreak #best</td>\n",
              "      <td>0</td>\n",
              "    </tr>\n",
              "    <tr>\n",
              "      <th>4399</th>\n",
              "      <td>#hot  Funtenna: hijacking computers to send data as sound waves [Black Hat 2015] http://t.co/nQiObcZKrT #prebreak #best</td>\n",
              "      <td>0</td>\n",
              "    </tr>\n",
              "    <tr>\n",
              "      <th>4400</th>\n",
              "      <td>#hot  Funtenna: hijacking computers to send data as sound waves [Black Hat 2015] http://t.co/aAtt5aMnmD #prebreak #best</td>\n",
              "      <td>0</td>\n",
              "    </tr>\n",
              "    <tr>\n",
              "      <th>4403</th>\n",
              "      <td>#hot  Funtenna: hijacking computers to send data as sound waves [Black Hat 2015] http://t.co/qj3PVgaVN7 #prebreak #best</td>\n",
              "      <td>1</td>\n",
              "    </tr>\n",
              "    <tr>\n",
              "      <th>4404</th>\n",
              "      <td>#hot  Funtenna: hijacking computers to send data as sound waves [Black Hat 2015] http://t.co/6AqrNanKFD #prebreak #best</td>\n",
              "      <td>0</td>\n",
              "    </tr>\n",
              "    <tr>\n",
              "      <th>4405</th>\n",
              "      <td>#hot  Funtenna: hijacking computers to send data as sound waves [Black Hat 2015] http://t.co/8JcYXhq1AZ #prebreak #best</td>\n",
              "      <td>0</td>\n",
              "    </tr>\n",
              "    <tr>\n",
              "      <th>4407</th>\n",
              "      <td>#hot  Funtenna: hijacking computers to send data as sound waves [Black Hat 2015] http://t.co/gexHzU1VK8 #prebreak #best</td>\n",
              "      <td>0</td>\n",
              "    </tr>\n",
              "    <tr>\n",
              "      <th>4408</th>\n",
              "      <td>#hot  Funtenna: hijacking computers to send data as sound waves [Black Hat 2015] http://t.co/MIs0RjxuIr #prebreak #best</td>\n",
              "      <td>0</td>\n",
              "    </tr>\n",
              "    <tr>\n",
              "      <th>4412</th>\n",
              "      <td>#hot  Funtenna: hijacking computers to send data as sound waves [Black Hat 2015] http://t.co/G62txymzBv #prebreak #best</td>\n",
              "      <td>0</td>\n",
              "    </tr>\n",
              "    <tr>\n",
              "      <th>4414</th>\n",
              "      <td>#hot  Funtenna: hijacking computers to send data as sound waves [Black Hat 2015] http://t.co/cOMuiOk3mP #prebreak #best</td>\n",
              "      <td>1</td>\n",
              "    </tr>\n",
              "    <tr>\n",
              "      <th>4415</th>\n",
              "      <td>#hot  Funtenna: hijacking computers to send data as sound waves [Black Hat 2015] http://t.co/xV3D9bPjHi #prebreak #best</td>\n",
              "      <td>1</td>\n",
              "    </tr>\n",
              "    <tr>\n",
              "      <th>4420</th>\n",
              "      <td>#hot  Funtenna: hijacking computers to send data as sound waves [Black Hat 2015] http://t.co/UMgD92wLjA #prebreak #best</td>\n",
              "      <td>1</td>\n",
              "    </tr>\n",
              "  </tbody>\n",
              "</table>\n",
              "</div>"
            ],
            "text/plain": [
              "                                                                                                                         text  target\n",
              "4391  #hot  Funtenna: hijacking computers to send data as sound waves [Black Hat 2015] http://t.co/gUJNPLJVvt #prebreak #best       0\n",
              "4392  #hot  Funtenna: hijacking computers to send data as sound waves [Black Hat 2015] http://t.co/J2aQs5loxu #prebreak #best       1\n",
              "4393  #hot  Funtenna: hijacking computers to send data as sound waves [Black Hat 2015] http://t.co/s4PNIhJQX7 #prebreak #best       0\n",
              "4394  #hot  Funtenna: hijacking computers to send data as sound waves [Black Hat 2015] http://t.co/cx6auPneMu #prebreak #best       0\n",
              "4396  #hot  Funtenna: hijacking computers to send data as sound waves [Black Hat 2015] http://t.co/wvTPuRYx63 #prebreak #best       0\n",
              "4397  #hot  Funtenna: hijacking computers to send data as sound waves [Black Hat 2015] http://t.co/J5onxFwLAo #prebreak #best       0\n",
              "4399  #hot  Funtenna: hijacking computers to send data as sound waves [Black Hat 2015] http://t.co/nQiObcZKrT #prebreak #best       0\n",
              "4400  #hot  Funtenna: hijacking computers to send data as sound waves [Black Hat 2015] http://t.co/aAtt5aMnmD #prebreak #best       0\n",
              "4403  #hot  Funtenna: hijacking computers to send data as sound waves [Black Hat 2015] http://t.co/qj3PVgaVN7 #prebreak #best       1\n",
              "4404  #hot  Funtenna: hijacking computers to send data as sound waves [Black Hat 2015] http://t.co/6AqrNanKFD #prebreak #best       0\n",
              "4405  #hot  Funtenna: hijacking computers to send data as sound waves [Black Hat 2015] http://t.co/8JcYXhq1AZ #prebreak #best       0\n",
              "4407  #hot  Funtenna: hijacking computers to send data as sound waves [Black Hat 2015] http://t.co/gexHzU1VK8 #prebreak #best       0\n",
              "4408  #hot  Funtenna: hijacking computers to send data as sound waves [Black Hat 2015] http://t.co/MIs0RjxuIr #prebreak #best       0\n",
              "4412  #hot  Funtenna: hijacking computers to send data as sound waves [Black Hat 2015] http://t.co/G62txymzBv #prebreak #best       0\n",
              "4414  #hot  Funtenna: hijacking computers to send data as sound waves [Black Hat 2015] http://t.co/cOMuiOk3mP #prebreak #best       1\n",
              "4415  #hot  Funtenna: hijacking computers to send data as sound waves [Black Hat 2015] http://t.co/xV3D9bPjHi #prebreak #best       1\n",
              "4420  #hot  Funtenna: hijacking computers to send data as sound waves [Black Hat 2015] http://t.co/UMgD92wLjA #prebreak #best       1"
            ]
          },
          "metadata": {
            "tags": []
          },
          "execution_count": 21
        }
      ]
    },
    {
      "cell_type": "markdown",
      "metadata": {
        "id": "fuQUkx2w1NV1",
        "colab_type": "text"
      },
      "source": [
        "We will deal with duplicate tweets by removing all but one and assigning 1 or 0, according to which side of 0.5 the mean of the labels is on. For example, the 17 dupicates above only have five '1' labels. Therefore, the mean is close to zero and a zero label will be assigned. This is appropriate given the tweet's content.\n",
        "\n",
        "<br>\n",
        "\n",
        "For tweets that are split, 50/50, I will manually label them, if there aren't too many. If there are too many, I could assign them a default value or a random value."
      ]
    },
    {
      "cell_type": "markdown",
      "metadata": {
        "id": "NiVmxFZLT5tA",
        "colab_type": "text"
      },
      "source": [
        "#### Treating duplicates"
      ]
    },
    {
      "cell_type": "markdown",
      "metadata": {
        "id": "J9KDVRncT8EM",
        "colab_type": "text"
      },
      "source": [
        "The length of the train set prior to dealing with duplicates is printed here."
      ]
    },
    {
      "cell_type": "code",
      "metadata": {
        "id": "rPpuqss-BqRy",
        "colab_type": "code",
        "outputId": "ae2b83ff-ba4c-419d-a05b-d39c87a67cdf",
        "colab": {
          "base_uri": "https://localhost:8080/",
          "height": 34
        }
      },
      "source": [
        "len(train)"
      ],
      "execution_count": 0,
      "outputs": [
        {
          "output_type": "execute_result",
          "data": {
            "text/plain": [
              "7613"
            ]
          },
          "metadata": {
            "tags": []
          },
          "execution_count": 22
        }
      ]
    },
    {
      "cell_type": "markdown",
      "metadata": {
        "id": "94pFnwReUBD3",
        "colab_type": "text"
      },
      "source": [
        "The code below serves to take the mean label value of all duplicate tweets and assign new values for the base tweets. Following this, non-base tweets are removed. Target values are assigned according to the following scheme:\n",
        "\n",
        "- **1** - mean label of duplicates is _above_ 0.5\n",
        "- **0** - mean label of duplicates is _below_ 0.5\n",
        "- **0.5** - mean label of duplicates _equal_ 0.5"
      ]
    },
    {
      "cell_type": "code",
      "metadata": {
        "id": "FzTDUHiV5RCv",
        "colab_type": "code",
        "colab": {}
      },
      "source": [
        "for k in similar.keys():\n",
        "  summation = train.loc[similar[k],:]['target'].sum() + train.loc[k,:]['target']\n",
        "  count = len(similar[k]) + 1\n",
        "  mean = summation/count\n",
        "  if mean > 0.5:\n",
        "    train.loc[k,'target'] = 1\n",
        "  elif mean < 0.5:\n",
        "    train.loc[k,'target'] = 0\n",
        "  else:\n",
        "    train.loc[k,'target'] = 0.5\n",
        "  train = train.drop(similar[k])\n",
        "\n",
        "train = train.reset_index(drop=True)"
      ],
      "execution_count": 0,
      "outputs": []
    },
    {
      "cell_type": "markdown",
      "metadata": {
        "id": "nOyHS4W3Utzr",
        "colab_type": "text"
      },
      "source": [
        "The new length of the train set can be seen below."
      ]
    },
    {
      "cell_type": "code",
      "metadata": {
        "id": "LbDcKY0WGcRl",
        "colab_type": "code",
        "outputId": "1ea6526b-1134-4675-a89b-8502a33aeccc",
        "colab": {
          "base_uri": "https://localhost:8080/",
          "height": 34
        }
      },
      "source": [
        "len(train)"
      ],
      "execution_count": 0,
      "outputs": [
        {
          "output_type": "execute_result",
          "data": {
            "text/plain": [
              "6842"
            ]
          },
          "metadata": {
            "tags": []
          },
          "execution_count": 24
        }
      ]
    },
    {
      "cell_type": "markdown",
      "metadata": {
        "id": "ioRl6a2TVbT6",
        "colab_type": "text"
      },
      "source": [
        "#### Manually assigning labels"
      ]
    },
    {
      "cell_type": "markdown",
      "metadata": {
        "id": "SGvF_K9-UzFw",
        "colab_type": "text"
      },
      "source": [
        "Below is printed the number of tweets that have been labelled `0.5`, corresponding to split vote among duplicated tweets regarding which label to assign."
      ]
    },
    {
      "cell_type": "code",
      "metadata": {
        "id": "o7bz8FxRACoa",
        "colab_type": "code",
        "outputId": "5f44f666-419c-4c5d-c741-143c5adfed30",
        "colab": {
          "base_uri": "https://localhost:8080/",
          "height": 34
        }
      },
      "source": [
        "len(train[train['target'] == 0.5])"
      ],
      "execution_count": 0,
      "outputs": [
        {
          "output_type": "execute_result",
          "data": {
            "text/plain": [
              "40"
            ]
          },
          "metadata": {
            "tags": []
          },
          "execution_count": 25
        }
      ]
    },
    {
      "cell_type": "markdown",
      "metadata": {
        "id": "Anhx6_sBGeSS",
        "colab_type": "text"
      },
      "source": [
        "We see that 40 tweets were assigned 0.5, because the vote was split. This is a relatively low number. Proper labels can be assigned manually."
      ]
    },
    {
      "cell_type": "code",
      "metadata": {
        "id": "fUlk0Z3gHL84",
        "colab_type": "code",
        "outputId": "58a4b7e2-e95e-4080-9000-8cb7db08f2e2",
        "colab": {
          "base_uri": "https://localhost:8080/",
          "height": 714
        }
      },
      "source": [
        "print(train[train['target'] == 0.5][['text']])"
      ],
      "execution_count": 0,
      "outputs": [
        {
          "output_type": "stream",
          "text": [
            "                                                                                                                                                      text\n",
            "224                            World Annihilation vs Self Transformation http://t.co/pyehwodWun Aliens Attack to Exterminate Humans http://t.co/pB2N77nSKz\n",
            "471                         STAR WARS POWER OF THE JEDI COLLECTION 1 BATTLE DROID HASBRO - Full read by eBay http://t.co/xFguklrlTf http://t.co/FeGu8hWMc4\n",
            "509                                             #world FedEx no longer to transport bioterror germs in wake of anthrax lab mishaps  http://t.co/wvExJjRG6E\n",
            "525                                                                                                                             To fight bioterrorism sir.\n",
            "1054            Ashes 2015: AustraliaÛªs collapse at Trent Bridge among worst in history: England bundled out Australia for 60 ... http://t.co/985DwWPdEt\n",
            "1079                                                                  Mmmmmm I'm burning.... I'm burning buildings I'm building.... Oooooohhhh oooh ooh...\n",
            "1096                                                                    I Pledge Allegiance To The P.O.P.E. And The Burning Buildings of Epic City. ??????\n",
            "1103                         like for the music video I want some real action shit like burning buildings and police chases not some weak ben winston shit\n",
            "1112                            Fire hazard associated with installation of non-compliant external cladding on http://t.co/bTPQdehl3p - By @www.cbplawyers\n",
            "1947                                                   Ted Cruz Bashes Obama Comparison GOP To Iranians Shouting 'Death To America' http://t.co/cuFGVupKzi\n",
            "1971                 Bigamist and his 'first' wife are charged in the deaths of his 'second' pregnant wife her child 8 her... http://t.co/dlAub2nVtN #news\n",
            "2076                                                 Why are you deluged with low self-image? Take the quiz: http://t.co/XsPqdOrIqj http://t.co/CQYvFR4UCy\n",
            "2292                  @binellithresa TY for the follow Go To http://t.co/UAN05TNkSW BRUTALLY ABUSED+DESOLATE&amp;LOST + HER LOVELY MUM DIES..Is it Murder?\n",
            "2442                                                                                             Apollo Brown ft. M.O.P- Detonate - http://t.co/OMfGv9ma1W\n",
            "2445                                                                                        Detonate (feat. M.O.P.) by Apollo Brown http://t.co/fllaBzGCRc\n",
            "2656                                                                                       @cameronhigdon34 I can't drown my demons they know how to swim.\n",
            "2807                                                                                                                               Earthquake drill ??????\n",
            "2880           Survival Kit Whistle Fire Starter Wire Saw Cree Torch Emergency Blanket S knife  - Full reÛ_ http://t.co/cm7HqwWUlZ http://t.co/KdwAzHQTov\n",
            "3319                                                           Las Vegas in top 5 cities for red-light running fatalities - News3LV http://t.co/eXdbcx4gCR\n",
            "3372                                                     Kosciusko police investigating pedestrian fatality hit by a train Thursday http://t.co/JILfbR0UfP\n",
            "3698                                                    How is it one careless match can start a forest fire but it takes a whole box to start a campfire?\n",
            "3849                                                                          Choking Hazard Prompts Recall Of Kraft Cheese Singles http://t.co/nJLqRqcnL9\n",
            "3897                                                                                                   Caution: breathing may be hazardous to your health.\n",
            "4008                                               Governor weighs parole for California school bus hijacker http://t.co/7NPBfRzEJL http://t.co/Y0kByy8nce\n",
            "4009                                                        RT NotExplained: The only known image of infamous hijacker D.B. Cooper. http://t.co/JlzK2HdeTG\n",
            "4341                           World War II book LIGHTNING JOE An Autobiography by General J. Lawton Collins http://t.co/BzdfznKvoG http://t.co/eRhdH37rDh\n",
            "4475                                                               I liked a @YouTube video from @itsjustinstuart http://t.co/oDV3RqS8JU GUN RANGE MAYHEM!\n",
            "4816                                     Pandemonium In Aba As Woman Delivers Baby Without Face (Photos).... http://t.co/lYXNjlxL8s http://t.co/CXYFqN3ue4\n",
            "5036                                                                               'The way you move is like a full on rainstorm and I'm a house of cards'\n",
            "5060                                                                                           wowo--=== 12000 Nigerian refugees repatriated from Cameroon\n",
            "5174                                                           To All The Meat-Loving Feminists Of The World Riot Grill Has Arrived http://t.co/TiOst8oKvX\n",
            "5198                                 http://t.co/wspuXOrEWb  Cindy Noonan@CindyNoonan-Heartbreak in #Baltimore #Rioting #YAHIstorical #UndergroundRailraod\n",
            "5225            @accionempresa ChinaÛªs stock market crash this summer has sparked interest from bargain hunt... http://t.co/s0Eyq1wEHE @gerenciatodos å¨\n",
            "5468                                      Do you feel like you are sinking in low self-image? Take the quiz: http://t.co/JvjALYg2n1 http://t.co/qXMWELJbc0\n",
            "5947                                                In #islam saving a person is equal in reward to saving all humans! Islam is the opposite of terrorism!\n",
            "5960                                                 HereÛªs how media in Pakistan covered the capture of terrorist Mohammed Naved http://t.co/3MtWh0jJns\n",
            "6006                                                                                        @OriginalFunko @Spencers THUNDER BUDDYS!!!! THUNDER BUDDYS!!!!\n",
            "6141                                                                         Hollywood Movie About Trapped Miners Released in Chile http://t.co/EXQKmlg4NJ\n",
            "6251  @helene_yancey GodsLove &amp; #thankU my sister Helene for RT of NEW VIDEO http://t.co/cybKsXHF7d The Coming Apocalyptic US Earthquake &amp; Tsunami\n",
            "6660              TWIA board approves 5 percent rate hike: The Texas Windstorm Insurance Association (TWIA) Board of Directors v... http://t.co/esEMjRn5cC\n"
          ],
          "name": "stdout"
        }
      ]
    },
    {
      "cell_type": "markdown",
      "metadata": {
        "id": "UDGiSymJVPBT",
        "colab_type": "text"
      },
      "source": [
        "Having read each tweet individually, I have created a dictionary with the **tweet index** and the **manually assigned label**"
      ]
    },
    {
      "cell_type": "code",
      "metadata": {
        "id": "OeXjxYS1XgLs",
        "colab_type": "code",
        "colab": {}
      },
      "source": [
        "manual_labels = {\n",
        "    224:0, 471:0, 509:1, 525:0, 1054:1,\n",
        "    1079:0, 1096:0, 1103:0, 1112:1, 1947:0,\n",
        "    1971:0, 2076:0, 2292:0, 2442:0, 2445:0,\n",
        "    2656:0, 2807:1, 2880:0, 3319:0, 3372:1,\n",
        "    3698:0, 3849:0, 3897:0, 4008:0, 4009:0,\n",
        "    4341:0, 4475:0, 4816:0, 5036:0, 5060:0,\n",
        "    5174:0, 5198:1, 5225:0, 5468:0, 5947:0,\n",
        "    5960:0, 6006:0, 6141:0, 6251:0, 6660:0\n",
        "}\n",
        "\n",
        "for k,v in manual_labels.items():\n",
        "  train.loc[k,'target'] = v"
      ],
      "execution_count": 0,
      "outputs": []
    },
    {
      "cell_type": "code",
      "metadata": {
        "id": "cwDxM9bVZvho",
        "colab_type": "code",
        "outputId": "7c524ee6-89a6-4afc-99f0-4cabe0cc80d5",
        "colab": {
          "base_uri": "https://localhost:8080/",
          "height": 34
        }
      },
      "source": [
        "len(train[train['target'] == 0.5])"
      ],
      "execution_count": 0,
      "outputs": [
        {
          "output_type": "execute_result",
          "data": {
            "text/plain": [
              "0"
            ]
          },
          "metadata": {
            "tags": []
          },
          "execution_count": 28
        }
      ]
    },
    {
      "cell_type": "markdown",
      "metadata": {
        "id": "XsFf7rMiVfRS",
        "colab_type": "text"
      },
      "source": [
        "All split votes have been resolved. Next, I will establish some baseline models upon which I can improve with cleaning."
      ]
    },
    {
      "cell_type": "markdown",
      "metadata": {
        "colab_type": "text",
        "id": "fP3_xWdvGtbF"
      },
      "source": [
        "<br>\n",
        "<br>"
      ]
    },
    {
      "cell_type": "markdown",
      "metadata": {
        "id": "8N69szSDj3kJ",
        "colab_type": "text"
      },
      "source": [
        "# 3. Baseline Models"
      ]
    },
    {
      "cell_type": "markdown",
      "metadata": {
        "id": "uBS_DHu4DLP4",
        "colab_type": "text"
      },
      "source": [
        "In this section, I establish baseline Logistic Regression, Naive Bayes, and Support Vector Machine (SVM) models. Prior to doing so, I create embedded documents of the tweets using one of the universal sentence encoder created by Google.\n",
        "\n",
        "<br>\n",
        "\n",
        "For each family, I train different algorithms. See below:\n",
        "\n",
        "- **Logistic Regression** - _Basic Logistic Regression_ and _Ridge Classifier_ models are trained.\n",
        "- **Naive Bayes** - _Bernoulli Naive Bayes_ and _Gaussian Bayes_ models are trained.\n",
        "- **SVM** - _Basic Support Vector Classifier_ and _Nu-Support Vector Classifier_ models are trained.\n",
        "\n",
        "<br>\n",
        "\n",
        "Where appropriate, hyper-parameters are optimized and the models are evaluated using 5-fold cross-validation. This gives us good baselines upon which to improve.\n",
        "\n",
        "<br>\n",
        "\n",
        "Finally, I used the three most promissing models to predict the labels for the test set and submitted the results to Kaggle. I also used a stacking ensemble approach to see if results of the three models combined were better."
      ]
    },
    {
      "cell_type": "code",
      "metadata": {
        "id": "MHuPSvJfvc4K",
        "colab_type": "code",
        "colab": {}
      },
      "source": [
        "# !pip install --user tensorflow_text"
      ],
      "execution_count": 0,
      "outputs": []
    },
    {
      "cell_type": "code",
      "metadata": {
        "id": "rQ2GA36FvO3U",
        "colab_type": "code",
        "colab": {}
      },
      "source": [
        "from sklearn.linear_model import LogisticRegression, RidgeClassifier\n",
        "from sklearn.naive_bayes import BernoulliNB, GaussianNB, MultinomialNB\n",
        "from sklearn.svm import LinearSVC, SVC, NuSVC\n",
        "from sklearn.model_selection import cross_val_score, GridSearchCV, RandomizedSearchCV, train_test_split\n",
        "from sklearn.metrics import f1_score, accuracy_score, classification_report\n",
        "from sklearn.feature_extraction.text import CountVectorizer, TfidfVectorizer\n",
        "\n",
        "import tensorflow_hub as hub\n",
        "import tensorflow as tf\n",
        "import tensorflow_text\n",
        "\n",
        "from functools import partial \n",
        "from tqdm import tqdm #for progress bar\n",
        "\n",
        "cv = 5\n",
        "rs = 123\n",
        "np.random.seed(rs)"
      ],
      "execution_count": 0,
      "outputs": []
    },
    {
      "cell_type": "markdown",
      "metadata": {
        "id": "ezXVpBTDn-M9",
        "colab_type": "text"
      },
      "source": [
        "## Vectorize"
      ]
    },
    {
      "cell_type": "markdown",
      "metadata": {
        "id": "zHeSEEVt9ZS_",
        "colab_type": "text"
      },
      "source": [
        "To vectorize the text, I use the multilingual universal sentence encoder from [TensorFlow Hub](https://tfhub.dev/google/universal-sentence-encoder-multilingual-large/3), which was published by Google and is designed for text classification tasks such as ours.\n",
        "\n",
        "<br>\n",
        "\n",
        "First, I must load the the encoder directly from the webpage using the code below."
      ]
    },
    {
      "cell_type": "code",
      "metadata": {
        "id": "K0Ece3ogwGvK",
        "colab_type": "code",
        "colab": {}
      },
      "source": [
        "use = hub.load(\"https://tfhub.dev/google/universal-sentence-encoder-multilingual-large/3\")"
      ],
      "execution_count": 0,
      "outputs": []
    },
    {
      "cell_type": "markdown",
      "metadata": {
        "id": "dTIvaysw8nns",
        "colab_type": "text"
      },
      "source": [
        "With the universal encoder loaded, I loop over each tweet and create a sentence embedding for it. Each of these embeddings is then appended to an array. This is done for both the train and test sets."
      ]
    },
    {
      "cell_type": "code",
      "metadata": {
        "id": "Dg820Za1_QNj",
        "colab_type": "code",
        "outputId": "56b4c43e-3b94-4025-c2c5-01a3895b348a",
        "colab": {
          "base_uri": "https://localhost:8080/",
          "height": 51
        }
      },
      "source": [
        "X_train = []\n",
        "for r in tqdm(train.text.values):\n",
        "  emb = use(r)\n",
        "  review_emb = tf.reshape(emb, [-1]).numpy()\n",
        "  X_train.append(review_emb)\n",
        "\n",
        "X_train = np.array(X_train)\n",
        "y_train = train.target.values\n",
        "\n",
        "X_test = []\n",
        "for r in tqdm(test.text.values):\n",
        "  emb = use(r)\n",
        "  review_emb = tf.reshape(emb, [-1]).numpy()\n",
        "  X_test.append(review_emb)\n",
        "\n",
        "X_test = np.array(X_test)"
      ],
      "execution_count": 0,
      "outputs": [
        {
          "output_type": "stream",
          "text": [
            "100%|██████████| 6842/6842 [01:27<00:00, 78.57it/s]\n",
            "100%|██████████| 3263/3263 [00:40<00:00, 80.11it/s]\n"
          ],
          "name": "stderr"
        }
      ]
    },
    {
      "cell_type": "markdown",
      "metadata": {
        "id": "5NEcnleNA7uO",
        "colab_type": "text"
      },
      "source": [
        "Having created embeddings for the tweets in the two dataframes, I save them to avoid having to repeat this step."
      ]
    },
    {
      "cell_type": "code",
      "metadata": {
        "id": "EW4Shf3Zz7Wc",
        "colab_type": "code",
        "colab": {}
      },
      "source": [
        "with open('sentence_embeddings.pkl', 'wb') as f:\n",
        "    pickle.dump([X_train, y_train, X_test], f)"
      ],
      "execution_count": 0,
      "outputs": []
    },
    {
      "cell_type": "markdown",
      "metadata": {
        "id": "rBcZhFWfBBjH",
        "colab_type": "text"
      },
      "source": [
        "The code below can be used to reload the previously saved arrays of embedded tweets."
      ]
    },
    {
      "cell_type": "code",
      "metadata": {
        "id": "qapPgnoo0E7X",
        "colab_type": "code",
        "colab": {}
      },
      "source": [
        "with open('sentence_embeddings.pkl', 'rb') as f:\n",
        "    X_train, y_train, X_test = pickle.load(f)"
      ],
      "execution_count": 0,
      "outputs": []
    },
    {
      "cell_type": "markdown",
      "metadata": {
        "id": "1MfCjmr2BKRM",
        "colab_type": "text"
      },
      "source": [
        "Here, train and test sets are created in preperation for modelling. Test size is set to 20% of the entire training set."
      ]
    },
    {
      "cell_type": "code",
      "metadata": {
        "id": "mMqQzylanV7o",
        "colab_type": "code",
        "colab": {}
      },
      "source": [
        "X, test_arrays, y, test_labels = train_test_split(X_train, y_train, random_state = rs, test_size = 0.2)"
      ],
      "execution_count": 0,
      "outputs": []
    },
    {
      "cell_type": "markdown",
      "metadata": {
        "id": "RcD3vzzEno8n",
        "colab_type": "text"
      },
      "source": [
        "## Baseline Logistic Regression"
      ]
    },
    {
      "cell_type": "markdown",
      "metadata": {
        "id": "Cq1jK2OjJjTE",
        "colab_type": "text"
      },
      "source": [
        "Here, two logistic regressions are trained and optimized. One is a basic logistic regression and the other is a ridge classifier.\n",
        "\n",
        "The main difference between the two is the loss function. While logisitic regression uses a cross-entropy loss, ridge does not ([source](https://stackoverflow.com/questions/53911663/what-does-sklearn-ridgeclassifier-do/53912015))."
      ]
    },
    {
      "cell_type": "markdown",
      "metadata": {
        "id": "fQwy8_BN2qTY",
        "colab_type": "text"
      },
      "source": [
        "### Basic Logistic Regression"
      ]
    },
    {
      "cell_type": "code",
      "metadata": {
        "id": "zlaL8qUszCau",
        "colab_type": "code",
        "colab": {}
      },
      "source": [
        "def lr_param_selection(X, y, folds=cv, random_state=rs):\n",
        "  param_grid = {\n",
        "      'penalty': ['l1', 'l2', 'elasticnet', 'none'],\n",
        "      'C': np.arange(0.1, 1.0, 0.1),\n",
        "      'fit_intercept': [True, False],\n",
        "      'solver': ['newton-cg', 'lbfgs', 'liblinear', 'sag', 'saga'],\n",
        "      }\n",
        "  random_search = RandomizedSearchCV(LogisticRegression(max_iter=10000, random_state=random_state), param_grid, cv = folds, n_jobs = 8)\n",
        "  random_search.fit(X, y)\n",
        "  random_search.best_params_\n",
        "  return random_search\n",
        "\n",
        "lr_model = lr_param_selection(X, y)"
      ],
      "execution_count": 0,
      "outputs": []
    },
    {
      "cell_type": "code",
      "metadata": {
        "id": "uqTyUR463LU0",
        "colab_type": "code",
        "outputId": "d42785ae-df43-4f57-d2d8-e8ed52390659",
        "colab": {
          "base_uri": "https://localhost:8080/",
          "height": 34
        }
      },
      "source": [
        "cross_val_score(lr_model, X, y, cv=cv, scoring=\"f1\").mean()"
      ],
      "execution_count": 0,
      "outputs": [
        {
          "output_type": "execute_result",
          "data": {
            "text/plain": [
              "0.7567454231456395"
            ]
          },
          "metadata": {
            "tags": []
          },
          "execution_count": 44
        }
      ]
    },
    {
      "cell_type": "code",
      "metadata": {
        "id": "EwoHdz3u1Sg7",
        "colab_type": "code",
        "outputId": "b460c757-f91d-4fdb-faaf-94ed4b7d2352",
        "colab": {
          "base_uri": "https://localhost:8080/",
          "height": 187
        }
      },
      "source": [
        "print(\"F1-Score: %.2f\" % f1_score(test_labels, lr_model.predict(test_arrays)))\n",
        "print(classification_report(test_labels, lr_model.predict(test_arrays)))"
      ],
      "execution_count": 0,
      "outputs": [
        {
          "output_type": "stream",
          "text": [
            "F1-Score: 0.75\n",
            "              precision    recall  f1-score   support\n",
            "\n",
            "         0.0       0.81      0.88      0.84       808\n",
            "         1.0       0.81      0.70      0.75       561\n",
            "\n",
            "    accuracy                           0.81      1369\n",
            "   macro avg       0.81      0.79      0.79      1369\n",
            "weighted avg       0.81      0.81      0.80      1369\n",
            "\n"
          ],
          "name": "stdout"
        }
      ]
    },
    {
      "cell_type": "markdown",
      "metadata": {
        "id": "LptcEunD2t7K",
        "colab_type": "text"
      },
      "source": [
        "### Ridge Classifier"
      ]
    },
    {
      "cell_type": "code",
      "metadata": {
        "id": "RsnZ4is0yfhf",
        "colab_type": "code",
        "colab": {}
      },
      "source": [
        "def rc_param_selection(X, y, folds=cv, random_state=rs):\n",
        "  param_grid = {\n",
        "      'alpha': np.arange(0, 3, 0.1),\n",
        "      'fit_intercept': [True, False],\n",
        "      'normalize': [True, False],\n",
        "      'solver': ['auto', 'svd', 'cholesky', 'lsqr', 'sparse_cg', 'sag', 'saga'],\n",
        "      }\n",
        "  random_search = RandomizedSearchCV(RidgeClassifier(max_iter=10000, random_state=random_state), param_grid, cv = folds, n_jobs = 8)\n",
        "  random_search.fit(X, y)\n",
        "  random_search.best_params_\n",
        "  return random_search\n",
        "\n",
        "rc_model = rc_param_selection(X, y)"
      ],
      "execution_count": 0,
      "outputs": []
    },
    {
      "cell_type": "code",
      "metadata": {
        "id": "5SWC15jp3Dnf",
        "colab_type": "code",
        "outputId": "041ecb1e-0d53-4bbf-d35c-f89f754224a2",
        "colab": {
          "base_uri": "https://localhost:8080/",
          "height": 88
        }
      },
      "source": [
        "cross_val_score(rc_model, X, y, cv=cv, scoring=\"f1\").mean()"
      ],
      "execution_count": 0,
      "outputs": [
        {
          "output_type": "stream",
          "text": [
            "/usr/local/lib/python3.6/dist-packages/joblib/externals/loky/process_executor.py:706: UserWarning: A worker stopped while some jobs were given to the executor. This can be caused by a too short worker timeout or by a memory leak.\n",
            "  \"timeout or by a memory leak.\", UserWarning\n"
          ],
          "name": "stderr"
        },
        {
          "output_type": "execute_result",
          "data": {
            "text/plain": [
              "0.7567670671793278"
            ]
          },
          "metadata": {
            "tags": []
          },
          "execution_count": 47
        }
      ]
    },
    {
      "cell_type": "code",
      "metadata": {
        "id": "5IZOUa471sl_",
        "colab_type": "code",
        "outputId": "6684e6a1-2b38-40f9-9220-a775341b2e07",
        "colab": {
          "base_uri": "https://localhost:8080/",
          "height": 187
        }
      },
      "source": [
        "print(\"F1-Score: %.2f\" % f1_score(test_labels, rc_model.predict(test_arrays)))\n",
        "print(classification_report(test_labels, rc_model.predict(test_arrays)))"
      ],
      "execution_count": 0,
      "outputs": [
        {
          "output_type": "stream",
          "text": [
            "F1-Score: 0.72\n",
            "              precision    recall  f1-score   support\n",
            "\n",
            "         0.0       0.79      0.90      0.84       808\n",
            "         1.0       0.81      0.65      0.72       561\n",
            "\n",
            "    accuracy                           0.79      1369\n",
            "   macro avg       0.80      0.77      0.78      1369\n",
            "weighted avg       0.80      0.79      0.79      1369\n",
            "\n"
          ],
          "name": "stdout"
        }
      ]
    },
    {
      "cell_type": "markdown",
      "metadata": {
        "id": "hd_EFhTNodaR",
        "colab_type": "text"
      },
      "source": [
        "## Baseline Naive Bayes"
      ]
    },
    {
      "cell_type": "markdown",
      "metadata": {
        "id": "fEPhDqEb2ODy",
        "colab_type": "text"
      },
      "source": [
        "### Bernoulli Naive Bayes"
      ]
    },
    {
      "cell_type": "code",
      "metadata": {
        "id": "rPgJ1Ig8ot-1",
        "colab_type": "code",
        "colab": {}
      },
      "source": [
        "def bnb_param_selection(X, y, folds=cv, random_state=rs):\n",
        "  param_grid = {\n",
        "      'alpha': np.arange(0, 3, 0.1)\n",
        "      }\n",
        "  random_search = RandomizedSearchCV(BernoulliNB(), param_grid, cv = folds, n_jobs = 8)\n",
        "  random_search.fit(X, y)\n",
        "  random_search.best_params_\n",
        "  return random_search\n",
        "\n",
        "bnb_model = bnb_param_selection(X, y)"
      ],
      "execution_count": 0,
      "outputs": []
    },
    {
      "cell_type": "code",
      "metadata": {
        "id": "HQOyo_Un23VI",
        "colab_type": "code",
        "outputId": "77f971dc-9067-47b7-b3b8-e24bd2def367",
        "colab": {
          "base_uri": "https://localhost:8080/",
          "height": 34
        }
      },
      "source": [
        "cross_val_score(bnb_model, X, y, cv=cv, scoring=\"f1\").mean()"
      ],
      "execution_count": 0,
      "outputs": [
        {
          "output_type": "execute_result",
          "data": {
            "text/plain": [
              "0.7380695061583131"
            ]
          },
          "metadata": {
            "tags": []
          },
          "execution_count": 50
        }
      ]
    },
    {
      "cell_type": "code",
      "metadata": {
        "id": "Mx0xSeDG155-",
        "colab_type": "code",
        "outputId": "01ca3351-a290-4276-f024-5be66cbc93d6",
        "colab": {
          "base_uri": "https://localhost:8080/",
          "height": 187
        }
      },
      "source": [
        "print(\"F1-Score: %.2f\" % f1_score(test_labels, bnb_model.predict(test_arrays)))\n",
        "print(classification_report(test_labels, bnb_model.predict(test_arrays)))"
      ],
      "execution_count": 0,
      "outputs": [
        {
          "output_type": "stream",
          "text": [
            "F1-Score: 0.71\n",
            "              precision    recall  f1-score   support\n",
            "\n",
            "         0.0       0.79      0.82      0.80       808\n",
            "         1.0       0.72      0.70      0.71       561\n",
            "\n",
            "    accuracy                           0.77      1369\n",
            "   macro avg       0.76      0.76      0.76      1369\n",
            "weighted avg       0.77      0.77      0.77      1369\n",
            "\n"
          ],
          "name": "stdout"
        }
      ]
    },
    {
      "cell_type": "markdown",
      "metadata": {
        "id": "AjziBIai2NF3",
        "colab_type": "text"
      },
      "source": [
        "### Gaussian Naive Bayes"
      ]
    },
    {
      "cell_type": "markdown",
      "metadata": {
        "id": "cuLV_80Z2Vu2",
        "colab_type": "text"
      },
      "source": [
        "Explanation"
      ]
    },
    {
      "cell_type": "code",
      "metadata": {
        "id": "2NWuAjYXiAk3",
        "colab_type": "code",
        "outputId": "993770ae-ffd1-47c0-c814-53cf5d91794e",
        "colab": {
          "base_uri": "https://localhost:8080/",
          "height": 34
        }
      },
      "source": [
        "gnb = GaussianNB()\n",
        "# gnb.fit(X, y)\n",
        "\n",
        "cross_val_score(gnb, X, y, cv=cv, scoring=\"f1\").mean()"
      ],
      "execution_count": 0,
      "outputs": [
        {
          "output_type": "execute_result",
          "data": {
            "text/plain": [
              "0.7477351007039822"
            ]
          },
          "metadata": {
            "tags": []
          },
          "execution_count": 54
        }
      ]
    },
    {
      "cell_type": "code",
      "metadata": {
        "id": "1Pe9VEePWaM2",
        "colab_type": "code",
        "outputId": "12ee002b-6767-4093-fbaf-e88cc6aa651c",
        "colab": {
          "base_uri": "https://localhost:8080/",
          "height": 187
        }
      },
      "source": [
        "print(\"F1-Score: %.2f\" % f1_score(test_labels, gnb.predict(test_arrays)))\n",
        "print(classification_report(test_labels, gnb.predict(test_arrays)))"
      ],
      "execution_count": 0,
      "outputs": [
        {
          "output_type": "stream",
          "text": [
            "F1-Score: 0.71\n",
            "              precision    recall  f1-score   support\n",
            "\n",
            "         0.0       0.80      0.81      0.81       808\n",
            "         1.0       0.72      0.70      0.71       561\n",
            "\n",
            "    accuracy                           0.77      1369\n",
            "   macro avg       0.76      0.76      0.76      1369\n",
            "weighted avg       0.77      0.77      0.77      1369\n",
            "\n"
          ],
          "name": "stdout"
        }
      ]
    },
    {
      "cell_type": "markdown",
      "metadata": {
        "id": "1POWfbGvhIzJ",
        "colab_type": "text"
      },
      "source": [
        "## Baseline SVMs"
      ]
    },
    {
      "cell_type": "markdown",
      "metadata": {
        "id": "qqjkWZHF2ej8",
        "colab_type": "text"
      },
      "source": [
        "### Basic Support Vector Classifier"
      ]
    },
    {
      "cell_type": "code",
      "metadata": {
        "id": "5_8iqqWM3X4V",
        "colab_type": "code",
        "outputId": "644c649a-686b-404e-cda4-4740c51a2d50",
        "colab": {
          "base_uri": "https://localhost:8080/",
          "height": 71
        }
      },
      "source": [
        "def svc_param_selection(X, y, folds=cv, random_state=rs):\n",
        "    param_grid = {\n",
        "        'C': [1.070, 1.074, 1.075, 1.1, 1.125],\n",
        "        'gamma' : [2.065,2.075, 2.08]}\n",
        "    random_search = RandomizedSearchCV(SVC(kernel='rbf'), param_grid, cv = folds, n_jobs = -1, random_state = random_state)\n",
        "    random_search.fit(X, y)\n",
        "    random_search.best_params_\n",
        "    return random_search\n",
        "\n",
        "svc_model = svc_param_selection(X, y)"
      ],
      "execution_count": 0,
      "outputs": [
        {
          "output_type": "stream",
          "text": [
            "/usr/local/lib/python3.6/dist-packages/joblib/externals/loky/process_executor.py:706: UserWarning: A worker stopped while some jobs were given to the executor. This can be caused by a too short worker timeout or by a memory leak.\n",
            "  \"timeout or by a memory leak.\", UserWarning\n"
          ],
          "name": "stderr"
        }
      ]
    },
    {
      "cell_type": "code",
      "metadata": {
        "id": "4H0sna4N31a6",
        "colab_type": "code",
        "outputId": "5c0706b6-23f0-475f-a9b8-bf5279ec1ae1",
        "colab": {
          "base_uri": "https://localhost:8080/",
          "height": 34
        }
      },
      "source": [
        "cross_val_score(svc_model, X, y, cv=cv, scoring=\"f1\").mean()"
      ],
      "execution_count": 0,
      "outputs": [
        {
          "output_type": "execute_result",
          "data": {
            "text/plain": [
              "0.7652937127625976"
            ]
          },
          "metadata": {
            "tags": []
          },
          "execution_count": 57
        }
      ]
    },
    {
      "cell_type": "code",
      "metadata": {
        "id": "96Qv_Qw_34In",
        "colab_type": "code",
        "outputId": "a31e211f-3202-4fa7-c53a-dd92e75a00c8",
        "colab": {
          "base_uri": "https://localhost:8080/",
          "height": 187
        }
      },
      "source": [
        "print(\"F1-Score: %.2f\" % f1_score(test_labels, svc_model.predict(test_arrays)))\n",
        "print(classification_report(test_labels, svc_model.predict(test_arrays)))"
      ],
      "execution_count": 0,
      "outputs": [
        {
          "output_type": "stream",
          "text": [
            "F1-Score: 0.76\n",
            "              precision    recall  f1-score   support\n",
            "\n",
            "         0.0       0.81      0.91      0.86       808\n",
            "         1.0       0.85      0.69      0.76       561\n",
            "\n",
            "    accuracy                           0.82      1369\n",
            "   macro avg       0.83      0.80      0.81      1369\n",
            "weighted avg       0.82      0.82      0.82      1369\n",
            "\n"
          ],
          "name": "stdout"
        }
      ]
    },
    {
      "cell_type": "markdown",
      "metadata": {
        "id": "vXvRn_3I2iKy",
        "colab_type": "text"
      },
      "source": [
        "### Nu-Support Vector Classifier"
      ]
    },
    {
      "cell_type": "code",
      "metadata": {
        "id": "E6OIdYtQhm_y",
        "colab_type": "code",
        "colab": {}
      },
      "source": [
        "def nsvc_param_selection(X, y, folds=cv, random_state=rs):\n",
        "    param_grid = {\n",
        "        'nu': np.arange(0.1, 1.0, 0.1),\n",
        "        'kernel': ['rbf', 'linear', 'poly', 'sigmoid'],\n",
        "        'degree': range(1, 10),\n",
        "        'gamma': ['scale', 'auto'],\n",
        "        'coef0': np.arange(0, 1, 0.05),\n",
        "        'shrinking': [True, False],\n",
        "        'probability':[True, False],\n",
        "        'decision_function_shape': ['ovo', 'ovr']\n",
        "        }\n",
        "    random_search = RandomizedSearchCV(NuSVC(), param_grid, cv=folds, n_jobs=-1, random_state=random_state)\n",
        "    random_search.fit(X, y)\n",
        "    random_search.best_params_\n",
        "    return random_search\n",
        "\n",
        "nsvc_model = nsvc_param_selection(X, y)"
      ],
      "execution_count": 0,
      "outputs": []
    },
    {
      "cell_type": "code",
      "metadata": {
        "id": "hIhAL8VE4QD5",
        "colab_type": "code",
        "colab": {}
      },
      "source": [
        "cross_val_score(nsvc_model, X, y, cv=cv, scoring='f1').mean()"
      ],
      "execution_count": 0,
      "outputs": []
    },
    {
      "cell_type": "code",
      "metadata": {
        "id": "LPVZB_Ag4U6F",
        "colab_type": "code",
        "outputId": "e62e6060-e83c-4d85-e7c4-75394c213f54",
        "colab": {
          "base_uri": "https://localhost:8080/",
          "height": 187
        }
      },
      "source": [
        "print(\"F1-Score: %.2f\" % f1_score(test_labels, nsvc_model.predict(test_arrays)))\n",
        "print(classification_report(test_labels, nsvc_model.predict(test_arrays)))"
      ],
      "execution_count": 0,
      "outputs": [
        {
          "output_type": "stream",
          "text": [
            "F1-Score: 0.73\n",
            "              precision    recall  f1-score   support\n",
            "\n",
            "         0.0       0.79      0.90      0.84       808\n",
            "         1.0       0.82      0.66      0.73       561\n",
            "\n",
            "    accuracy                           0.80      1369\n",
            "   macro avg       0.81      0.78      0.79      1369\n",
            "weighted avg       0.80      0.80      0.80      1369\n",
            "\n"
          ],
          "name": "stdout"
        }
      ]
    },
    {
      "cell_type": "markdown",
      "metadata": {
        "id": "UugcJFwndvcZ",
        "colab_type": "text"
      },
      "source": [
        "## Save and Predict"
      ]
    },
    {
      "cell_type": "markdown",
      "metadata": {
        "id": "8EH4aowpUsV2",
        "colab_type": "text"
      },
      "source": [
        "Here, I save the models and make predictions on the test set using the optimized Logistic Regression, Bernoulli Naive Bayes and Support Vector Classifier. I also stack the three and take the majority vote.\n",
        "\n",
        "<br>\n",
        "\n",
        "For each of the predictions, a loop is used to label tweets with high cosine similarity with '1' or '0' depending on what is most popular among the similar tweets. This is a similar approach to what was used earlier for similar tweets in the training set, except that here, tweets aren't removed. The majority label is simply applied to all the tweets in the group."
      ]
    },
    {
      "cell_type": "code",
      "metadata": {
        "id": "HL6V-uiCdw5q",
        "colab_type": "code",
        "colab": {}
      },
      "source": [
        "from joblib import dump, load"
      ],
      "execution_count": 0,
      "outputs": []
    },
    {
      "cell_type": "code",
      "metadata": {
        "id": "QNilfYZqLd-R",
        "colab_type": "code",
        "outputId": "a3d67372-d02a-46dc-856c-20f147b2806c",
        "colab": {
          "base_uri": "https://localhost:8080/",
          "height": 34
        }
      },
      "source": [
        "dump(lr_model, 'lr_base_model.joblib')\n",
        "dump(rc_model, 'rc_base_model.joblib')\n",
        "dump(bnb_model, 'bnb_base_model.joblib')\n",
        "dump(svc_model, 'svc_base_model.joblib')\n",
        "dump(nsvc_model, 'nsvc_base_model.joblib')"
      ],
      "execution_count": 0,
      "outputs": [
        {
          "output_type": "execute_result",
          "data": {
            "text/plain": [
              "['nsvc_base_model.joblib']"
            ]
          },
          "metadata": {
            "tags": []
          },
          "execution_count": 66
        }
      ]
    },
    {
      "cell_type": "code",
      "metadata": {
        "id": "c7g6RM7XLIY5",
        "colab_type": "code",
        "colab": {}
      },
      "source": [
        "lr_model = load('lr_base_model.joblib')\n",
        "rc_model = load('rc_base_model.joblib')\n",
        "bnb_model = load('bnb_base_model.joblib')\n",
        "svc_model = load('svc_base_model.joblib')\n",
        "nsvc_model = load('nsvc_base_model.joblib')"
      ],
      "execution_count": 0,
      "outputs": []
    },
    {
      "cell_type": "markdown",
      "metadata": {
        "id": "CJxwB2Syc6AT",
        "colab_type": "text"
      },
      "source": [
        "### Make Predictions"
      ]
    },
    {
      "cell_type": "markdown",
      "metadata": {
        "id": "SivMzvteWPzY",
        "colab_type": "text"
      },
      "source": [
        "Here, four sets of predictions are made, with one being the stacked prediction of the other three."
      ]
    },
    {
      "cell_type": "code",
      "metadata": {
        "id": "eiXvyACNTYUo",
        "colab_type": "code",
        "colab": {}
      },
      "source": [
        "lr_pred = lr_model.predict(X_test)\n",
        "bnb_pred = bnb_model.predict(X_test)\n",
        "svc_pred = svc_model.predict(X_test)"
      ],
      "execution_count": 0,
      "outputs": []
    },
    {
      "cell_type": "code",
      "metadata": {
        "id": "DupcH5KLT10V",
        "colab_type": "code",
        "colab": {}
      },
      "source": [
        "submission['target'] = lr_pred\n",
        "\n",
        "for k in similar_test.keys():\n",
        "  summation = submission.loc[similar_test[k],:]['target'].sum() + submission.loc[k,:]['target']\n",
        "  count = len(similar[k]) + 1\n",
        "  mean = summation/count\n",
        "  if mean > 0.5:\n",
        "    submission.loc[k,'target'] = 1\n",
        "    submission.loc[similar_test[k],'target'] = 1\n",
        "  else:\n",
        "    submission.loc[k,'target'] = 0\n",
        "    submission.loc[similar_test[k],'target'] = 0\n",
        "\n",
        "submission.to_csv('base_lr_submission.csv', index = False)"
      ],
      "execution_count": 0,
      "outputs": []
    },
    {
      "cell_type": "code",
      "metadata": {
        "id": "5oIn9SA0TC14",
        "colab_type": "code",
        "colab": {}
      },
      "source": [
        "submission['target'] = bnb_pred\n",
        "\n",
        "for k in similar_test.keys():\n",
        "  summation = submission.loc[similar_test[k],:]['target'].sum() + submission.loc[k,:]['target']\n",
        "  count = len(similar[k]) + 1\n",
        "  mean = summation/count\n",
        "  if mean > 0.5:\n",
        "    submission.loc[k,'target'] = 1\n",
        "    submission.loc[similar_test[k],'target'] = 1\n",
        "  else:\n",
        "    submission.loc[k,'target'] = 0\n",
        "    submission.loc[similar_test[k],'target'] = 0\n",
        "\n",
        "submission.to_csv('base_bnb_submission.csv', index = False)"
      ],
      "execution_count": 0,
      "outputs": []
    },
    {
      "cell_type": "code",
      "metadata": {
        "id": "-PzD8wCpTjg4",
        "colab_type": "code",
        "colab": {}
      },
      "source": [
        "submission['target'] = svc_pred\n",
        "\n",
        "for k in similar_test.keys():\n",
        "  summation = submission.loc[similar_test[k],:]['target'].sum() + submission.loc[k,:]['target']\n",
        "  count = len(similar[k]) + 1\n",
        "  mean = summation/count\n",
        "  if mean > 0.5:\n",
        "    submission.loc[k,'target'] = 1\n",
        "    submission.loc[similar_test[k],'target'] = 1\n",
        "  else:\n",
        "    submission.loc[k,'target'] = 0\n",
        "    submission.loc[similar_test[k],'target'] = 0\n",
        "\n",
        "submission.to_csv('base_svc_submission.csv', index = False)"
      ],
      "execution_count": 0,
      "outputs": []
    },
    {
      "cell_type": "markdown",
      "metadata": {
        "id": "PysJM6qqWWbT",
        "colab_type": "text"
      },
      "source": [
        "### Initial Kaggle Submission"
      ]
    },
    {
      "cell_type": "markdown",
      "metadata": {
        "id": "u_0NLLzPWcv7",
        "colab_type": "text"
      },
      "source": [
        "Of the predictions made, only the stacked prediction was submitted to Kaggle. The prediction was established using the code below."
      ]
    },
    {
      "cell_type": "code",
      "metadata": {
        "id": "a3eVT4DMTk9K",
        "colab_type": "code",
        "colab": {}
      },
      "source": [
        "stack_pred = []\n",
        "\n",
        "for i in range(len(lr_pred)):\n",
        "  if (lr_pred[i] + bnb_pred[i] + svc_pred[i]) >= 2:\n",
        "    stack_pred.append(1)\n",
        "  else:\n",
        "    stack_pred.append(0)\n",
        "    \n",
        "\n",
        "submission['target'] = stack_pred\n",
        "\n",
        "for k in similar_test.keys():\n",
        "  summation = submission.loc[similar_test[k],:]['target'].sum() + submission.loc[k,:]['target']\n",
        "  count = len(similar[k]) + 1\n",
        "  mean = summation/count\n",
        "  if mean > 0.5:\n",
        "    submission.loc[k,'target'] = 1\n",
        "    submission.loc[similar_test[k],'target'] = 1\n",
        "  else:\n",
        "    submission.loc[k,'target'] = 0\n",
        "    submission.loc[similar_test[k],'target'] = 0\n",
        "\n",
        "submission.to_csv('base_stacked_submission.csv', index = False)\n",
        "# F1_score: 0.81799"
      ],
      "execution_count": 0,
      "outputs": []
    },
    {
      "cell_type": "markdown",
      "metadata": {
        "id": "PIaoGEEEWv1X",
        "colab_type": "text"
      },
      "source": [
        "**KAGLE SCORE:** 81.799\n",
        "\n",
        "This initial prediction yielded a relatively good score, despite no cleaning having been done to the text. I try to improve upon this score below."
      ]
    },
    {
      "cell_type": "markdown",
      "metadata": {
        "id": "uB-lghhVrCXO",
        "colab_type": "text"
      },
      "source": [
        "# 4. Further Cleaning and Modelling"
      ]
    },
    {
      "cell_type": "markdown",
      "metadata": {
        "id": "x5Gc1vT1NnzG",
        "colab_type": "text"
      },
      "source": [
        "In this section, I clean the text in the training set in an attempt to improve model performance. The two models selected for further fine-tuning are:\n",
        "\n",
        "1. Basic Logistic Regression\n",
        "2. Basic Support Vector Classifier\n",
        "\n",
        "\n",
        "At every step of text cleaning, a model is trained and evaluated to determine if the cleaning step improved, hindered or had no effect on performance. This approach slows down training, but is likely to lead to more robust results."
      ]
    },
    {
      "cell_type": "code",
      "metadata": {
        "id": "cFfbaeNjvit7",
        "colab_type": "code",
        "colab": {}
      },
      "source": [
        "# !pip install colorama\n",
        "# !pip install pyspellchecker"
      ],
      "execution_count": 0,
      "outputs": []
    },
    {
      "cell_type": "code",
      "metadata": {
        "id": "z_2sEs-Y72b_",
        "colab_type": "code",
        "outputId": "d2541a7f-d83f-4498-e7d5-ef00b3d78cb3",
        "colab": {
          "base_uri": "https://localhost:8080/",
          "height": 85
        }
      },
      "source": [
        "import nltk\n",
        "import re\n",
        "import string\n",
        "from nltk.stem.snowball import SnowballStemmer\n",
        "from nltk.corpus import stopwords\n",
        "from nltk.tokenize import word_tokenize\n",
        "from bs4 import BeautifulSoup\n",
        "from spellchecker import SpellChecker\n",
        "import unicodedata\n",
        "from colorama import Fore, Style\n",
        "\n",
        "nltk.download('punkt')\n",
        "nltk.download('stopwords')\n",
        "\n",
        "tfidf = TfidfVectorizer(min_df=5)"
      ],
      "execution_count": 0,
      "outputs": [
        {
          "output_type": "stream",
          "text": [
            "[nltk_data] Downloading package punkt to /root/nltk_data...\n",
            "[nltk_data]   Package punkt is already up-to-date!\n",
            "[nltk_data] Downloading package stopwords to /root/nltk_data...\n",
            "[nltk_data]   Package stopwords is already up-to-date!\n"
          ],
          "name": "stdout"
        }
      ]
    },
    {
      "cell_type": "markdown",
      "metadata": {
        "colab_type": "text",
        "id": "uq-XYMSMqWfh"
      },
      "source": [
        "<br>"
      ]
    },
    {
      "cell_type": "markdown",
      "metadata": {
        "id": "OSt4PbxQiEdR",
        "colab_type": "text"
      },
      "source": [
        "## Logistic Regression"
      ]
    },
    {
      "cell_type": "markdown",
      "metadata": {
        "id": "KtnpQzfnMxB5",
        "colab_type": "text"
      },
      "source": [
        "### Setup"
      ]
    },
    {
      "cell_type": "markdown",
      "metadata": {
        "id": "Fs2uk9t5OeE3",
        "colab_type": "text"
      },
      "source": [
        "Here, I define some objects that will be used throughout this section."
      ]
    },
    {
      "cell_type": "code",
      "metadata": {
        "id": "Z-z9CWN0MwVo",
        "colab_type": "code",
        "outputId": "6e33a6db-69cc-49ec-c2f1-40e4b0231196",
        "colab": {
          "base_uri": "https://localhost:8080/",
          "height": 85
        }
      },
      "source": [
        "reference = 'processed_text_lr'\n",
        "train['processed_text_lr'] = train['text'].copy()\n",
        "clf = lr_model\n",
        "# base = cross_val_score(clf, X, y, cv=cv, scoring=\"f1\").mean()\n",
        "baseline = base.copy()\n",
        "cv = 5"
      ],
      "execution_count": 0,
      "outputs": [
        {
          "output_type": "stream",
          "text": [
            "/usr/local/lib/python3.6/dist-packages/scipy/optimize/linesearch.py:314: LineSearchWarning: The line search algorithm did not converge\n",
            "  warn('The line search algorithm did not converge', LineSearchWarning)\n",
            "/usr/local/lib/python3.6/dist-packages/sklearn/utils/optimize.py:204: UserWarning: Line Search failed\n",
            "  warnings.warn('Line Search failed')\n"
          ],
          "name": "stderr"
        }
      ]
    },
    {
      "cell_type": "markdown",
      "metadata": {
        "id": "z4s7R5ubUJe2",
        "colab_type": "text"
      },
      "source": [
        "#### Helper Dictionaries"
      ]
    },
    {
      "cell_type": "markdown",
      "metadata": {
        "id": "3iE4g3Q8Olrc",
        "colab_type": "text"
      },
      "source": [
        "Here, two dictionaries are defined, which will be used later in the cleaning process. One is for the expansion of contraction, which was retrieved from [here](https://github.com/dipanjanS/practical-machine-learning-with-python/blob/master/bonus%20content/nlp%20proven%20approach/contractions.py). The other is for the expansion of abbreviations, which was pulled from [here](https://www.kaggle.com/nmaguette/up-to-date-list-of-slangs-for-text-preprocessing/)."
      ]
    },
    {
      "cell_type": "code",
      "metadata": {
        "id": "q-pYvZYJUH3Z",
        "colab_type": "code",
        "colab": {}
      },
      "source": [
        "# https://github.com/dipanjanS/practical-machine-learning-with-python/blob/master/bonus%20content/nlp%20proven%20approach/contractions.py\n",
        "\n",
        "CONTRACTION_MAP = {\n",
        "    \"ain't\": \"is not\",\n",
        "    \"aren't\": \"are not\",\n",
        "    \"can't\": \"cannot\",\n",
        "    \"can't've\": \"cannot have\",\n",
        "    \"'cause\": \"because\",\n",
        "    \"could've\": \"could have\",\n",
        "    \"couldn't\": \"could not\",\n",
        "    \"couldn't've\": \"could not have\",\n",
        "    \"didn't\": \"did not\",\n",
        "    \"doesn't\": \"does not\",\n",
        "    \"don't\": \"do not\",\n",
        "    \"hadn't\": \"had not\",\n",
        "    \"hadn't've\": \"had not have\",\n",
        "    \"hasn't\": \"has not\",\n",
        "    \"haven't\": \"have not\",\n",
        "    \"he'd\": \"he would\",\n",
        "    \"he'd've\": \"he would have\",\n",
        "    \"he'll\": \"he will\",\n",
        "    \"he'll've\": \"he he will have\",\n",
        "    \"he's\": \"he is\",\n",
        "    \"how'd\": \"how did\",\n",
        "    \"how'd'y\": \"how do you\",\n",
        "    \"how'll\": \"how will\",\n",
        "    \"how's\": \"how is\",\n",
        "    \"I'd\": \"I would\",\n",
        "    \"I'd've\": \"I would have\",\n",
        "    \"I'll\": \"I will\",\n",
        "    \"I'll've\": \"I will have\",\n",
        "    \"I'm\": \"I am\",\n",
        "    \"I've\": \"I have\",\n",
        "    \"i'd\": \"i would\",\n",
        "    \"i'd've\": \"i would have\",\n",
        "    \"i'll\": \"i will\",\n",
        "    \"i'll've\": \"i will have\",\n",
        "    \"i'm\": \"i am\",\n",
        "    \"i've\": \"i have\",\n",
        "    \"isn't\": \"is not\",\n",
        "    \"it'd\": \"it would\",\n",
        "    \"it'd've\": \"it would have\",\n",
        "    \"it'll\": \"it will\",\n",
        "    \"it'll've\": \"it will have\",\n",
        "    \"it's\": \"it is\",\n",
        "    \"let's\": \"let us\",\n",
        "    \"ma'am\": \"madam\",\n",
        "    \"mayn't\": \"may not\",\n",
        "    \"might've\": \"might have\",\n",
        "    \"mightn't\": \"might not\",\n",
        "    \"mightn't've\": \"might not have\",\n",
        "    \"must've\": \"must have\",\n",
        "    \"mustn't\": \"must not\",\n",
        "    \"mustn't've\": \"must not have\",\n",
        "    \"needn't\": \"need not\",\n",
        "    \"needn't've\": \"need not have\",\n",
        "    \"o'clock\": \"of the clock\",\n",
        "    \"oughtn't\": \"ought not\",\n",
        "    \"oughtn't've\": \"ought not have\",\n",
        "    \"shan't\": \"shall not\",\n",
        "    \"sha'n't\": \"shall not\",\n",
        "    \"shan't've\": \"shall not have\",\n",
        "    \"she'd\": \"she would\",\n",
        "    \"she'd've\": \"she would have\",\n",
        "    \"she'll\": \"she will\",\n",
        "    \"she'll've\": \"she will have\",\n",
        "    \"she's\": \"she is\",\n",
        "    \"should've\": \"should have\",\n",
        "    \"shouldn't\": \"should not\",\n",
        "    \"shouldn't've\": \"should not have\",\n",
        "    \"so've\": \"so have\",\n",
        "    \"so's\": \"so as\",\n",
        "    \"that'd\": \"that would\",\n",
        "    \"that'd've\": \"that would have\",\n",
        "    \"that's\": \"that is\",\n",
        "    \"there'd\": \"there would\",\n",
        "    \"there'd've\": \"there would have\",\n",
        "    \"there's\": \"there is\",\n",
        "    \"they'd\": \"they would\",\n",
        "    \"they'd've\": \"they would have\",\n",
        "    \"they'll\": \"they will\",\n",
        "    \"they'll've\": \"they will have\",\n",
        "    \"they're\": \"they are\",\n",
        "    \"they've\": \"they have\",\n",
        "    \"to've\": \"to have\",\n",
        "    \"wasn't\": \"was not\",\n",
        "    \"we'd\": \"we would\",\n",
        "    \"we'd've\": \"we would have\",\n",
        "    \"we'll\": \"we will\",\n",
        "    \"we'll've\": \"we will have\",\n",
        "    \"we're\": \"we are\",\n",
        "    \"we've\": \"we have\",\n",
        "    \"weren't\": \"were not\",\n",
        "    \"what'll\": \"what will\",\n",
        "    \"what'll've\": \"what will have\",\n",
        "    \"what're\": \"what are\",\n",
        "    \"what's\": \"what is\",\n",
        "    \"what've\": \"what have\",\n",
        "    \"when's\": \"when is\",\n",
        "    \"when've\": \"when have\",\n",
        "    \"where'd\": \"where did\",\n",
        "    \"where's\": \"where is\",\n",
        "    \"where've\": \"where have\",\n",
        "    \"who'll\": \"who will\",\n",
        "    \"who'll've\": \"who will have\",\n",
        "    \"who's\": \"who is\",\n",
        "    \"who've\": \"who have\",\n",
        "    \"why's\": \"why is\",\n",
        "    \"why've\": \"why have\",\n",
        "    \"will've\": \"will have\",\n",
        "    \"won't\": \"will not\",\n",
        "    \"won't've\": \"will not have\",\n",
        "    \"would've\": \"would have\",\n",
        "    \"wouldn't\": \"would not\",\n",
        "    \"wouldn't've\": \"would not have\",\n",
        "    \"y'all\": \"you all\",\n",
        "    \"y'all'd\": \"you all would\",\n",
        "    \"y'all'd've\": \"you all would have\",\n",
        "    \"y'all're\": \"you all are\",\n",
        "    \"y'all've\": \"you all have\",\n",
        "    \"you'd\": \"you would\",\n",
        "    \"you'd've\": \"you would have\",\n",
        "    \"you'll\": \"you will\",\n",
        "    \"you'll've\": \"you will have\",\n",
        "    \"you're\": \"you are\",\n",
        "    \"you've\": \"you have\"\n",
        "}"
      ],
      "execution_count": 0,
      "outputs": []
    },
    {
      "cell_type": "code",
      "metadata": {
        "id": "yuEUVGLEUMnf",
        "colab_type": "code",
        "colab": {}
      },
      "source": [
        "# https://www.kaggle.com/nmaguette/up-to-date-list-of-slangs-for-text-preprocessing/\n",
        "\n",
        "abbreviations = {\n",
        "    \"$\" : \" dollar \",\n",
        "    \"€\" : \" euro \",\n",
        "    \"4ao\" : \"for adults only\",\n",
        "    \"2k10\": \"2010\",\n",
        "    \"2k11\": \"2011\",\n",
        "    \"2k12\": \"2012\",\n",
        "    \"2k13\": \"2013\",\n",
        "    \"2k14\": \"2014\",\n",
        "    \"2k15\": \"2015\",\n",
        "    \"2k16\": \"2016\",\n",
        "    \"2k17\": \"2017\",\n",
        "    \"2k18\": \"2018\",\n",
        "    \"2k19\": \"2019\",\n",
        "    \"a.m\" : \"before midday\",\n",
        "    \"a3\" : \"anytime anywhere anyplace\",\n",
        "    \"aamof\" : \"as a matter of fact\",\n",
        "    \"acct\" : \"account\",\n",
        "    \"adih\" : \"another day in hell\",\n",
        "    \"afaic\" : \"as far as i am concerned\",\n",
        "    \"afaict\" : \"as far as i can tell\",\n",
        "    \"afaik\" : \"as far as i know\",\n",
        "    \"afair\" : \"as far as i remember\",\n",
        "    \"afk\" : \"away from keyboard\",\n",
        "    \"app\" : \"application\",\n",
        "    \"approx\" : \"approximately\",\n",
        "    \"apps\" : \"applications\",\n",
        "    \"asap\" : \"as soon as possible\",\n",
        "    \"asl\" : \"age, sex, location\",\n",
        "    \"atk\" : \"at the keyboard\",\n",
        "    \"ave.\" : \"avenue\",\n",
        "    \"aymm\" : \"are you my mother\",\n",
        "    \"ayor\" : \"at your own risk\", \n",
        "    \"b&b\" : \"bed and breakfast\",\n",
        "    \"b+b\" : \"bed and breakfast\",\n",
        "    \"b.c\" : \"before christ\",\n",
        "    \"b2b\" : \"business to business\",\n",
        "    \"b2c\" : \"business to customer\",\n",
        "    \"b4\" : \"before\",\n",
        "    \"b4n\" : \"bye for now\",\n",
        "    \"b@u\" : \"back at you\",\n",
        "    \"bae\" : \"before anyone else\",\n",
        "    \"bak\" : \"back at keyboard\",\n",
        "    \"bbbg\" : \"bye bye be good\",\n",
        "    \"bbc\" : \"british broadcasting corporation\",\n",
        "    \"bbias\" : \"be back in a second\",\n",
        "    \"bbl\" : \"be back later\",\n",
        "    \"bbs\" : \"be back soon\",\n",
        "    \"be4\" : \"before\",\n",
        "    \"bfn\" : \"bye for now\",\n",
        "    \"blvd\" : \"boulevard\",\n",
        "    \"bout\" : \"about\",\n",
        "    \"brb\" : \"be right back\",\n",
        "    \"bros\" : \"brothers\",\n",
        "    \"brt\" : \"be right there\",\n",
        "    \"bsaaw\" : \"big smile and a wink\",\n",
        "    \"btw\" : \"by the way\",\n",
        "    \"bwl\" : \"bursting with laughter\",\n",
        "    \"c/o\" : \"care of\",\n",
        "    \"cet\" : \"central european time\",\n",
        "    \"cf\" : \"compare\",\n",
        "    \"cia\" : \"central intelligence agency\",\n",
        "    \"csl\" : \"can not stop laughing\",\n",
        "    \"cu\" : \"see you\",\n",
        "    \"cul8r\" : \"see you later\",\n",
        "    \"cv\" : \"curriculum vitae\",\n",
        "    \"cwot\" : \"complete waste of time\",\n",
        "    \"cya\" : \"see you\",\n",
        "    \"cyt\" : \"see you tomorrow\",\n",
        "    \"dae\" : \"does anyone else\",\n",
        "    \"dbmib\" : \"do not bother me i am busy\",\n",
        "    \"diy\" : \"do it yourself\",\n",
        "    \"dm\" : \"direct message\",\n",
        "    \"dwh\" : \"during work hours\",\n",
        "    \"e123\" : \"easy as one two three\",\n",
        "    \"eet\" : \"eastern european time\",\n",
        "    \"eg\" : \"example\",\n",
        "    \"embm\" : \"early morning business meeting\",\n",
        "    \"encl\" : \"enclosed\",\n",
        "    \"encl.\" : \"enclosed\",\n",
        "    \"etc\" : \"and so on\",\n",
        "    \"faq\" : \"frequently asked questions\",\n",
        "    \"fawc\" : \"for anyone who cares\",\n",
        "    \"fb\" : \"facebook\",\n",
        "    \"fc\" : \"fingers crossed\",\n",
        "    \"fig\" : \"figure\",\n",
        "    \"fimh\" : \"forever in my heart\", \n",
        "    \"ft.\" : \"feet\",\n",
        "    \"ft\" : \"featuring\",\n",
        "    \"ftl\" : \"for the loss\",\n",
        "    \"ftw\" : \"for the win\",\n",
        "    \"fwiw\" : \"for what it is worth\",\n",
        "    \"fyi\" : \"for your information\",\n",
        "    \"g9\" : \"genius\",\n",
        "    \"gahoy\" : \"get a hold of yourself\",\n",
        "    \"gal\" : \"get a life\",\n",
        "    \"gcse\" : \"general certificate of secondary education\",\n",
        "    \"gfn\" : \"gone for now\",\n",
        "    \"gg\" : \"good game\",\n",
        "    \"gl\" : \"good luck\",\n",
        "    \"glhf\" : \"good luck have fun\",\n",
        "    \"gmt\" : \"greenwich mean time\",\n",
        "    \"gmta\" : \"great minds think alike\",\n",
        "    \"gn\" : \"good night\",\n",
        "    \"g.o.a.t\" : \"greatest of all time\",\n",
        "    \"goat\" : \"greatest of all time\",\n",
        "    \"goi\" : \"get over it\",\n",
        "    \"gps\" : \"global positioning system\",\n",
        "    \"gr8\" : \"great\",\n",
        "    \"gratz\" : \"congratulations\",\n",
        "    \"gyal\" : \"girl\",\n",
        "    \"h&c\" : \"hot and cold\",\n",
        "    \"hp\" : \"horsepower\",\n",
        "    \"hr\" : \"hour\",\n",
        "    \"hrh\" : \"his royal highness\",\n",
        "    \"ht\" : \"height\",\n",
        "    \"ibrb\" : \"i will be right back\",\n",
        "    \"ic\" : \"i see\",\n",
        "    \"icq\" : \"i seek you\",\n",
        "    \"icymi\" : \"in case you missed it\",\n",
        "    \"idc\" : \"i do not care\",\n",
        "    \"idgadf\" : \"i do not give a damn fuck\",\n",
        "    \"idgaf\" : \"i do not give a fuck\",\n",
        "    \"idk\" : \"i do not know\",\n",
        "    \"ie\" : \"that is\",\n",
        "    \"i.e\" : \"that is\",\n",
        "    \"ifyp\" : \"i feel your pain\",\n",
        "    \"IG\" : \"instagram\",\n",
        "    \"iirc\" : \"if i remember correctly\",\n",
        "    \"ilu\" : \"i love you\",\n",
        "    \"ily\" : \"i love you\",\n",
        "    \"imho\" : \"in my humble opinion\",\n",
        "    \"imo\" : \"in my opinion\",\n",
        "    \"imu\" : \"i miss you\",\n",
        "    \"iow\" : \"in other words\",\n",
        "    \"irl\" : \"in real life\",\n",
        "    \"j4f\" : \"just for fun\",\n",
        "    \"jic\" : \"just in case\",\n",
        "    \"jk\" : \"just kidding\",\n",
        "    \"jsyk\" : \"just so you know\",\n",
        "    \"l8r\" : \"later\",\n",
        "    \"lb\" : \"pound\",\n",
        "    \"lbs\" : \"pounds\",\n",
        "    \"ldr\" : \"long distance relationship\",\n",
        "    \"lmaoo\" : \"laugh my ass off\",\n",
        "    \"lmaaoo\" : \"laugh my ass off\",\n",
        "    \"lmaao\" : \"laugh my ass off\",\n",
        "    \"lmao\" : \"laugh my ass off\",\n",
        "    \"lmfao\" : \"laugh my fucking ass off\",\n",
        "    \"lool\" : \"laughing out loud\",\n",
        "    \"lol\" : \"laughing out loud\",\n",
        "    \"ltd\" : \"limited\",\n",
        "    \"ltns\" : \"long time no see\",\n",
        "    \"m8\" : \"mate\",\n",
        "    \"mf\" : \"motherfucker\",\n",
        "    \"mfs\" : \"motherfuckers\",\n",
        "    \"mfw\" : \"my face when\",\n",
        "    \"mofo\" : \"motherfucker\",\n",
        "    \"mph\" : \"miles per hour\",\n",
        "    \"mr\" : \"mister\",\n",
        "    \"mrw\" : \"my reaction when\",\n",
        "    \"ms\" : \"miss\",\n",
        "    \"mte\" : \"my thoughts exactly\",\n",
        "    \"nagi\" : \"not a good idea\",\n",
        "    \"nbc\" : \"national broadcasting company\",\n",
        "    \"nbd\" : \"not big deal\",\n",
        "    \"nfs\" : \"not for sale\",\n",
        "    \"ngl\" : \"not going to lie\",\n",
        "    \"nhs\" : \"national health service\",\n",
        "    \"nrn\" : \"no reply necessary\",\n",
        "    \"nsfl\" : \"not safe for life\",\n",
        "    \"nsfw\" : \"not safe for work\",\n",
        "    \"nth\" : \"nice to have\",\n",
        "    \"nvr\" : \"never\",\n",
        "    \"nyc\" : \"new york city\",\n",
        "    \"oc\" : \"original content\",\n",
        "    \"og\" : \"original\",\n",
        "    \"ohp\" : \"overhead projector\",\n",
        "    \"oic\" : \"oh i see\",\n",
        "    \"omdb\" : \"over my dead body\",\n",
        "    \"omg\" : \"oh my god\",\n",
        "    \"omw\" : \"on my way\",\n",
        "    \"p.a\" : \"per annum\",\n",
        "    \"p.m\" : \"after midday\",\n",
        "    \"pm\" : \"prime minister\",\n",
        "    \"poc\" : \"people of color\",\n",
        "    \"pov\" : \"point of view\",\n",
        "    \"pp\" : \"pages\",\n",
        "    \"ppl\" : \"people\",\n",
        "    \"prw\" : \"parents are watching\",\n",
        "    \"ps\" : \"postscript\",\n",
        "    \"pt\" : \"point\",\n",
        "    \"ptb\" : \"please text back\",\n",
        "    \"pto\" : \"please turn over\",\n",
        "    \"qpsa\" : \"what happens\",\n",
        "    \"ratchet\" : \"rude\",\n",
        "    \"rbtl\" : \"read between the lines\",\n",
        "    \"rlrt\" : \"real life retweet\", \n",
        "    \"rofl\" : \"rolling on the floor laughing\",\n",
        "    \"roflol\" : \"rolling on the floor laughing out loud\",\n",
        "    \"rotflmao\" : \"rolling on the floor laughing my ass off\",\n",
        "    \"rt\" : \"retweet\",\n",
        "    \"ruok\" : \"are you ok\",\n",
        "    \"sfw\" : \"safe for work\",\n",
        "    \"sk8\" : \"skate\",\n",
        "    \"smh\" : \"shake my head\",\n",
        "    \"sq\" : \"square\",\n",
        "    \"srsly\" : \"seriously\", \n",
        "    \"ssdd\" : \"same stuff different day\",\n",
        "    \"tbh\" : \"to be honest\",\n",
        "    \"tbs\" : \"tablespooful\",\n",
        "    \"tbsp\" : \"tablespooful\",\n",
        "    \"tfw\" : \"that feeling when\",\n",
        "    \"thks\" : \"thank you\",\n",
        "    \"tho\" : \"though\",\n",
        "    \"thx\" : \"thank you\",\n",
        "    \"tia\" : \"thanks in advance\",\n",
        "    \"til\" : \"today i learned\",\n",
        "    \"tl;dr\" : \"too long i did not read\",\n",
        "    \"tldr\" : \"too long i did not read\",\n",
        "    \"tmb\" : \"tweet me back\",\n",
        "    \"tntl\" : \"trying not to laugh\",\n",
        "    \"ttyl\" : \"talk to you later\",\n",
        "    \"u\" : \"you\",\n",
        "    \"u2\" : \"you too\",\n",
        "    \"u4e\" : \"yours for ever\",\n",
        "    \"utc\" : \"coordinated universal time\",\n",
        "    \"w/\" : \"with\",\n",
        "    \"w/o\" : \"without\",\n",
        "    \"w8\" : \"wait\",\n",
        "    \"wassup\" : \"what is up\",\n",
        "    \"wb\" : \"welcome back\",\n",
        "    \"wtf\" : \"what the fuck\",\n",
        "    \"wtg\" : \"way to go\",\n",
        "    \"wtpa\" : \"where the party at\",\n",
        "    \"wuf\" : \"where are you from\",\n",
        "    \"wuzup\" : \"what is up\",\n",
        "    \"wywh\" : \"wish you were here\",\n",
        "    \"yd\" : \"yard\",\n",
        "    \"ygtr\" : \"you got that right\",\n",
        "    \"ynk\" : \"you never know\",\n",
        "    \"zzz\" : \"sleeping bored and tired\"\n",
        "}"
      ],
      "execution_count": 0,
      "outputs": []
    },
    {
      "cell_type": "markdown",
      "metadata": {
        "id": "FlSsSUxpeMxW",
        "colab_type": "text"
      },
      "source": [
        "#### Helper Functions"
      ]
    },
    {
      "cell_type": "markdown",
      "metadata": {
        "id": "XxIrMGp-PS2Y",
        "colab_type": "text"
      },
      "source": [
        "Below are a number of useful user-defined functions that will aid throughout the cleaning process. Though they will be described in more detail when used, one in particular are worth highlighting here:\n",
        "\n",
        "- **try_step()** - this function takes a function as its input, as well as other optional arguments, and applies the function to the corpus, saving the results in a temporary column. It then trains and evaluates a model on the new column to determine if the function improved performance. If it did, then the changes are applied to the `processed_text` column and the baseline score is updated. This function allows for the evaluation of different cleaning approaches."
      ]
    },
    {
      "cell_type": "code",
      "metadata": {
        "id": "AC3qqeFTjWex",
        "colab_type": "code",
        "colab": {}
      },
      "source": [
        "def try_step(function, vectorizer = 'universal', model = clf, base = baseline, reference = reference, target = 'temp', scoring = 'f1', folds = cv, coerce = False, random_state = rs, **kwargs):\n",
        "  \"\"\"\n",
        "  This function takes a function as its input, as well as other optional arguments.\n",
        "  It applies the function to the text and computes the resultant change in the target metric (F1-Score by default).\n",
        "  \"\"\"\n",
        "  global baseline\n",
        "\n",
        "  train[target] = train[reference].apply(lambda x: function(x, **kwargs))\n",
        "\n",
        "  if vectorizer == 'basic':\n",
        "    X_train, X_test, y, y_test = train_test_split(train[target], train['target'], random_state = random_state)\n",
        "    X = tfidf.fit_transform(X_train)\n",
        "    score = cross_val_score(model, X, y, cv = folds, scoring = scoring).mean()\n",
        "    \n",
        "  if vectorizer == 'universal':\n",
        "    X_temp = []\n",
        "    \n",
        "    for r in tqdm(train[reference].values):\n",
        "      emb = use(r)\n",
        "      review_emb = tf.reshape(emb, [-1]).numpy()\n",
        "      X_temp.append(review_emb)\n",
        "\n",
        "    X_temp = np.array(X_temp)\n",
        "    y_train = train['target'].values\n",
        "    X, test_arrays, y, test_labels = train_test_split(X_temp, y_train, random_state = random_state, test_size = 0.3)\n",
        "\n",
        "  score = cross_val_score(model, X, y, cv = folds, scoring = scoring).mean()\n",
        "  \n",
        "  print(\"Result: \\t\\t %.4f\" % (score))\n",
        "  print(\"Previous baseline: \\t %.4f\" % (baseline))\n",
        "  \n",
        "  if score > baseline:\n",
        "    print(Fore.GREEN + \"Improvement of: \\t %.4f\" % (np.round(score, 4) - np.round(baseline, 4)))\n",
        "    baseline = score\n",
        "    print(Fore.BLACK + \"\\nNew baseline: \\t\\t %.4f\" % (baseline))\n",
        "    train[reference] = train[target]\n",
        "  \n",
        "  elif score == baseline:\n",
        "    print(Fore.BLACK + \"\\nThis step does not change the baseline.\")\n",
        "    train[reference] = train[target]\n",
        "\n",
        "  else:\n",
        "    print(Fore.RED + \"Reduction of: \\t\\t%.4f\" % (score - baseline))\n",
        "    print(Fore.BLACK + \"\\nPrevious baseline remains the best.\")\n",
        "  \n",
        "  if coerce:\n",
        "    train[reference] = train[target]\n",
        "    baseline = score\n",
        "    print('\\nChange coerced')\n",
        "  \n",
        "  del train[target]\n",
        "\n",
        "\n",
        "\n",
        "def get_words(reference):\n",
        "  all_words = []\n",
        "\n",
        "  for tweet in reference:\n",
        "    table = str.maketrans('','',string.punctuation)\n",
        "    text = tweet.translate(table)\n",
        "    for word in text.split():\n",
        "      if word.lower() not in all_words:\n",
        "        all_words.append(word.lower())\n",
        "\n",
        "  return all_words\n",
        "\n",
        "\n",
        "def replace_expression(text, expression, replace_with):\n",
        "  text = re.sub(expression, replace_with, text)\n",
        "  return text\n",
        "\n",
        "\n",
        "def standardize_text(text):\n",
        "  text = text.replace(r\"http\\S+\", \"\")\n",
        "  text = text.replace(r\"http\", \"\")\n",
        "  text = text.replace(r\"@\\S+\", \"\")\n",
        "  text = text.replace(r\"[^A-Za-z0-9(),!?@\\'\\`\\\"\\_\\n]\", \" \")\n",
        "  text = text.replace(r\"@\", \"at \")\n",
        "  text = text.replace(r\"#\", \"hashtag \")\n",
        "  text = text.lower()\n",
        "  return text\n",
        "\n",
        "\n",
        "def spacing(text):\n",
        "  text = text.replace(r'\\t', ' ')\n",
        "  text = text.replace(r'\\n', ' ')\n",
        "  text = text.replace(r\"\\s+\", \" \")\n",
        "  return text\n",
        "\n",
        "\n",
        "def strip_html_tags(text):\n",
        "  soup = BeautifulSoup(text, \"html.parser\")\n",
        "  stripped_text = soup.get_text()\n",
        "  return stripped_text\n",
        "\n",
        "\n",
        "def remove_punct(text, punctuation):\n",
        "  table=str.maketrans('','', punctuation)\n",
        "  return text.translate(table)\n",
        "\n",
        "\n",
        "def remove_accented_chars(text):\n",
        "  text = unicodedata.normalize('NFKD', text).encode('ascii', 'ignore').decode('utf-8', 'ignore')\n",
        "  return text\n",
        "\n",
        "\n",
        "def stemming(text):\n",
        "  stemmer = SnowballStemmer(\"english\")\n",
        "  text = [stemmer.stem(word) for word in text.split()]\n",
        "  return \" \".join(text)\n",
        "\n",
        "\n",
        "mycompile = lambda pat:  re.compile(pat, re.UNICODE)\n",
        "\n",
        "NormalEyes = r'[:]'\n",
        "Wink = r'[;]'\n",
        "\n",
        "NoseArea = r'(o|O|-)'\n",
        "\n",
        "HappyMouths = r'[D\\)\\]]'\n",
        "SadMouths = r'[\\(\\[]'\n",
        "Tongue = r'[pP]'\n",
        "OtherMouths = r'[doO/\\\\]'\n",
        "\n",
        "happy_regex =  mycompile( '(\\^_\\^|' + NormalEyes + NoseArea + HappyMouths + ')')\n",
        "sad_regex = mycompile(NormalEyes + NoseArea + SadMouths)\n",
        "wink_regex = mycompile(Wink + NoseArea + HappyMouths)\n",
        "tongue_regex = mycompile(NormalEyes + NoseArea + Tongue)\n",
        "other_regex = mycompile( '('+NormalEyes+'|'+Wink+')'  + NoseArea + OtherMouths )\n",
        "\n",
        "Emoticon = (\n",
        "    \"(\"+NormalEyes+\"|\"+Wink+\")\" +\n",
        "    NoseArea + \n",
        "    \"(\"+Tongue+\"|\"+OtherMouths+\"|\"+SadMouths+\"|\"+HappyMouths+\")\"\n",
        ")\n",
        "\n",
        "emoticon_regex = mycompile(Emoticon)\n",
        "\n",
        "def happy_repl(match):\n",
        "  return '_HAPPY_'+match.group(1).upper()\n",
        "\n",
        "def sad_repl(match):\n",
        "  return '_SAD_'+match.group(1).upper()\n",
        "\n",
        "def wink_repl(match):\n",
        "  return '_WINK_'+match.group(1).upper()\n",
        "\n",
        "def emoticons(text):\n",
        "  text = re.sub( happy_regex, happy_repl, text )\n",
        "  text = re.sub( sad_regex, sad_repl, text )\n",
        "  text = re.sub( wink_regex, wink_repl, text )\n",
        "  return text\n",
        "\n",
        "\n",
        "spell = SpellChecker()\n",
        "def correct_spellings(text):\n",
        "  corrected_text = []\n",
        "  misspelled_words = spell.unknown(text.split())\n",
        "  for word in text.split():\n",
        "      if word in misspelled_words:\n",
        "          corrected_text.append(spell.correction(word))\n",
        "          print(word, ' '*(20-len(word)), \"===>\\t\", spell.correction(word))\n",
        "      else:\n",
        "          corrected_text.append(word)\n",
        "  return \" \".join(corrected_text)\n",
        "\n",
        "\n",
        "def remove_stopwords(text, words):\n",
        "  tokens = [x for x in word_tokenize(text) if x.lower() not in words]\n",
        "  return \" \".join(tokens)\n",
        "\n",
        "\n",
        "def stopwords_to_remove(words, baseline, reference, vectorizer = 'basic', cv = cv, clf = clf, scoring = 'f1', random_state = rs):\n",
        "  stop = []\n",
        "  i = 1\n",
        "\n",
        "  for word in words:\n",
        "    stop.append(word)\n",
        "    train['temp'] = reference.apply(remove_stopwords, words = stop)\n",
        "\n",
        "    if vectorizer == 'universal':\n",
        "      X_temp = []\n",
        "    \n",
        "      for r in tqdm(train['temp'].values):\n",
        "        emb = use(r)\n",
        "        review_emb = tf.reshape(emb, [-1]).numpy()\n",
        "        X_temp.append(review_emb)\n",
        "\n",
        "      X_temp = np.array(X_temp)\n",
        "      y_train = train['target'].values\n",
        "      X, test_arrays, y, test_labels = train_test_split(X_temp, y_train, random_state = random_state, test_size = 0.3)\n",
        "      score = cross_val_score(clf, X, y, cv = cv, scoring = scoring).mean()\n",
        "\n",
        "    if vectorizer == 'basic':\n",
        "      X, X_t, y, y_t = train_test_split(train['temp'], train['target'], random_state = random_state)\n",
        "      X = tfidf.fit_transform(X)\n",
        "      score = cross_val_score(clf, X, y, cv = cv, scoring = scoring).mean()\n",
        "    \n",
        "    \n",
        "    print(\"{}%\\t\".format(np.round((i/len(all_stopwords)*100), 2)), np.round(score, 4),'    \\t', stop)\n",
        "    i += 1\n",
        "\n",
        "    if score > baseline:\n",
        "      baseline = score\n",
        "      reference = reference.apply(remove_stopwords, words = stop)\n",
        "      \n",
        "    else:\n",
        "      stop.remove(word)\n",
        "  \n",
        "  print('\\nSelected stopwords to remove:\\n', stop)\n",
        "  return stop\n",
        "\n",
        "\n",
        "def convert_abbrev(word, words):\n",
        "  return words[word.lower()] if word.lower() in words.keys() else word\n",
        "\n",
        "\n",
        "def convert_abbrev_in_text(text, words):\n",
        "  tokens = word_tokenize(text)\n",
        "  tokens = [convert_abbrev(word, words) for word in tokens]\n",
        "  return ' '.join(tokens)\n",
        "\n",
        "\n",
        "def abbreviations_to_replace(words, baseline, reference, vectorizer = 'basic', cv = cv, clf = clf, scoring = 'f1', random_state = rs):\n",
        "  abbr = {}\n",
        "  i = 1\n",
        "\n",
        "  for k, v in words.items():\n",
        "    abbr[k] = v\n",
        "    train['temp'] = reference.apply(lambda x: convert_abbrev_in_text(x, words = abbr))\n",
        "    \n",
        "    if vectorizer == 'universal':\n",
        "      X_temp = []\n",
        "      \n",
        "      for r in tqdm(train['temp'].values):\n",
        "        emb = use(r)\n",
        "        review_emb = tf.reshape(emb, [-1]).numpy()\n",
        "        X_temp.append(review_emb)\n",
        "\n",
        "      X_temp = np.array(X_temp)\n",
        "      y_train = train['target'].values\n",
        "      X, test_arrays, y, test_labels = train_test_split(X_temp, y_train, random_state = random_state, test_size = 0.3)\n",
        "      score = cross_val_score(clf, X, y, cv = cv, scoring = scoring).mean()\n",
        "\n",
        "    if vectorizer == 'basic':\n",
        "      X_train, X_test, y, y_test = train_test_split(train['temp'], train['target'], random_state = rs)\n",
        "      X = tfidf.fit_transform(X_train)\n",
        "      score = cross_val_score(clf, X, y, cv=cv, scoring=scoring).mean()\n",
        "\n",
        "    print(\"{}%\\t\".format(np.round((i/len(words)*100), 2)), np.round(score, 4),'  \\t', abbr)\n",
        "    i += 1\n",
        "    \n",
        "    if score > baseline:\n",
        "      baseline = score\n",
        "      reference = reference.apply(lambda x: convert_abbrev_in_text(x, words = abbr))\n",
        "\n",
        "    else:\n",
        "      del abbr[k]\n",
        "\n",
        "  return abbr\n",
        "  print('\\nSelected abbreviations to replace:\\n', abbr)\n",
        "\n",
        "\n",
        "def expand_contractions(text, contraction_mapping):\n",
        "    \n",
        "    contractions_pattern = re.compile('({})'.format('|'.join(contraction_mapping.keys())), \n",
        "                                      flags=re.IGNORECASE|re.DOTALL)\n",
        "    def expand_match(contraction):\n",
        "        match = contraction.group(0)\n",
        "        first_char = match[0]\n",
        "        expanded_contraction = contraction_mapping.get(match)\\\n",
        "                                if contraction_mapping.get(match)\\\n",
        "                                else contraction_mapping.get(match.lower())                       \n",
        "        expanded_contraction = first_char+expanded_contraction[1:]\n",
        "        return expanded_contraction\n",
        "        \n",
        "    expanded_text = contractions_pattern.sub(expand_match, text)\n",
        "    expanded_text = re.sub(\"'\", \"\", expanded_text)\n",
        "    return expanded_text\n",
        "\n",
        "\n",
        "def contractions_to_expand(words, baseline, reference, vectorizer = 'basic', cv = cv, clf = clf, scoring = 'f1', random_state = rs):\n",
        "  contractions = {}\n",
        "  i = 1\n",
        "\n",
        "  for k, v in words.items():\n",
        "    contractions[k] = v\n",
        "    train['temp'] = reference.apply(lambda x: expand_contractions(x, contraction_mapping = contractions))\n",
        "    \n",
        "    if vectorizer == 'universal':\n",
        "      X_temp = []\n",
        "      \n",
        "      for r in tqdm(train['temp'].values):\n",
        "        emb = use(r)\n",
        "        review_emb = tf.reshape(emb, [-1]).numpy()\n",
        "        X_temp.append(review_emb)\n",
        "\n",
        "      X_temp = np.array(X_temp)\n",
        "      y_train = train['target'].values\n",
        "      X, test_arrays, y, test_labels = train_test_split(X_temp, y_train, random_state = random_state, test_size = 0.3)\n",
        "      score = cross_val_score(clf, X, y, cv = cv, scoring = scoring).mean()\n",
        "\n",
        "    if vectorizer == 'basic':\n",
        "      X_train, X_test, y, y_test = train_test_split(train['temp'], train['target'], random_state = random_state)\n",
        "      X = tfidf.fit_transform(X_train)\n",
        "      score = cross_val_score(clf, X, y, cv = cv, scoring = scoring).mean()\n",
        "    \n",
        "    print(\"{}%\\t\".format(np.round((i/len(words)*100), 2)), np.round(score, 4),'  \\t', contractions)\n",
        "    i += 1\n",
        "    \n",
        "    if score > baseline:\n",
        "      baseline = score\n",
        "      reference = reference.apply(lambda x: expand_contractions(x, contraction_mapping = contractions))\n",
        "  \n",
        "    else:\n",
        "      del contractions[k]\n",
        "    \n",
        "    return contractions\n",
        "    print('\\nContractions to expand:\\n', contractions)\n",
        "\n",
        "\n",
        "def remove_punct(text, punctuation):\n",
        "    table=str.maketrans('','', punctuation)\n",
        "    return text.translate(table)\n",
        "\n",
        "\n",
        "def punct_to_remove(baseline, reference, vectorizer = 'basic', cv = cv, clf = clf, scoring = 'f1', random_state = rs):\n",
        "  punc = ''\n",
        "  i = 1\n",
        "  \n",
        "  for p in string.punctuation:\n",
        "    punc = punc+p\n",
        "    train['temp'] = reference.apply(remove_punct, punctuation = punc)\n",
        "\n",
        "    if vectorizer == 'universal':\n",
        "      X_temp = []\n",
        "      \n",
        "      for r in tqdm(train['temp'].values):\n",
        "        emb = use(r)\n",
        "        review_emb = tf.reshape(emb, [-1]).numpy()\n",
        "        X_temp.append(review_emb)\n",
        "\n",
        "      X_temp = np.array(X_temp)\n",
        "      y_train = train['target'].values\n",
        "      X, test_arrays, y, test_labels = train_test_split(X_temp, y_train, random_state = random_state, test_size = 0.3)\n",
        "      score = cross_val_score(clf, X, y, cv = cv, scoring = scoring).mean()\n",
        "\n",
        "    if vectorizer == 'basic':\n",
        "      X_train, X_test, y, y_test = train_test_split(train['temp'], train['target'], random_state = random_state)\n",
        "      X = tfidf.fit_transform(X_train)\n",
        "      score = cross_val_score(clf, X, y, cv=cv, scoring=scoring).mean()\n",
        "\n",
        "    print(\"{}%\\t\".format(np.round((i/len(string.punctuation)*100), 2)), np.round(score, 4),'  \\t', punc)\n",
        "    i += 1\n",
        "  \n",
        "    if score > baseline:\n",
        "      baseline = score\n",
        "      \n",
        "    else:\n",
        "      punc = punc[:-1]\n",
        "\n",
        "  return punc\n",
        "  print('\\nSelected punctuation to remove:\\n', punc)"
      ],
      "execution_count": 0,
      "outputs": []
    },
    {
      "cell_type": "markdown",
      "metadata": {
        "id": "U_6RusD-wk6F",
        "colab_type": "text"
      },
      "source": [
        "#### Regular Expressions"
      ]
    },
    {
      "cell_type": "markdown",
      "metadata": {
        "id": "r-GpruYjQgEA",
        "colab_type": "text"
      },
      "source": [
        "Here, a few regular expressions are defined to be used as arguments for the `replace_expression` function."
      ]
    },
    {
      "cell_type": "code",
      "metadata": {
        "id": "--mg4uXWwm6D",
        "colab_type": "code",
        "colab": {}
      },
      "source": [
        "hashtags = {'expression' : r'#(\\w+)', 'replacement' : '_HASH_'}\n",
        "lengthening = {'expression': r\"(.)\\1{2,}\", 'replacement': r\"\\1\\1\"}\n",
        "special_characters = {'expression': r\"[^a-zA-Z\\'\\.\\,\\d\\s]\", 'replacement': \" \"}\n",
        "\n",
        "emoji_pattern = re.compile(\"[\"\n",
        "                      u\"\\U0001F600-\\U0001F64F\"  # emoticons\n",
        "                      u\"\\U0001F300-\\U0001F5FF\"  # symbols & pictographs\n",
        "                      u\"\\U0001F680-\\U0001F6FF\"  # transport & map symbols\n",
        "                      u\"\\U0001F1E0-\\U0001F1FF\"  # flags (iOS)\n",
        "                      u\"\\U00002702-\\U000027B0\"\n",
        "                      u\"\\U000024C2-\\U0001F251\"\n",
        "                      \"]+\", flags=re.UNICODE)\n",
        "\n",
        "emojis = {'expression': emoji_pattern, 'replacement': ' '}"
      ],
      "execution_count": 0,
      "outputs": []
    },
    {
      "cell_type": "markdown",
      "metadata": {
        "id": "zJ6ImBo4QV-V",
        "colab_type": "text"
      },
      "source": [
        "### Cleaning"
      ]
    },
    {
      "cell_type": "markdown",
      "metadata": {
        "id": "fyGIgYvaXw2r",
        "colab_type": "text"
      },
      "source": [
        "To start, I will list all the words in the training set to see what issues we can try to resolve. Note: the output produced by **get_words** is very crude, with punctuation removed and letters converted to lower-case. It is meant primarily for subsetting dictionaries used during cleaning. However, it gives us a useful high-level overview."
      ]
    },
    {
      "cell_type": "code",
      "metadata": {
        "colab_type": "code",
        "outputId": "24eecfae-d8db-43f2-d477-2b5555f18cb3",
        "id": "0A8zFKpu5uxy",
        "colab": {
          "base_uri": "https://localhost:8080/",
          "height": 1000
        }
      },
      "source": [
        "all_words = get_words(train[reference])\n",
        "all_words"
      ],
      "execution_count": 0,
      "outputs": [
        {
          "output_type": "execute_result",
          "data": {
            "text/plain": [
              "['our',\n",
              " 'deeds',\n",
              " 'are',\n",
              " 'the',\n",
              " 'reason',\n",
              " 'of',\n",
              " 'this',\n",
              " 'earthquake',\n",
              " 'may',\n",
              " 'allah',\n",
              " 'forgive',\n",
              " 'us',\n",
              " 'all',\n",
              " 'forest',\n",
              " 'fire',\n",
              " 'near',\n",
              " 'la',\n",
              " 'ronge',\n",
              " 'sask',\n",
              " 'canada',\n",
              " 'residents',\n",
              " 'asked',\n",
              " 'to',\n",
              " 'shelter',\n",
              " 'in',\n",
              " 'place',\n",
              " 'being',\n",
              " 'notified',\n",
              " 'by',\n",
              " 'officers',\n",
              " 'no',\n",
              " 'other',\n",
              " 'evacuation',\n",
              " 'or',\n",
              " 'orders',\n",
              " 'expected',\n",
              " '13000',\n",
              " 'people',\n",
              " 'receive',\n",
              " 'wildfires',\n",
              " 'california',\n",
              " 'just',\n",
              " 'got',\n",
              " 'sent',\n",
              " 'photo',\n",
              " 'from',\n",
              " 'ruby',\n",
              " 'alaska',\n",
              " 'as',\n",
              " 'smoke',\n",
              " 'pours',\n",
              " 'into',\n",
              " 'a',\n",
              " 'school',\n",
              " 'rockyfire',\n",
              " 'update',\n",
              " 'hwy',\n",
              " '20',\n",
              " 'closed',\n",
              " 'both',\n",
              " 'directions',\n",
              " 'due',\n",
              " 'lake',\n",
              " 'county',\n",
              " 'cafire',\n",
              " 'flood',\n",
              " 'disaster',\n",
              " 'heavy',\n",
              " 'rain',\n",
              " 'causes',\n",
              " 'flash',\n",
              " 'flooding',\n",
              " 'streets',\n",
              " 'manitou',\n",
              " 'colorado',\n",
              " 'springs',\n",
              " 'areas',\n",
              " 'im',\n",
              " 'on',\n",
              " 'top',\n",
              " 'hill',\n",
              " 'and',\n",
              " 'i',\n",
              " 'can',\n",
              " 'see',\n",
              " 'woods',\n",
              " 'theres',\n",
              " 'an',\n",
              " 'emergency',\n",
              " 'happening',\n",
              " 'now',\n",
              " 'building',\n",
              " 'across',\n",
              " 'street',\n",
              " 'afraid',\n",
              " 'that',\n",
              " 'tornado',\n",
              " 'is',\n",
              " 'coming',\n",
              " 'area',\n",
              " 'three',\n",
              " 'died',\n",
              " 'heat',\n",
              " 'wave',\n",
              " 'so',\n",
              " 'far',\n",
              " 'haha',\n",
              " 'south',\n",
              " 'tampa',\n",
              " 'getting',\n",
              " 'flooded',\n",
              " 'hah',\n",
              " 'wait',\n",
              " 'second',\n",
              " 'live',\n",
              " 'what',\n",
              " 'am',\n",
              " 'gonna',\n",
              " 'do',\n",
              " 'fvck',\n",
              " 'raining',\n",
              " 'florida',\n",
              " 'tampabay',\n",
              " '18',\n",
              " '19',\n",
              " 'days',\n",
              " 'ive',\n",
              " 'lost',\n",
              " 'count',\n",
              " 'bago',\n",
              " 'myanmar',\n",
              " 'we',\n",
              " 'arrived',\n",
              " 'damage',\n",
              " 'bus',\n",
              " '80',\n",
              " 'multi',\n",
              " 'car',\n",
              " 'crash',\n",
              " 'breaking',\n",
              " 'whats',\n",
              " 'up',\n",
              " 'man',\n",
              " 'love',\n",
              " 'fruits',\n",
              " 'summer',\n",
              " 'lovely',\n",
              " 'my',\n",
              " 'fast',\n",
              " 'goooooooaaaaaal',\n",
              " 'ridiculous',\n",
              " 'london',\n",
              " 'cool',\n",
              " 'skiing',\n",
              " 'wonderful',\n",
              " 'day',\n",
              " 'looooool',\n",
              " 'wayi',\n",
              " 'cant',\n",
              " 'eat',\n",
              " 'shit',\n",
              " 'was',\n",
              " 'nyc',\n",
              " 'last',\n",
              " 'week',\n",
              " 'girlfriend',\n",
              " 'cooool',\n",
              " 'you',\n",
              " 'like',\n",
              " 'pasta',\n",
              " 'end',\n",
              " 'bbcmtd',\n",
              " 'wholesale',\n",
              " 'markets',\n",
              " 'ablaze',\n",
              " 'httptcolhyxeohy6c',\n",
              " 'always',\n",
              " 'try',\n",
              " 'bring',\n",
              " 'metal',\n",
              " 'rt',\n",
              " 'httptcoyao1e0xngw',\n",
              " 'africanbaze',\n",
              " 'newsnigeria',\n",
              " 'flag',\n",
              " 'set',\n",
              " 'aba',\n",
              " 'httptco2nndbgwyei',\n",
              " 'crying',\n",
              " 'out',\n",
              " 'for',\n",
              " 'more',\n",
              " 'me',\n",
              " 'plus',\n",
              " 'side',\n",
              " 'look',\n",
              " 'at',\n",
              " 'sky',\n",
              " 'night',\n",
              " 'it',\n",
              " 'httptcoqqsmshaj3n',\n",
              " 'phdsquares',\n",
              " 'mufc',\n",
              " 'theyve',\n",
              " 'built',\n",
              " 'much',\n",
              " 'hype',\n",
              " 'around',\n",
              " 'new',\n",
              " 'acquisitions',\n",
              " 'but',\n",
              " 'doubt',\n",
              " 'they',\n",
              " 'will',\n",
              " 'epl',\n",
              " 'season',\n",
              " 'inec',\n",
              " 'office',\n",
              " 'abia',\n",
              " 'httptco3imaomknna',\n",
              " 'barbados',\n",
              " 'bridgetown',\n",
              " 'jamaica',\n",
              " '\\x89ûò',\n",
              " 'two',\n",
              " 'cars',\n",
              " 'santa',\n",
              " 'cruz',\n",
              " '\\x89ûó',\n",
              " 'head',\n",
              " 'st',\n",
              " 'elizabeth',\n",
              " 'police',\n",
              " 'superintende',\n",
              " 'httptcowdueaj8q4j',\n",
              " 'lord',\n",
              " 'd',\n",
              " 'check',\n",
              " 'these',\n",
              " 'httptcoroi2nsmejj',\n",
              " 'httptco3tj8zjin21',\n",
              " 'httptcoyduixefipe',\n",
              " 'httptcolxtjc87kls',\n",
              " 'nsfw',\n",
              " 'outside',\n",
              " 'youre',\n",
              " 'alive',\n",
              " 'dead',\n",
              " 'inside',\n",
              " 'had',\n",
              " 'awesome',\n",
              " 'time',\n",
              " 'visiting',\n",
              " 'cfc',\n",
              " 'ancop',\n",
              " 'site',\n",
              " 'thanks',\n",
              " 'tita',\n",
              " 'vida',\n",
              " 'taking',\n",
              " 'care',\n",
              " 'soooo',\n",
              " 'pumped',\n",
              " 'southridgelife',\n",
              " 'wanted',\n",
              " 'chicago',\n",
              " 'with',\n",
              " 'preaching',\n",
              " 'not',\n",
              " 'hotel',\n",
              " 'httptcoo9qknbfofx',\n",
              " 'gained',\n",
              " '3',\n",
              " 'followers',\n",
              " 'know',\n",
              " 'your',\n",
              " 'stats',\n",
              " 'grow',\n",
              " 'httptcotiyulif5c6',\n",
              " 'how',\n",
              " 'west',\n",
              " 'burned',\n",
              " 'thousands',\n",
              " 'alone',\n",
              " 'httptcovl5tbr3wbr',\n",
              " 'perfect',\n",
              " 'tracklist',\n",
              " 'life',\n",
              " 'leave',\n",
              " 'first',\n",
              " 'retainers',\n",
              " 'its',\n",
              " 'quite',\n",
              " 'weird',\n",
              " 'better',\n",
              " 'get',\n",
              " 'used',\n",
              " 'have',\n",
              " 'wear',\n",
              " 'them',\n",
              " 'every',\n",
              " 'single',\n",
              " 'next',\n",
              " 'year',\n",
              " 'least',\n",
              " 'deputies',\n",
              " 'shot',\n",
              " 'before',\n",
              " 'brighton',\n",
              " 'home',\n",
              " 'httptcogwnrhmso8k',\n",
              " 'wife',\n",
              " 'six',\n",
              " 'years',\n",
              " 'jail',\n",
              " 'setting',\n",
              " 'niece',\n",
              " 'httptcoev1ahoucza',\n",
              " 'superintendent',\n",
              " 'lanford',\n",
              " 'salmon',\n",
              " 'has',\n",
              " 'r',\n",
              " 'httptcovplr5hka2u',\n",
              " 'httptcosxhw2tnnlf',\n",
              " 'arsonist',\n",
              " 'deliberately',\n",
              " 'black',\n",
              " 'church',\n",
              " 'north',\n",
              " 'carolinaåêablaze',\n",
              " 'httptcopcxarbh9an',\n",
              " 'noches',\n",
              " 'elbestia',\n",
              " 'alexissanchez',\n",
              " 'happy',\n",
              " 'teammates',\n",
              " 'training',\n",
              " 'hard',\n",
              " 'goodnight',\n",
              " 'gunners',\n",
              " 'httptcouc4j4jhvgr',\n",
              " 'kurds',\n",
              " 'trampling',\n",
              " 'turkmen',\n",
              " 'later',\n",
              " 'while',\n",
              " 'others',\n",
              " 'vandalized',\n",
              " 'offices',\n",
              " 'front',\n",
              " 'diyala',\n",
              " 'httptco4izfdyc3cg',\n",
              " 'truck',\n",
              " 'r21',\n",
              " 'voortrekker',\n",
              " 'ave',\n",
              " 'tambo',\n",
              " 'intl',\n",
              " 'cargo',\n",
              " 'section',\n",
              " 'httptco8kscqkfkkf',\n",
              " 'hearts',\n",
              " 'city',\n",
              " 'gift',\n",
              " 'skyline',\n",
              " 'kiss',\n",
              " 'upon',\n",
              " 'lips',\n",
              " '\\x89û',\n",
              " 'httpstcocyompz1a0z',\n",
              " 'tonight',\n",
              " 'los',\n",
              " 'angeles',\n",
              " 'expecting',\n",
              " 'ig',\n",
              " 'fb',\n",
              " 'be',\n",
              " 'filled',\n",
              " 'sunset',\n",
              " 'shots',\n",
              " 'if',\n",
              " 'peeps',\n",
              " 'httptcoicsjgz9te1',\n",
              " 'climate',\n",
              " 'energy',\n",
              " 'httptco9fxmn0l0bd',\n",
              " 'revel',\n",
              " 'yours',\n",
              " 'wmv',\n",
              " 'videos',\n",
              " 'means',\n",
              " 'mac',\n",
              " 'farewell',\n",
              " 'en',\n",
              " 'route',\n",
              " 'dvd',\n",
              " 'gtxrwm',\n",
              " 'progressive',\n",
              " 'greetings',\n",
              " 'about',\n",
              " 'month',\n",
              " 'students',\n",
              " 'would',\n",
              " 'their',\n",
              " 'pens',\n",
              " 'torch',\n",
              " 'publications',\n",
              " 'httptco9fxpixqujt',\n",
              " 'rene',\n",
              " 'amp',\n",
              " 'jacinta',\n",
              " 'secret',\n",
              " '2k13',\n",
              " 'fallen',\n",
              " 'skies',\n",
              " 'edit',\n",
              " 'mar',\n",
              " '30',\n",
              " '2013',\n",
              " 'httpstco7mlmsuzv1z',\n",
              " 'navista7',\n",
              " 'steve',\n",
              " 'fires',\n",
              " 'here',\n",
              " 'something',\n",
              " 'else',\n",
              " 'tinderbox',\n",
              " 'clown',\n",
              " 'hood',\n",
              " 'news24680',\n",
              " 'nowplaying',\n",
              " 'ian',\n",
              " 'buff',\n",
              " 'magnitude',\n",
              " 'httptcoav2jsjfftc',\n",
              " 'edm',\n",
              " 'nxwestmidlands',\n",
              " 'huge',\n",
              " 'httptcorwzbfvnxer',\n",
              " 'does',\n",
              " 'talk',\n",
              " 'go',\n",
              " 'until',\n",
              " 'dont',\n",
              " 'make',\n",
              " 'work',\n",
              " 'kids',\n",
              " 'cuz',\n",
              " 'bicycle',\n",
              " 'accident',\n",
              " 'split',\n",
              " 'testicles',\n",
              " 'impossible',\n",
              " 'michael',\n",
              " 'father',\n",
              " 'i24',\n",
              " 'w',\n",
              " 'nashvilletraffic',\n",
              " 'traffic',\n",
              " 'moving',\n",
              " '8m',\n",
              " 'slower',\n",
              " 'than',\n",
              " 'usual',\n",
              " 'httpstco0ghk693egj',\n",
              " 'center',\n",
              " 'lane',\n",
              " 'blocked',\n",
              " 'santaclara',\n",
              " 'us101',\n",
              " 'nb',\n",
              " 'great',\n",
              " 'america',\n",
              " 'pkwy',\n",
              " 'bayarea',\n",
              " 'httptcopmlohzurwr',\n",
              " 'httptcogkye6gjtk5',\n",
              " 'personalinjury',\n",
              " 'read',\n",
              " 'advice',\n",
              " 'solicitor',\n",
              " 'help',\n",
              " 'otleyhour',\n",
              " 'stlouis',\n",
              " 'caraccidentlawyer',\n",
              " 'speeding',\n",
              " 'among',\n",
              " 'teen',\n",
              " 'accidents',\n",
              " 'httpstcok4zomof319',\n",
              " 'httpstcos2kxvm0cba',\n",
              " 'tee\\x89û',\n",
              " 'reported',\n",
              " 'motor',\n",
              " 'vehicle',\n",
              " 'curry',\n",
              " 'herman',\n",
              " 'rd',\n",
              " 'stephenson',\n",
              " 'involving',\n",
              " 'overturned',\n",
              " 'please',\n",
              " 'use',\n",
              " 'httptcoybjezkurw1',\n",
              " 'bigrigradio',\n",
              " 'awareness',\n",
              " 'i77',\n",
              " 'mile',\n",
              " 'marker',\n",
              " '31',\n",
              " 'mooresville',\n",
              " 'iredell',\n",
              " 'ramp',\n",
              " '86',\n",
              " '118',\n",
              " 'pm',\n",
              " 'sleepjunkies',\n",
              " 'sleeping',\n",
              " 'pills',\n",
              " 'double',\n",
              " 'risk',\n",
              " 'httptco7s9nm1fict',\n",
              " 'knew',\n",
              " 'gon',\n",
              " 'happen',\n",
              " 'httpstcoysxun5vceh',\n",
              " 'n',\n",
              " 'cabrillo',\n",
              " 'hwymagellan',\n",
              " 'av',\n",
              " 'mir',\n",
              " '080615',\n",
              " '110358',\n",
              " '40',\n",
              " 'congestion',\n",
              " 'pastor',\n",
              " 'scene',\n",
              " 'accidentwho',\n",
              " 'owner',\n",
              " 'range',\n",
              " 'rover',\n",
              " 'mom',\n",
              " 'didnt',\n",
              " 'wished',\n",
              " 'why',\n",
              " 'there',\n",
              " 'some',\n",
              " 'spilt',\n",
              " 'mayonnaise',\n",
              " 'over',\n",
              " 'horrible',\n",
              " 'past',\n",
              " 'sunday',\n",
              " 'finally',\n",
              " 'able',\n",
              " 'thank',\n",
              " 'god',\n",
              " 'pissed',\n",
              " 'donnie',\n",
              " 'when',\n",
              " 'tell',\n",
              " 'him',\n",
              " 'another',\n",
              " 'truckcrash',\n",
              " 'overturns',\n",
              " 'fortworth',\n",
              " 'interstate',\n",
              " 'httptcors22lj4qfp',\n",
              " 'click',\n",
              " 'youve',\n",
              " 'been',\n",
              " 'crashgthttptcold0uniyw4k',\n",
              " 'ashville',\n",
              " '23',\n",
              " 'sb',\n",
              " 'sr',\n",
              " '752',\n",
              " 'httptcohylmo0wgfi',\n",
              " 'carolina',\n",
              " 'motorcyclist',\n",
              " 'dies',\n",
              " 'i540',\n",
              " 'crossed',\n",
              " 'median',\n",
              " 'motorcycle',\n",
              " 'rider',\n",
              " 'traveling',\n",
              " 'httptcop18lzrlmy6',\n",
              " 'fyi',\n",
              " 'cadfyi',\n",
              " 'property',\n",
              " 'damagenhs999',\n",
              " 'piner',\n",
              " 'rdhorndale',\n",
              " 'dr',\n",
              " 'naayf',\n",
              " 'turning',\n",
              " 'onto',\n",
              " 'chandanee',\n",
              " 'magu',\n",
              " 'mma',\n",
              " 'taxi',\n",
              " 'rammed',\n",
              " 'halfway',\n",
              " 'turned',\n",
              " 'everyone',\n",
              " 'conf\\x89û',\n",
              " 'left',\n",
              " 'manchester',\n",
              " '293',\n",
              " 'eddy',\n",
              " 'stop',\n",
              " 'back',\n",
              " 'nh3a',\n",
              " 'delay',\n",
              " '4',\n",
              " 'mins',\n",
              " 'httptcooia5fxi4gm',\n",
              " 'damagewpd1600',\n",
              " 's',\n",
              " '17th',\n",
              " '862015209',\n",
              " 'injury',\n",
              " '2781',\n",
              " 'willis',\n",
              " 'foreman',\n",
              " 'httptcovckit6edev',\n",
              " 'aashiqui',\n",
              " 'actress',\n",
              " 'anu',\n",
              " 'aggarwal',\n",
              " 'her',\n",
              " 'nearfatal',\n",
              " 'httptco6otfp31lqw',\n",
              " 'suffield',\n",
              " 'alberta',\n",
              " 'httpstcobptmlf4p10',\n",
              " '9',\n",
              " 'backup',\n",
              " 'southaccident',\n",
              " 'blocking',\n",
              " 'right',\n",
              " '2',\n",
              " 'lanes',\n",
              " 'exit',\n",
              " 'langtree',\n",
              " 'rdconsider',\n",
              " 'nc',\n",
              " '115',\n",
              " '150',\n",
              " '16',\n",
              " 'alternate',\n",
              " 'changed',\n",
              " 'determine',\n",
              " 'options',\n",
              " 'financially',\n",
              " 'support',\n",
              " 'plans',\n",
              " 'ongoing',\n",
              " 'treatment',\n",
              " 'deadly',\n",
              " 'happened',\n",
              " 'hagerstown',\n",
              " 'today',\n",
              " 'ill',\n",
              " 'details',\n",
              " '5',\n",
              " 'your4state',\n",
              " 'whag',\n",
              " 'flowri',\n",
              " 'were',\n",
              " 'marinading',\n",
              " 'only',\n",
              " 'even',\n",
              " 'fucking',\n",
              " 'mfs',\n",
              " 'drive',\n",
              " 'norwaymfa',\n",
              " 'bahrain',\n",
              " 'previously',\n",
              " 'road',\n",
              " 'killed',\n",
              " 'explosion',\n",
              " 'httpstcogfjfgtodad',\n",
              " 'still',\n",
              " 'heard',\n",
              " 'leaders',\n",
              " 'kenya',\n",
              " 'forward',\n",
              " 'comment',\n",
              " 'issue',\n",
              " 'disciplinary',\n",
              " 'measuresarrestpastornganga',\n",
              " 'aftershockdelo',\n",
              " 'scuf',\n",
              " 'ps',\n",
              " 'game',\n",
              " 'cya',\n",
              " 'who',\n",
              " 'himself',\n",
              " 'further',\n",
              " 'once',\n",
              " 'effort',\n",
              " 'gets',\n",
              " 'painful',\n",
              " 'win',\n",
              " 'roger',\n",
              " 'bannister',\n",
              " '320',\n",
              " 'ir',\n",
              " 'icemoon',\n",
              " 'aftershock',\n",
              " 'httptcoynxnvvkcda',\n",
              " 'djicemoon',\n",
              " 'dubstep',\n",
              " 'trapmusic',\n",
              " 'dnb',\n",
              " 'dance',\n",
              " 'ices\\x89û',\n",
              " 'httptcoweqpesenku',\n",
              " 'victory',\n",
              " 'bargain',\n",
              " 'basement',\n",
              " 'prices',\n",
              " 'dwight',\n",
              " 'david',\n",
              " 'eisenhower',\n",
              " 'nobody',\n",
              " 'remembers',\n",
              " 'came',\n",
              " 'charles',\n",
              " 'schulz',\n",
              " 'speaking',\n",
              " 'someone',\n",
              " 'using',\n",
              " 'xb1',\n",
              " 'most',\n",
              " 'also',\n",
              " 'harder',\n",
              " 'conflict',\n",
              " 'glorious',\n",
              " 'triumph',\n",
              " 'thomas',\n",
              " 'paine',\n",
              " 'growingupspoiled',\n",
              " 'going',\n",
              " 'clay',\n",
              " 'pigeon',\n",
              " 'shooting',\n",
              " 'because',\n",
              " 'guess',\n",
              " 'one',\n",
              " 'actually',\n",
              " 'wants',\n",
              " 'any',\n",
              " 'free',\n",
              " 'tc',\n",
              " 'terrifying',\n",
              " 'best',\n",
              " 'roller',\n",
              " 'coaster',\n",
              " 'ever',\n",
              " 'disclaimer',\n",
              " 'very',\n",
              " 'few',\n",
              " 'httpstcoxmwodfmtui',\n",
              " 'kjfordays',\n",
              " 'seeing',\n",
              " 'issues',\n",
              " 'wisdomwed',\n",
              " 'bonus',\n",
              " 'minute',\n",
              " 'daily',\n",
              " 'habits',\n",
              " 'could',\n",
              " 'really',\n",
              " 'improve',\n",
              " 'many',\n",
              " 'already',\n",
              " 'lifehacks',\n",
              " 'httptcotbm9fqb8cw',\n",
              " 'protect',\n",
              " 'yourself',\n",
              " 'profit',\n",
              " 'global',\n",
              " 'financial',\n",
              " 'meltdown',\n",
              " 'wiedemer',\n",
              " 'http',\n",
              " 'httptcowztz4hgmvq',\n",
              " 'moment',\n",
              " 'scary',\n",
              " 'guy',\n",
              " 'behind',\n",
              " 'screaming',\n",
              " 'bloody',\n",
              " 'murder',\n",
              " 'silverwood',\n",
              " '\\x89ã¢',\n",
              " '2010',\n",
              " 'full\\x89ã¢',\n",
              " 'streaming',\n",
              " 'youtube',\n",
              " 'httptcovve3usesgf',\n",
              " 'gtgt',\n",
              " '15',\n",
              " 'book',\n",
              " 'httptcof6ntuc734z',\n",
              " 'esquireattire',\n",
              " 'sometimes',\n",
              " 'face',\n",
              " 'difficulties',\n",
              " 'doing',\n",
              " 'wrong',\n",
              " 'joel',\n",
              " 'osteen',\n",
              " 'thing',\n",
              " 'stands',\n",
              " 'between',\n",
              " 'dream',\n",
              " 'belief',\n",
              " 'possible',\n",
              " 'brown',\n",
              " 'praise',\n",
              " 'ministry',\n",
              " 'tells',\n",
              " 'wdyouth',\n",
              " 'biblestudy',\n",
              " 'httpstcoujk0e5gbcc',\n",
              " 'remembering',\n",
              " 'die',\n",
              " 'way',\n",
              " 'avoid',\n",
              " 'trap',\n",
              " 'thinking',\n",
              " 'lose',\n",
              " 'jobs',\n",
              " 'tried',\n",
              " 'orange',\n",
              " 'never',\n",
              " 'same',\n",
              " 'onfireanders',\n",
              " 'bb',\n",
              " 'httpstcojv8ppkhjy7',\n",
              " 'kick',\n",
              " 'off',\n",
              " 'want',\n",
              " 'making',\n",
              " 'say',\n",
              " 'cannot',\n",
              " 'done',\n",
              " 'should',\n",
              " 'interrupt',\n",
              " 'those',\n",
              " 'george',\n",
              " 'bernard',\n",
              " 'shaw',\n",
              " 'oyster',\n",
              " 'shell',\n",
              " 'andrew',\n",
              " 'carnegie',\n",
              " 'anyone',\n",
              " 'need',\n",
              " 'pu',\n",
              " 'play',\n",
              " 'hybrid',\n",
              " 'slayer',\n",
              " 'ps4',\n",
              " 'eu',\n",
              " 'hmu',\n",
              " 'cod8sandscrims',\n",
              " 'empirikgaming',\n",
              " 'codawscrims',\n",
              " '4tpkotc',\n",
              " '4tpfa',\n",
              " 'aftershockorg',\n",
              " 'experts',\n",
              " 'france',\n",
              " 'begin',\n",
              " 'examining',\n",
              " 'airplane',\n",
              " 'debris',\n",
              " 'found',\n",
              " 'reunion',\n",
              " 'island',\n",
              " 'french',\n",
              " 'air',\n",
              " 'o',\n",
              " 'httptcoyvvpznzmxg',\n",
              " 'news',\n",
              " 'strict',\n",
              " 'liability',\n",
              " 'context',\n",
              " 'pilot',\n",
              " 'error',\n",
              " 'common',\n",
              " 'component',\n",
              " 'aviation',\n",
              " 'cr',\n",
              " 'httptco6cz3bohrd4',\n",
              " 'crobscarla',\n",
              " 'lifetime',\n",
              " 'odds',\n",
              " 'dying',\n",
              " '1',\n",
              " '8015',\n",
              " 'wedn',\n",
              " 'httptcobkpfpogysi',\n",
              " 'alexalltimelow',\n",
              " 'awwww',\n",
              " 'theyre',\n",
              " 'cuties',\n",
              " 'good',\n",
              " 'job',\n",
              " 'family',\n",
              " 'members',\n",
              " 'osama',\n",
              " 'bin',\n",
              " 'laden',\n",
              " 'ironic',\n",
              " 'mhmmm',\n",
              " 'gov',\n",
              " 'suspect',\n",
              " 'goes',\n",
              " 'engine',\n",
              " 'httptcotyjxrfd3st',\n",
              " 'via',\n",
              " 'wings',\n",
              " '29072015',\n",
              " 'httptcoi7kztevb2v',\n",
              " 'cessna',\n",
              " 'ocampo',\n",
              " 'coahuila',\n",
              " 'mexico',\n",
              " 'july',\n",
              " '29',\n",
              " '2015',\n",
              " 'four',\n",
              " 'men',\n",
              " 'including',\n",
              " 'state',\n",
              " 'government',\n",
              " 'official',\n",
              " 'watchthevideo',\n",
              " 'httptcop64xrvgjik',\n",
              " 'httptcolsmx2vwr3j',\n",
              " 'wednesday\\x89û',\n",
              " 'wednesday',\n",
              " 'began',\n",
              " 't',\n",
              " 'kca',\n",
              " 'votejkt48id',\n",
              " 'mbataweel',\n",
              " 'rip',\n",
              " 'binladen',\n",
              " 'airplanes',\n",
              " 'almost',\n",
              " 'coworker',\n",
              " 'nudes',\n",
              " 'mode',\n",
              " 'mickinyman',\n",
              " 'theatlantic',\n",
              " 'might',\n",
              " 'wreck',\n",
              " 'politics',\n",
              " 'unbelievably',\n",
              " 'insane',\n",
              " 'airport',\n",
              " 'aircraft',\n",
              " 'aeroplane',\n",
              " 'runway',\n",
              " 'freaky\\x89û',\n",
              " 'httpstcocezhq7czll',\n",
              " 'airplaneåê29072015',\n",
              " 'httptcowq3wjsgphl',\n",
              " 'usama',\n",
              " 'ladins',\n",
              " 'naturally',\n",
              " 'plane',\n",
              " 'festival',\n",
              " 'httpstcokq9ae6ap2b',\n",
              " 'death',\n",
              " 'carfest',\n",
              " 'httptcogibyqhhkpk',\n",
              " 'dtn',\n",
              " 'brazil',\n",
              " 'exp',\n",
              " 'httptcom9ig3wq8lq',\n",
              " '\\x89ûïairplane\\x89û\\x9d',\n",
              " 'wtf',\n",
              " 'can\\x89ûªt',\n",
              " 'believe',\n",
              " 'eyes',\n",
              " 'httptco6ffylajwps',\n",
              " 'nicole',\n",
              " 'fletcher',\n",
              " 'victim',\n",
              " 'crashed',\n",
              " 'times',\n",
              " ...]"
            ]
          },
          "metadata": {
            "tags": []
          },
          "execution_count": 89
        }
      ]
    },
    {
      "cell_type": "markdown",
      "metadata": {
        "id": "EoPZxtE8XhwQ",
        "colab_type": "text"
      },
      "source": [
        "The following can be seen from the output above:\n",
        "\n",
        "- Many URLs\n",
        "- Many misspelled or elongated words\n",
        "- Many words combined without spaces (likely hashtags)\n"
      ]
    },
    {
      "cell_type": "markdown",
      "metadata": {
        "id": "KvElzdL5Y63E",
        "colab_type": "text"
      },
      "source": [
        "#### Spacing consistency"
      ]
    },
    {
      "cell_type": "markdown",
      "metadata": {
        "id": "6SdtNXqvZQsV",
        "colab_type": "text"
      },
      "source": [
        "This step merely attempts to resolve '\\n', '\\t' and extra spaces, by replacing them with a single space. The function used can be seen here:\n",
        "\n",
        "```\n",
        "def spacing(text):\n",
        "  text = text.replace(r'\\t', ' ')\n",
        "  text = text.replace(r'\\n', ' ')\n",
        "  text = text.replace(r\"\\s+\", \" \")\n",
        "  return text\n",
        "```\n",
        "\n",
        "\n"
      ]
    },
    {
      "cell_type": "code",
      "metadata": {
        "id": "MgUYtI8iY_NB",
        "colab_type": "code",
        "outputId": "07fc6098-ff01-4766-a6c8-aa4e4f61816a",
        "colab": {
          "base_uri": "https://localhost:8080/",
          "height": 187
        }
      },
      "source": [
        "try_step(spacing)"
      ],
      "execution_count": 0,
      "outputs": [
        {
          "output_type": "stream",
          "text": [
            "100%|██████████| 6842/6842 [01:24<00:00, 80.67it/s]\n",
            "/usr/local/lib/python3.6/dist-packages/scipy/optimize/linesearch.py:314: LineSearchWarning: The line search algorithm did not converge\n",
            "  warn('The line search algorithm did not converge', LineSearchWarning)\n",
            "/usr/local/lib/python3.6/dist-packages/sklearn/utils/optimize.py:204: UserWarning: Line Search failed\n",
            "  warnings.warn('Line Search failed')\n"
          ],
          "name": "stderr"
        },
        {
          "output_type": "stream",
          "text": [
            "Result: \t\t 0.7600\n",
            "Previous baseline: \t 0.7606\n",
            "\u001b[31mReduction of: \t\t-0.0006\n",
            "\u001b[30m\n",
            "Previous baseline remains the best.\n"
          ],
          "name": "stdout"
        }
      ]
    },
    {
      "cell_type": "markdown",
      "metadata": {
        "id": "kq1YkDMaaCNh",
        "colab_type": "text"
      },
      "source": [
        "It appears that this step did not improve performance."
      ]
    },
    {
      "cell_type": "markdown",
      "metadata": {
        "id": "Yo7umDR8sIFz",
        "colab_type": "text"
      },
      "source": [
        "#### Simple standardization"
      ]
    },
    {
      "cell_type": "markdown",
      "metadata": {
        "id": "hoa1SybtZkiQ",
        "colab_type": "text"
      },
      "source": [
        "Here, basic standardization is done using the function below:\n",
        "\n",
        "\n",
        "\n",
        "```\n",
        "def standardize_text(text):\n",
        "  text = text.replace(r\"http\\S+\", \"\")\n",
        "  text = text.replace(r\"http\", \"\")\n",
        "  text = text.replace(r\"@\\S+\", \"\")\n",
        "  text = text.replace(r\"[^A-Za-z0-9(),!?@\\'\\`\\\"\\_\\n]\", \" \")\n",
        "  text = text.replace(r\"@\", \"at \")\n",
        "  text = text.replace(r\"#\", \"hashtag \")\n",
        "  text = text.lower()\n",
        "  return text\n",
        "```\n",
        "\n",
        "With this function, URLs, user mentions, uncommon characters and hashtags are cleaned to ensure consistency."
      ]
    },
    {
      "cell_type": "code",
      "metadata": {
        "id": "xgrRDYFmqbi1",
        "colab_type": "code",
        "outputId": "cd62623b-3ad4-47d0-ac2d-ebb8c94f1573",
        "colab": {
          "base_uri": "https://localhost:8080/",
          "height": 119
        }
      },
      "source": [
        "try_step(standardize_text)"
      ],
      "execution_count": 0,
      "outputs": [
        {
          "output_type": "stream",
          "text": [
            "100%|██████████| 6842/6842 [01:24<00:00, 80.57it/s]\n"
          ],
          "name": "stderr"
        },
        {
          "output_type": "stream",
          "text": [
            "Result: \t\t 0.7577\n",
            "Previous baseline: \t 0.7606\n",
            "\u001b[31mReduction of: \t\t-0.0029\n",
            "\u001b[30m\n",
            "Previous baseline remains the best.\n"
          ],
          "name": "stdout"
        }
      ]
    },
    {
      "cell_type": "markdown",
      "metadata": {
        "id": "JDwSEiuW4DYs",
        "colab_type": "text"
      },
      "source": [
        "As expected, performance is uneffected by this step."
      ]
    },
    {
      "cell_type": "markdown",
      "metadata": {
        "id": "xxV-r1Nbp7YE",
        "colab_type": "text"
      },
      "source": [
        "#### Remove \"\\x89..\""
      ]
    },
    {
      "cell_type": "code",
      "metadata": {
        "id": "JMC6jUhhq6Gg",
        "colab_type": "code",
        "outputId": "f7065e14-fd7b-4d90-dd66-e48f71483674",
        "colab": {
          "base_uri": "https://localhost:8080/",
          "height": 187
        }
      },
      "source": [
        "try_step(replace_expression, expression = r'\\x89.+', replace_with = ' ')"
      ],
      "execution_count": 0,
      "outputs": [
        {
          "output_type": "stream",
          "text": [
            "100%|██████████| 6842/6842 [01:26<00:00, 79.20it/s]\n",
            "/usr/local/lib/python3.6/dist-packages/scipy/optimize/linesearch.py:314: LineSearchWarning: The line search algorithm did not converge\n",
            "  warn('The line search algorithm did not converge', LineSearchWarning)\n",
            "/usr/local/lib/python3.6/dist-packages/sklearn/utils/optimize.py:204: UserWarning: Line Search failed\n",
            "  warnings.warn('Line Search failed')\n"
          ],
          "name": "stderr"
        },
        {
          "output_type": "stream",
          "text": [
            "Result: \t\t 0.7632\n",
            "Previous baseline: \t 0.7606\n",
            "\u001b[32mImprovement of: \t 0.0026\n",
            "\u001b[30m\n",
            "New baseline: \t\t 0.7632\n"
          ],
          "name": "stdout"
        }
      ]
    },
    {
      "cell_type": "markdown",
      "metadata": {
        "id": "8aYzhCxnsIlK",
        "colab_type": "text"
      },
      "source": [
        "Removal of this expression along with everything that follows it appears to make performance worse.\n",
        "\n",
        "After some experimentation, we see that removal of the expression along with the two characters that follow it leads to the greatest improvement in performance."
      ]
    },
    {
      "cell_type": "code",
      "metadata": {
        "id": "DYxAd1NRtGHV",
        "colab_type": "code",
        "outputId": "2116c4e1-839b-4cd6-b43a-051633378e10",
        "colab": {
          "base_uri": "https://localhost:8080/",
          "height": 119
        }
      },
      "source": [
        "try_step(replace_expression, expression = r'\\x89..', replace_with = ' ')"
      ],
      "execution_count": 0,
      "outputs": [
        {
          "output_type": "stream",
          "text": [
            "100%|██████████| 6842/6842 [01:26<00:00, 78.99it/s]\n"
          ],
          "name": "stderr"
        },
        {
          "output_type": "stream",
          "text": [
            "Result: \t\t 0.7514\n",
            "Previous baseline: \t 0.7632\n",
            "\u001b[31mReduction of: \t\t-0.0118\n",
            "\u001b[30m\n",
            "Previous baseline remains the best.\n"
          ],
          "name": "stdout"
        }
      ]
    },
    {
      "cell_type": "markdown",
      "metadata": {
        "id": "ypu1oQCZvno_",
        "colab_type": "text"
      },
      "source": [
        "#### Retweets"
      ]
    },
    {
      "cell_type": "markdown",
      "metadata": {
        "id": "rX-cr_TWzseX",
        "colab_type": "text"
      },
      "source": [
        "Next, we treat retweets by simply replacement the \"RT \" expression with \"\\_RT_\". "
      ]
    },
    {
      "cell_type": "code",
      "metadata": {
        "id": "z-Ff8-p1vtIW",
        "colab_type": "code",
        "outputId": "ec96a6aa-f676-47c3-c7b9-048034446ed5",
        "colab": {
          "base_uri": "https://localhost:8080/",
          "height": 119
        }
      },
      "source": [
        "try_step(replace_expression, expression = r'RT ', replace_with = '_RT_')"
      ],
      "execution_count": 0,
      "outputs": [
        {
          "output_type": "stream",
          "text": [
            "100%|██████████| 6842/6842 [01:24<00:00, 81.16it/s]\n"
          ],
          "name": "stderr"
        },
        {
          "output_type": "stream",
          "text": [
            "Result: \t\t 0.7552\n",
            "Previous baseline: \t 0.7632\n",
            "\u001b[31mReduction of: \t\t-0.0080\n",
            "\u001b[30m\n",
            "Previous baseline remains the best.\n"
          ],
          "name": "stdout"
        }
      ]
    },
    {
      "cell_type": "markdown",
      "metadata": {
        "id": "fNxmikFM4e6h",
        "colab_type": "text"
      },
      "source": [
        "This change improves performance slightly."
      ]
    },
    {
      "cell_type": "markdown",
      "metadata": {
        "id": "ZrsGW5e0_uz_",
        "colab_type": "text"
      },
      "source": [
        "#### Hashtags"
      ]
    },
    {
      "cell_type": "code",
      "metadata": {
        "id": "ChxUd1vo_x1H",
        "colab_type": "code",
        "outputId": "c903936a-2e99-4551-97dd-d32792bdfd48",
        "colab": {
          "base_uri": "https://localhost:8080/",
          "height": 119
        }
      },
      "source": [
        "try_step(replace_expression, expression = hashtags['expression'], replace_with = hashtags['replacement'])"
      ],
      "execution_count": 0,
      "outputs": [
        {
          "output_type": "stream",
          "text": [
            "100%|██████████| 6842/6842 [01:24<00:00, 80.74it/s]\n"
          ],
          "name": "stderr"
        },
        {
          "output_type": "stream",
          "text": [
            "Result: \t\t 0.7521\n",
            "Previous baseline: \t 0.7632\n",
            "\u001b[31mReduction of: \t\t-0.0111\n",
            "\u001b[30m\n",
            "Previous baseline remains the best.\n"
          ],
          "name": "stdout"
        }
      ]
    },
    {
      "cell_type": "markdown",
      "metadata": {
        "id": "TTxcTTsczlQn",
        "colab_type": "text"
      },
      "source": [
        "#### Shorten elongated words"
      ]
    },
    {
      "cell_type": "markdown",
      "metadata": {
        "id": "6FrhVbQo0Nwu",
        "colab_type": "text"
      },
      "source": [
        "Here, we short words that have been elongated, such as `goooooooaaaaaal` and `coool`. However, we will not remove all duplicates of a letter. Rather, we will keep two versions of the repeated letters to get: `gooaal` and `cool`. As you can see, this is the appropriate action for the latter word, but not the former. We will try and resolve this with spell checking later."
      ]
    },
    {
      "cell_type": "code",
      "metadata": {
        "id": "aVpqgu5AzXpq",
        "colab_type": "code",
        "outputId": "2a38268d-1bce-4451-ffb3-376d2c88a327",
        "colab": {
          "base_uri": "https://localhost:8080/",
          "height": 187
        }
      },
      "source": [
        "try_step(replace_expression, expression = lengthening['expression'], replace_with = lengthening['replacement'])"
      ],
      "execution_count": 0,
      "outputs": [
        {
          "output_type": "stream",
          "text": [
            "100%|██████████| 6842/6842 [01:26<00:00, 79.06it/s]\n",
            "/usr/local/lib/python3.6/dist-packages/scipy/optimize/linesearch.py:314: LineSearchWarning: The line search algorithm did not converge\n",
            "  warn('The line search algorithm did not converge', LineSearchWarning)\n",
            "/usr/local/lib/python3.6/dist-packages/sklearn/utils/optimize.py:204: UserWarning: Line Search failed\n",
            "  warnings.warn('Line Search failed')\n"
          ],
          "name": "stderr"
        },
        {
          "output_type": "stream",
          "text": [
            "Result: \t\t 0.7560\n",
            "Previous baseline: \t 0.7632\n",
            "\u001b[31mReduction of: \t\t-0.0072\n",
            "\u001b[30m\n",
            "Previous baseline remains the best.\n"
          ],
          "name": "stdout"
        }
      ]
    },
    {
      "cell_type": "markdown",
      "metadata": {
        "id": "ow0Nf84C1GEO",
        "colab_type": "text"
      },
      "source": [
        "#### Remove special characters"
      ]
    },
    {
      "cell_type": "markdown",
      "metadata": {
        "id": "YCLcb4aD1M76",
        "colab_type": "text"
      },
      "source": [
        "We saw in our word list that there are some non-ASCII characters with accents. We will try removing these here to see if performance improves."
      ]
    },
    {
      "cell_type": "code",
      "metadata": {
        "id": "4MTnfk1p07lK",
        "colab_type": "code",
        "outputId": "219ff084-3ef4-43c7-e4b2-98219472fd0e",
        "colab": {
          "base_uri": "https://localhost:8080/",
          "height": 119
        }
      },
      "source": [
        "try_step(remove_accented_chars)"
      ],
      "execution_count": 0,
      "outputs": [
        {
          "output_type": "stream",
          "text": [
            "100%|██████████| 6842/6842 [01:24<00:00, 80.74it/s]\n"
          ],
          "name": "stderr"
        },
        {
          "output_type": "stream",
          "text": [
            "Result: \t\t 0.7559\n",
            "Previous baseline: \t 0.7632\n",
            "\u001b[31mReduction of: \t\t-0.0073\n",
            "\u001b[30m\n",
            "Previous baseline remains the best.\n"
          ],
          "name": "stdout"
        }
      ]
    },
    {
      "cell_type": "markdown",
      "metadata": {
        "colab_type": "text",
        "id": "wbr8WPvrj1dk"
      },
      "source": [
        "#### Remove Stop Words"
      ]
    },
    {
      "cell_type": "markdown",
      "metadata": {
        "id": "7LU5O57h868i",
        "colab_type": "text"
      },
      "source": [
        "Here, we look to remove stopwords. However, rather than simply removing a list of default stopwords blindly, we will **loop over each stop word** in a default list **and measure performance** after it has been removed. We will store the stopwords that should be removed in a list. This is done using the function defined previously and shown here.\n",
        "\n",
        "\n",
        "\n",
        "```\n",
        "def stopwords_to_remove(words, baseline, reference, vectorizer = 'basic', cv = cv, clf = clf, scoring = 'f1', random_state = rs):\n",
        "  stop = []\n",
        "  i = 1\n",
        "\n",
        "  for word in words:\n",
        "    stop.append(word)\n",
        "    train['temp'] = reference.apply(remove_stopwords, words = stop)\n",
        "\n",
        "    if vectorizer == 'universal':\n",
        "      X_temp = []\n",
        "    \n",
        "      for r in tqdm(train['temp'].values):\n",
        "        emb = use(r)\n",
        "        review_emb = tf.reshape(emb, [-1]).numpy()\n",
        "        X_temp.append(review_emb)\n",
        "\n",
        "      X_temp = np.array(X_temp)\n",
        "      y_train = train['target'].values\n",
        "      X, test_arrays, y, test_labels = train_test_split(X_temp, y_train, random_state = random_state, test_size = 0.3)\n",
        "      score = cross_val_score(clf, X, y, cv = cv, scoring = scoring).mean()\n",
        "\n",
        "    if vectorizer == 'basic':\n",
        "      X, X_t, y, y_t = train_test_split(train['temp'], train['target'], random_state = random_state)\n",
        "      X = tfidf.fit_transform(X)\n",
        "      score = cross_val_score(clf, X, y, cv = cv, scoring = scoring).mean()\n",
        "    \n",
        "    \n",
        "    print(\"{}%\\t\".format(np.round((i/len(all_stopwords)*100), 2)), np.round(score, 4),'    \\t', stop)\n",
        "    i += 1\n",
        "\n",
        "    if score > baseline:\n",
        "      baseline = score\n",
        "      reference = reference.apply(remove_stopwords, words = stop)\n",
        "      \n",
        "    else:\n",
        "      stop.remove(word)\n",
        "  \n",
        "  print('\\nSelected stopwords to remove:\\n', stop)\n",
        "  return stop\n",
        "```\n",
        "<br>\n",
        "\n",
        "The function's required arguments include:\n",
        "- **words**, which is the list of stopwords that will be looped over.\n",
        "- **baseline**, which is the baseline score that the function is trying to improve upon.\n",
        "- **reference**, which is the column that contains the text from which the stop words should be removed.\n",
        "\n",
        "<br>\n",
        "\n",
        "The function returns a list of words that should be removed to improve performance, if one exists.\n",
        "\n",
        "\n",
        "<br>\n",
        "\n",
        "The downside of this approach, however, is that it fails to capture the optimal combination, as some words may improve performance when removed together, but not when removed independently. To combat this, we will run the loop multiple times. By doing so, we should capture the most impactful words initially, followed by other words that improve performance when combined with the more impactful words.\n",
        "\n",
        "<br>\n",
        "\n",
        "An additional downside is that this approach takes a very long time. In order to reduce the training time, we won't use the **universal word embeddings**, but rather the **Tfidf Vectorizer** for creating vectors. This approach, though, will produce lower scores. Therefore, an artificial baseline is hard-coded so that the algorithm has something achievable to target and attempt to surpass. Once the stop words are selected, they will be removed all together and the result will be measured using our original approach with the **universal word embeddings**."
      ]
    },
    {
      "cell_type": "code",
      "metadata": {
        "id": "gY0QbQ-znakm",
        "colab_type": "code",
        "outputId": "498afe0e-97fa-4182-f541-bd02f09ceea2",
        "colab": {
          "base_uri": "https://localhost:8080/",
          "height": 1000
        }
      },
      "source": [
        "all_words = get_words(train[reference]) # get words in processed_text column\n",
        "all_stopwords = [x for x in stopwords.words('english') if x in all_words] # create list of words in interesection of all_words and default list of stopwords\n",
        "best_score = 0.71 # hard-coded baseline\n",
        "\n",
        "stop = stopwords_to_remove(words = all_stopwords, baseline = best_score, reference = train[reference])"
      ],
      "execution_count": 0,
      "outputs": [
        {
          "output_type": "stream",
          "text": [
            "0.75%\t 0.6979     \t ['i']\n",
            "1.49%\t 0.6875     \t ['me']\n",
            "2.24%\t 0.6841     \t ['my']\n",
            "2.99%\t 0.7005     \t ['myself']\n",
            "4.48%\t 0.6906     \t ['our']\n",
            "5.22%\t 0.7091     \t ['ourselves']\n",
            "5.97%\t 0.6849     \t ['you']\n",
            "6.72%\t 0.6919     \t ['your']\n",
            "7.46%\t 0.6857     \t ['yours']\n",
            "8.21%\t 0.7045     \t ['yourself']\n",
            "8.96%\t 0.691     \t ['yourselves']\n",
            "9.7%\t 0.7008     \t ['he']\n",
            "10.45%\t 0.6883     \t ['him']\n",
            "11.19%\t 0.7109     \t ['his']\n",
            "11.94%\t 0.7134     \t ['his', 'himself']\n",
            "12.69%\t 0.708     \t ['his', 'himself', 'she']\n",
            "13.43%\t 0.6906     \t ['his', 'himself', 'her']\n",
            "14.18%\t 0.7053     \t ['his', 'himself', 'herself']\n",
            "14.93%\t 0.7024     \t ['his', 'himself', 'it']\n",
            "15.67%\t 0.7101     \t ['his', 'himself', 'its']\n",
            "16.42%\t 0.7051     \t ['his', 'himself', 'itself']\n",
            "17.16%\t 0.6974     \t ['his', 'himself', 'they']\n",
            "17.91%\t 0.7135     \t ['his', 'himself', 'them']\n",
            "18.66%\t 0.6976     \t ['his', 'himself', 'them', 'their']\n",
            "19.4%\t 0.6996     \t ['his', 'himself', 'them', 'theirs']\n",
            "20.15%\t 0.6967     \t ['his', 'himself', 'them', 'themselves']\n",
            "20.9%\t 0.6993     \t ['his', 'himself', 'them', 'what']\n",
            "21.64%\t 0.6992     \t ['his', 'himself', 'them', 'which']\n",
            "22.39%\t 0.7056     \t ['his', 'himself', 'them', 'who']\n",
            "23.13%\t 0.6805     \t ['his', 'himself', 'them', 'this']\n",
            "23.88%\t 0.7025     \t ['his', 'himself', 'them', 'that']\n",
            "24.63%\t 0.7065     \t ['his', 'himself', 'them', 'these']\n",
            "25.37%\t 0.7085     \t ['his', 'himself', 'them', 'those']\n",
            "26.12%\t 0.6712     \t ['his', 'himself', 'them', 'am']\n",
            "26.87%\t 0.7009     \t ['his', 'himself', 'them', 'is']\n",
            "27.61%\t 0.6994     \t ['his', 'himself', 'them', 'are']\n",
            "28.36%\t 0.6889     \t ['his', 'himself', 'them', 'was']\n",
            "29.1%\t 0.7043     \t ['his', 'himself', 'them', 'were']\n",
            "29.85%\t 0.7018     \t ['his', 'himself', 'them', 'be']\n",
            "30.6%\t 0.6864     \t ['his', 'himself', 'them', 'been']\n",
            "31.34%\t 0.7125     \t ['his', 'himself', 'them', 'being']\n",
            "32.09%\t 0.707     \t ['his', 'himself', 'them', 'have']\n",
            "32.84%\t 0.699     \t ['his', 'himself', 'them', 'has']\n",
            "33.58%\t 0.7015     \t ['his', 'himself', 'them', 'had']\n",
            "34.33%\t 0.7065     \t ['his', 'himself', 'them', 'having']\n",
            "35.07%\t 0.7018     \t ['his', 'himself', 'them', 'do']\n",
            "35.82%\t 0.701     \t ['his', 'himself', 'them', 'does']\n",
            "36.57%\t 0.6605     \t ['his', 'himself', 'them', 'did']\n",
            "37.31%\t 0.708     \t ['his', 'himself', 'them', 'doing']\n",
            "38.06%\t 0.709     \t ['his', 'himself', 'them', 'a']\n",
            "38.81%\t 0.7106     \t ['his', 'himself', 'them', 'an']\n",
            "39.55%\t 0.7052     \t ['his', 'himself', 'them', 'the']\n",
            "40.3%\t 0.6977     \t ['his', 'himself', 'them', 'and']\n",
            "41.04%\t 0.705     \t ['his', 'himself', 'them', 'but']\n",
            "41.79%\t 0.6919     \t ['his', 'himself', 'them', 'if']\n",
            "42.54%\t 0.7069     \t ['his', 'himself', 'them', 'or']\n",
            "43.28%\t 0.6798     \t ['his', 'himself', 'them', 'because']\n",
            "44.03%\t 0.7042     \t ['his', 'himself', 'them', 'as']\n",
            "44.78%\t 0.7087     \t ['his', 'himself', 'them', 'until']\n",
            "45.52%\t 0.6964     \t ['his', 'himself', 'them', 'while']\n",
            "46.27%\t 0.7111     \t ['his', 'himself', 'them', 'of']\n",
            "47.01%\t 0.7001     \t ['his', 'himself', 'them', 'at']\n",
            "47.76%\t 0.6857     \t ['his', 'himself', 'them', 'by']\n",
            "48.51%\t 0.6899     \t ['his', 'himself', 'them', 'for']\n",
            "49.25%\t 0.6892     \t ['his', 'himself', 'them', 'with']\n",
            "50.0%\t 0.7017     \t ['his', 'himself', 'them', 'about']\n",
            "50.75%\t 0.7014     \t ['his', 'himself', 'them', 'against']\n",
            "51.49%\t 0.6962     \t ['his', 'himself', 'them', 'between']\n",
            "52.24%\t 0.7033     \t ['his', 'himself', 'them', 'into']\n",
            "52.99%\t 0.682     \t ['his', 'himself', 'them', 'through']\n",
            "53.73%\t 0.7024     \t ['his', 'himself', 'them', 'during']\n",
            "54.48%\t 0.6929     \t ['his', 'himself', 'them', 'before']\n",
            "55.22%\t 0.7082     \t ['his', 'himself', 'them', 'after']\n",
            "55.97%\t 0.7017     \t ['his', 'himself', 'them', 'above']\n",
            "56.72%\t 0.7019     \t ['his', 'himself', 'them', 'below']\n",
            "57.46%\t 0.6875     \t ['his', 'himself', 'them', 'to']\n",
            "58.21%\t 0.6916     \t ['his', 'himself', 'them', 'from']\n",
            "58.96%\t 0.7009     \t ['his', 'himself', 'them', 'up']\n",
            "59.7%\t 0.6859     \t ['his', 'himself', 'them', 'down']\n",
            "60.45%\t 0.6704     \t ['his', 'himself', 'them', 'in']\n",
            "61.19%\t 0.704     \t ['his', 'himself', 'them', 'out']\n",
            "61.94%\t 0.6935     \t ['his', 'himself', 'them', 'on']\n",
            "62.69%\t 0.6834     \t ['his', 'himself', 'them', 'off']\n",
            "63.43%\t 0.7056     \t ['his', 'himself', 'them', 'over']\n",
            "64.18%\t 0.7007     \t ['his', 'himself', 'them', 'under']\n",
            "64.93%\t 0.7024     \t ['his', 'himself', 'them', 'again']\n",
            "65.67%\t 0.706     \t ['his', 'himself', 'them', 'further']\n",
            "66.42%\t 0.7022     \t ['his', 'himself', 'them', 'then']\n",
            "67.16%\t 0.6932     \t ['his', 'himself', 'them', 'once']\n",
            "67.91%\t 0.6986     \t ['his', 'himself', 'them', 'here']\n",
            "68.66%\t 0.6921     \t ['his', 'himself', 'them', 'there']\n",
            "69.4%\t 0.6865     \t ['his', 'himself', 'them', 'when']\n",
            "70.15%\t 0.7022     \t ['his', 'himself', 'them', 'where']\n",
            "70.9%\t 0.7118     \t ['his', 'himself', 'them', 'why']\n",
            "71.64%\t 0.6933     \t ['his', 'himself', 'them', 'how']\n",
            "72.39%\t 0.6921     \t ['his', 'himself', 'them', 'all']\n",
            "73.13%\t 0.6745     \t ['his', 'himself', 'them', 'any']\n",
            "73.88%\t 0.7057     \t ['his', 'himself', 'them', 'both']\n",
            "74.63%\t 0.686     \t ['his', 'himself', 'them', 'each']\n",
            "75.37%\t 0.6906     \t ['his', 'himself', 'them', 'few']\n",
            "76.12%\t 0.7077     \t ['his', 'himself', 'them', 'more']\n",
            "76.87%\t 0.6975     \t ['his', 'himself', 'them', 'most']\n",
            "77.61%\t 0.6868     \t ['his', 'himself', 'them', 'other']\n",
            "78.36%\t 0.6923     \t ['his', 'himself', 'them', 'some']\n",
            "79.1%\t 0.7124     \t ['his', 'himself', 'them', 'such']\n",
            "79.85%\t 0.6866     \t ['his', 'himself', 'them', 'no']\n",
            "80.6%\t 0.7088     \t ['his', 'himself', 'them', 'nor']\n",
            "81.34%\t 0.6674     \t ['his', 'himself', 'them', 'not']\n",
            "82.09%\t 0.7107     \t ['his', 'himself', 'them', 'only']\n",
            "82.84%\t 0.6908     \t ['his', 'himself', 'them', 'own']\n",
            "83.58%\t 0.6966     \t ['his', 'himself', 'them', 'same']\n",
            "84.33%\t 0.689     \t ['his', 'himself', 'them', 'so']\n",
            "85.07%\t 0.697     \t ['his', 'himself', 'them', 'than']\n",
            "85.82%\t 0.7096     \t ['his', 'himself', 'them', 'too']\n",
            "86.57%\t 0.7125     \t ['his', 'himself', 'them', 'very']\n",
            "87.31%\t 0.7057     \t ['his', 'himself', 'them', 's']\n",
            "88.06%\t 0.6957     \t ['his', 'himself', 'them', 't']\n",
            "88.81%\t 0.7086     \t ['his', 'himself', 'them', 'can']\n",
            "89.55%\t 0.7021     \t ['his', 'himself', 'them', 'will']\n",
            "90.3%\t 0.7094     \t ['his', 'himself', 'them', 'just']\n",
            "91.04%\t 0.7063     \t ['his', 'himself', 'them', 'don']\n",
            "91.79%\t 0.6987     \t ['his', 'himself', 'them', 'should']\n",
            "92.54%\t 0.7054     \t ['his', 'himself', 'them', 'now']\n",
            "93.28%\t 0.6989     \t ['his', 'himself', 'them', 'd']\n",
            "94.03%\t 0.7002     \t ['his', 'himself', 'them', 'm']\n",
            "94.78%\t 0.7018     \t ['his', 'himself', 'them', 'o']\n",
            "95.52%\t 0.6913     \t ['his', 'himself', 'them', 're']\n",
            "96.27%\t 0.6929     \t ['his', 'himself', 'them', 've']\n",
            "97.01%\t 0.6994     \t ['his', 'himself', 'them', 'y']\n",
            "97.76%\t 0.7056     \t ['his', 'himself', 'them', 'didn']\n",
            "98.51%\t 0.7059     \t ['his', 'himself', 'them', 'ma']\n",
            "99.25%\t 0.7085     \t ['his', 'himself', 'them', 'won']\n",
            "100.0%\t 0.7022     \t ['his', 'himself', 'them', 'wouldn']\n",
            "\n",
            "Selected stopwords to remove:\n",
            " ['his', 'himself', 'them']\n"
          ],
          "name": "stdout"
        }
      ]
    },
    {
      "cell_type": "markdown",
      "metadata": {
        "id": "rbaEp5PZsgbc",
        "colab_type": "text"
      },
      "source": [
        "As we see from the output above, the removal of some words improves performance, while the removal of others worsens it. Thus, the approach taken here was the appropriate one."
      ]
    },
    {
      "cell_type": "code",
      "metadata": {
        "colab_type": "code",
        "outputId": "43fe46ac-3377-450b-f43c-41234e7a0739",
        "id": "WzUni_gtj1dp",
        "colab": {
          "base_uri": "https://localhost:8080/",
          "height": 119
        }
      },
      "source": [
        "# stop = ['his', 'himself', 'them']\n",
        "try_step(remove_stopwords, words = stop)"
      ],
      "execution_count": 0,
      "outputs": [
        {
          "output_type": "stream",
          "text": [
            "100%|██████████| 6842/6842 [01:24<00:00, 80.65it/s]\n"
          ],
          "name": "stderr"
        },
        {
          "output_type": "stream",
          "text": [
            "Result: \t\t 0.7590\n",
            "Previous baseline: \t 0.7632\n",
            "\u001b[31mReduction of: \t\t-0.0042\n",
            "\u001b[30m\n",
            "Previous baseline remains the best.\n"
          ],
          "name": "stdout"
        }
      ]
    },
    {
      "cell_type": "markdown",
      "metadata": {
        "id": "Yq9LeMHK8Faw",
        "colab_type": "text"
      },
      "source": [
        "Despite our efforts, removal of the selected stop words didn't improve the model."
      ]
    },
    {
      "cell_type": "markdown",
      "metadata": {
        "colab_type": "text",
        "id": "NRFr5Basx1VH"
      },
      "source": [
        "#### Strip HTML tags"
      ]
    },
    {
      "cell_type": "markdown",
      "metadata": {
        "id": "wLfzuZZw19Cm",
        "colab_type": "text"
      },
      "source": [
        "Here, we will strip HTML tags from the tweets.  Though not likely to be present in a lot of tweets, HTML tags may be present. Some tags that might be present include:\n",
        "\n",
        "- \\<html> ... \\</html>\n",
        "- \\<head> ... \\</head>\n",
        "- \\<title> ... \\</title>\n",
        "- \\<body> ... \\</body>\n",
        "- \\<p> ... \\</p>"
      ]
    },
    {
      "cell_type": "code",
      "metadata": {
        "id": "uwCMoVaYv9Sg",
        "colab_type": "code",
        "outputId": "622e04f0-38d9-4813-d6d0-68ddf43d0a5c",
        "colab": {
          "base_uri": "https://localhost:8080/",
          "height": 153
        }
      },
      "source": [
        "try_step(strip_html_tags)"
      ],
      "execution_count": 0,
      "outputs": [
        {
          "output_type": "stream",
          "text": [
            "100%|██████████| 6842/6842 [01:25<00:00, 80.01it/s]\n",
            "/usr/local/lib/python3.6/dist-packages/scipy/optimize/linesearch.py:314: LineSearchWarning: The line search algorithm did not converge\n",
            "  warn('The line search algorithm did not converge', LineSearchWarning)\n"
          ],
          "name": "stderr"
        },
        {
          "output_type": "stream",
          "text": [
            "Result: \t\t 0.7491\n",
            "Previous baseline: \t 0.7632\n",
            "\u001b[31mReduction of: \t\t-0.0141\n",
            "\u001b[30m\n",
            "Previous baseline remains the best.\n"
          ],
          "name": "stdout"
        }
      ]
    },
    {
      "cell_type": "markdown",
      "metadata": {
        "id": "cPhth2yI5iL_",
        "colab_type": "text"
      },
      "source": [
        "#### Replace emojis"
      ]
    },
    {
      "cell_type": "markdown",
      "metadata": {
        "id": "LSGzqRwS5kbb",
        "colab_type": "text"
      },
      "source": [
        "Here we use a regex to find and replace emojis with an empty space."
      ]
    },
    {
      "cell_type": "code",
      "metadata": {
        "id": "Gm82IqtC5Ixk",
        "colab_type": "code",
        "outputId": "351654ea-51d6-436a-d5e0-9a6a72a4a6bd",
        "colab": {
          "base_uri": "https://localhost:8080/",
          "height": 153
        }
      },
      "source": [
        "try_step(replace_expression, expression = emojis['expression'], replace_with = emojis['replacement'])"
      ],
      "execution_count": 0,
      "outputs": [
        {
          "output_type": "stream",
          "text": [
            "100%|██████████| 6842/6842 [01:25<00:00, 80.06it/s]\n",
            "/usr/local/lib/python3.6/dist-packages/scipy/optimize/linesearch.py:314: LineSearchWarning: The line search algorithm did not converge\n",
            "  warn('The line search algorithm did not converge', LineSearchWarning)\n"
          ],
          "name": "stderr"
        },
        {
          "output_type": "stream",
          "text": [
            "Result: \t\t 0.7548\n",
            "Previous baseline: \t 0.7632\n",
            "\u001b[31mReduction of: \t\t-0.0085\n",
            "\u001b[30m\n",
            "Previous baseline remains the best.\n"
          ],
          "name": "stdout"
        }
      ]
    },
    {
      "cell_type": "markdown",
      "metadata": {
        "id": "bQMOePQY5oyl",
        "colab_type": "text"
      },
      "source": [
        "It appears that this has no effect. This is likely a result of emojis not translating over to our dataframe. However, it was worth the attempt to confirm the suspicion."
      ]
    },
    {
      "cell_type": "markdown",
      "metadata": {
        "id": "KyAwhGDB669U",
        "colab_type": "text"
      },
      "source": [
        "#### Remove numbers"
      ]
    },
    {
      "cell_type": "markdown",
      "metadata": {
        "id": "QxI0mznu68w4",
        "colab_type": "text"
      },
      "source": [
        "Here, we attempt to remove numbers to see if performance improves."
      ]
    },
    {
      "cell_type": "code",
      "metadata": {
        "id": "7RDDjm2G6hCs",
        "colab_type": "code",
        "outputId": "91f001ca-8079-4a0a-f43f-84ab028852ec",
        "colab": {
          "base_uri": "https://localhost:8080/",
          "height": 221
        }
      },
      "source": [
        "try_step(replace_expression, expression = r\"[0-9]\", replace_with = '')"
      ],
      "execution_count": 0,
      "outputs": [
        {
          "output_type": "stream",
          "text": [
            "100%|██████████| 6842/6842 [01:24<00:00, 80.79it/s]\n",
            "/usr/local/lib/python3.6/dist-packages/scipy/optimize/linesearch.py:314: LineSearchWarning: The line search algorithm did not converge\n",
            "  warn('The line search algorithm did not converge', LineSearchWarning)\n",
            "/usr/local/lib/python3.6/dist-packages/scipy/optimize/linesearch.py:314: LineSearchWarning: The line search algorithm did not converge\n",
            "  warn('The line search algorithm did not converge', LineSearchWarning)\n"
          ],
          "name": "stderr"
        },
        {
          "output_type": "stream",
          "text": [
            "Result: \t\t 0.7565\n",
            "Previous baseline: \t 0.7632\n",
            "\u001b[31mReduction of: \t\t-0.0067\n",
            "\u001b[30m\n",
            "Previous baseline remains the best.\n"
          ],
          "name": "stdout"
        },
        {
          "output_type": "stream",
          "text": [
            "/usr/local/lib/python3.6/dist-packages/scipy/optimize/linesearch.py:314: LineSearchWarning: The line search algorithm did not converge\n",
            "  warn('The line search algorithm did not converge', LineSearchWarning)\n"
          ],
          "name": "stderr"
        }
      ]
    },
    {
      "cell_type": "markdown",
      "metadata": {
        "colab_type": "text",
        "id": "0H5JYvhTx1VJ"
      },
      "source": [
        "#### Expand contracted words"
      ]
    },
    {
      "cell_type": "markdown",
      "metadata": {
        "id": "6H-C5UIVd7Fd",
        "colab_type": "text"
      },
      "source": [
        "Using a similar approach to the removal of stop words, each word in the intersection of the `CONTRACTION_MAP` dictionary and `all_words` is expanded in a loop. The change in performance is measured, and all contractions that improve performance are stored to be expanded in the following step."
      ]
    },
    {
      "cell_type": "code",
      "metadata": {
        "id": "FjxZa7Z9wPhL",
        "colab_type": "code",
        "colab": {}
      },
      "source": [
        "# all_contractions = {}\n",
        "# all_words = get_words(train[reference])\n",
        "# best_score = 0.71\n",
        "\n",
        "# for k, v in CONTRACTION_MAP.items():\n",
        "#   if k in all_words:\n",
        "#     all_contractions[k] = v\n",
        "\n",
        "# contractions = contractions_to_expand(words = all_contractions, baseline = best_score, reference=train[reference])"
      ],
      "execution_count": 0,
      "outputs": []
    },
    {
      "cell_type": "code",
      "metadata": {
        "id": "L5_nJq-kwjoD",
        "colab_type": "code",
        "colab": {}
      },
      "source": [
        "# if len(contractions) > 0:\n",
        "#   try_step(expand_contractions, contraction_mapping = contractions)"
      ],
      "execution_count": 0,
      "outputs": []
    },
    {
      "cell_type": "markdown",
      "metadata": {
        "id": "Lijrlold-ZN6",
        "colab_type": "text"
      },
      "source": [
        "Expanding contractions proved not to improve performance. Therefore, this step has been commented out."
      ]
    },
    {
      "cell_type": "markdown",
      "metadata": {
        "colab_type": "text",
        "id": "JyiMLk7px1VK"
      },
      "source": [
        "#### Stemming"
      ]
    },
    {
      "cell_type": "markdown",
      "metadata": {
        "id": "wGGORWfxelYv",
        "colab_type": "text"
      },
      "source": [
        "Here, stemming is applied to words. This step removes the ends of some words to get to their root. By doing so, words that are plurals or conjugations of the same word can be consolidated."
      ]
    },
    {
      "cell_type": "code",
      "metadata": {
        "id": "QsgpbCI5wrOP",
        "colab_type": "code",
        "outputId": "e2903f20-1636-4e99-a376-a6a7cc42d094",
        "colab": {
          "base_uri": "https://localhost:8080/",
          "height": 153
        }
      },
      "source": [
        "try_step(stemming)"
      ],
      "execution_count": 0,
      "outputs": [
        {
          "output_type": "stream",
          "text": [
            "100%|██████████| 6842/6842 [01:24<00:00, 81.16it/s]\n",
            "/usr/local/lib/python3.6/dist-packages/scipy/optimize/linesearch.py:314: LineSearchWarning: The line search algorithm did not converge\n",
            "  warn('The line search algorithm did not converge', LineSearchWarning)\n"
          ],
          "name": "stderr"
        },
        {
          "output_type": "stream",
          "text": [
            "Result: \t\t 0.7569\n",
            "Previous baseline: \t 0.7632\n",
            "\u001b[31mReduction of: \t\t-0.0064\n",
            "\u001b[30m\n",
            "Previous baseline remains the best.\n"
          ],
          "name": "stdout"
        }
      ]
    },
    {
      "cell_type": "markdown",
      "metadata": {
        "colab_type": "text",
        "id": "wN8XlNnYx1VL"
      },
      "source": [
        "#### Translate emoticons"
      ]
    },
    {
      "cell_type": "markdown",
      "metadata": {
        "id": "018oACNqev2Z",
        "colab_type": "text"
      },
      "source": [
        "Here, emoticons, such as `:)` and `:(` are translated into words. The first emoticon above would be relabelled \"\\_HAPPY_\" and the latter \"\\_SAD_\"."
      ]
    },
    {
      "cell_type": "code",
      "metadata": {
        "id": "UxIz1cFKw2HJ",
        "colab_type": "code",
        "outputId": "5e82921b-4179-4969-fe29-b452701ce20c",
        "colab": {
          "base_uri": "https://localhost:8080/",
          "height": 187
        }
      },
      "source": [
        "try_step(emoticons)"
      ],
      "execution_count": 0,
      "outputs": [
        {
          "output_type": "stream",
          "text": [
            "100%|██████████| 6842/6842 [01:25<00:00, 80.31it/s]\n",
            "/usr/local/lib/python3.6/dist-packages/scipy/optimize/linesearch.py:314: LineSearchWarning: The line search algorithm did not converge\n",
            "  warn('The line search algorithm did not converge', LineSearchWarning)\n",
            "/usr/local/lib/python3.6/dist-packages/scipy/optimize/linesearch.py:314: LineSearchWarning: The line search algorithm did not converge\n",
            "  warn('The line search algorithm did not converge', LineSearchWarning)\n"
          ],
          "name": "stderr"
        },
        {
          "output_type": "stream",
          "text": [
            "Result: \t\t 0.7516\n",
            "Previous baseline: \t 0.7632\n",
            "\u001b[31mReduction of: \t\t-0.0116\n",
            "\u001b[30m\n",
            "Previous baseline remains the best.\n"
          ],
          "name": "stdout"
        }
      ]
    },
    {
      "cell_type": "markdown",
      "metadata": {
        "colab_type": "text",
        "id": "QE81whUCx1VL"
      },
      "source": [
        "#### Replace abbreviations"
      ]
    },
    {
      "cell_type": "markdown",
      "metadata": {
        "id": "SQNapViqfDzG",
        "colab_type": "text"
      },
      "source": [
        "The dictionary of abbreviations is looped over in s a similar manner to the stop word removal and contraction expansion."
      ]
    },
    {
      "cell_type": "code",
      "metadata": {
        "id": "KfF-KMJlw_lo",
        "colab_type": "code",
        "colab": {}
      },
      "source": [
        "# all_words = get_words(train[reference])\n",
        "# all_abbreviations = {}\n",
        "# best_score = 0.71\n",
        "\n",
        "# for k, v in abbreviations.items():\n",
        "#   if k in all_words:\n",
        "#     all_abbreviations[k] = v\n",
        "\n",
        "# abbr = abbreviations_to_replace(words = all_abbreviations, baseline = best_score, reference = train[reference])"
      ],
      "execution_count": 0,
      "outputs": []
    },
    {
      "cell_type": "code",
      "metadata": {
        "id": "QYuYJ74Uw2OF",
        "colab_type": "code",
        "colab": {}
      },
      "source": [
        "# if len(abbr) > 0:\n",
        "#   try_step(convert_abbrev_in_text, words = abbr)"
      ],
      "execution_count": 0,
      "outputs": []
    },
    {
      "cell_type": "markdown",
      "metadata": {
        "colab_type": "text",
        "id": "AhoB8lbg-q8C"
      },
      "source": [
        "Replacing abbreviations, proved not to improve performance. Therefore, it has been commented out."
      ]
    },
    {
      "cell_type": "markdown",
      "metadata": {
        "colab_type": "text",
        "id": "PABLeugcxpNC"
      },
      "source": [
        "#### Remove punctuation"
      ]
    },
    {
      "cell_type": "markdown",
      "metadata": {
        "id": "jhE_hGdcftpP",
        "colab_type": "text"
      },
      "source": [
        "Punctuation is removed iteratively and performance is evaluated in a similar manner to the removal of stop words, expansion of contractions and replacement of abbreviations."
      ]
    },
    {
      "cell_type": "code",
      "metadata": {
        "id": "QHPJtOKZImMM",
        "colab_type": "code",
        "colab": {}
      },
      "source": [
        "# best_score = 0.71\n",
        "# punc = punct_to_remove(baseline = best_score, reference = train[reference])"
      ],
      "execution_count": 0,
      "outputs": []
    },
    {
      "cell_type": "code",
      "metadata": {
        "colab_type": "code",
        "id": "1NFG4jVAxpNL",
        "colab": {}
      },
      "source": [
        "# if len(punc) > 0:\n",
        "#   try_step(remove_punct, punctuation = punc)"
      ],
      "execution_count": 0,
      "outputs": []
    },
    {
      "cell_type": "markdown",
      "metadata": {
        "id": "hEGxvNvo-ghR",
        "colab_type": "text"
      },
      "source": [
        "Removing punctuation, proved not to improve performance. Therefore, it has been commented out."
      ]
    },
    {
      "cell_type": "markdown",
      "metadata": {
        "id": "VE9mj4AWQxHD",
        "colab_type": "text"
      },
      "source": [
        "### Fine-tune and Validate"
      ]
    },
    {
      "cell_type": "markdown",
      "metadata": {
        "id": "vhSXqk1FQzyA",
        "colab_type": "text"
      },
      "source": [
        "#### Optimize parameters"
      ]
    },
    {
      "cell_type": "code",
      "metadata": {
        "id": "pexwuwrof_Bm",
        "colab_type": "code",
        "outputId": "ad291ceb-1dc0-4e8b-9200-228f6cbe36c8",
        "colab": {
          "base_uri": "https://localhost:8080/",
          "height": 34
        }
      },
      "source": [
        "X_train = []\n",
        "for r in tqdm(train.text.values):\n",
        "  emb = use(r)\n",
        "  review_emb = tf.reshape(emb, [-1]).numpy()\n",
        "  X_train.append(review_emb)\n",
        "\n",
        "X_train = np.array(X_train)\n",
        "y_train = train.target.values\n",
        "\n",
        "X, test_arrays, y, test_labels = train_test_split(X_train, y_train, random_state = rs, test_size = 0.2)\n",
        "\n",
        "lr_model2 = lr_param_selection(X, y)"
      ],
      "execution_count": 0,
      "outputs": [
        {
          "output_type": "stream",
          "text": [
            "100%|██████████| 6842/6842 [01:25<00:00, 80.31it/s]\n"
          ],
          "name": "stderr"
        }
      ]
    },
    {
      "cell_type": "code",
      "metadata": {
        "id": "FBCEWtFSlNXL",
        "colab_type": "code",
        "outputId": "68feff2d-a424-4e0c-c5bb-924a45104487",
        "colab": {
          "base_uri": "https://localhost:8080/",
          "height": 34
        }
      },
      "source": [
        "dump(lr_model2, 'lr_model2.joblib')"
      ],
      "execution_count": 0,
      "outputs": [
        {
          "output_type": "execute_result",
          "data": {
            "text/plain": [
              "['lr_model2.joblib']"
            ]
          },
          "metadata": {
            "tags": []
          },
          "execution_count": 119
        }
      ]
    },
    {
      "cell_type": "code",
      "metadata": {
        "id": "qDZVjXlPlPFb",
        "colab_type": "code",
        "colab": {}
      },
      "source": [
        "lr_model2 = load('lr_model2.joblib')"
      ],
      "execution_count": 0,
      "outputs": []
    },
    {
      "cell_type": "markdown",
      "metadata": {
        "id": "KPBVx89WRcaF",
        "colab_type": "text"
      },
      "source": [
        "#### Evaluate"
      ]
    },
    {
      "cell_type": "code",
      "metadata": {
        "id": "YyT64-h_UkRV",
        "colab_type": "code",
        "outputId": "aa76d3d6-36e8-4785-e166-0d4ab2420471",
        "colab": {
          "base_uri": "https://localhost:8080/",
          "height": 221
        }
      },
      "source": [
        "lr_pred = lr_model2.predict(test_arrays)\n",
        "print('LR Classifier\\n', classification_report(test_labels, lr_pred), '\\n'*2)"
      ],
      "execution_count": 0,
      "outputs": [
        {
          "output_type": "stream",
          "text": [
            "LR Classifier\n",
            "               precision    recall  f1-score   support\n",
            "\n",
            "         0.0       0.80      0.88      0.84       808\n",
            "         1.0       0.80      0.69      0.74       561\n",
            "\n",
            "    accuracy                           0.80      1369\n",
            "   macro avg       0.80      0.78      0.79      1369\n",
            "weighted avg       0.80      0.80      0.80      1369\n",
            " \n",
            "\n",
            "\n"
          ],
          "name": "stdout"
        }
      ]
    },
    {
      "cell_type": "markdown",
      "metadata": {
        "id": "Lc7KSgOmRpAv",
        "colab_type": "text"
      },
      "source": [
        "#### Pipeline for Test Set"
      ]
    },
    {
      "cell_type": "code",
      "metadata": {
        "id": "MKrOEq0dUkg_",
        "colab_type": "code",
        "colab": {}
      },
      "source": [
        "test[reference] = test['text'].apply(lambda x: replace_expression(x, expression = r'\\x89.+', replace_with = ' '))\n",
        "# test[reference] = test[reference].apply(lambda x: strip_html_tags(x))"
      ],
      "execution_count": 0,
      "outputs": []
    },
    {
      "cell_type": "code",
      "metadata": {
        "id": "QYAM3VAZlm_I",
        "colab_type": "code",
        "outputId": "2ff793ef-cbbb-47b9-9cab-41dcc54445b8",
        "colab": {
          "base_uri": "https://localhost:8080/",
          "height": 34
        }
      },
      "source": [
        "X_test = []\n",
        "\n",
        "for r in tqdm(test[reference].values):\n",
        "  emb = use(r)\n",
        "  review_emb = tf.reshape(emb, [-1]).numpy()\n",
        "  X_test.append(review_emb)\n",
        "\n",
        "X_test = np.array(X_test)"
      ],
      "execution_count": 0,
      "outputs": [
        {
          "output_type": "stream",
          "text": [
            "100%|██████████| 3263/3263 [00:41<00:00, 79.12it/s]\n"
          ],
          "name": "stderr"
        }
      ]
    },
    {
      "cell_type": "markdown",
      "metadata": {
        "id": "KMCk_D57kzQh",
        "colab_type": "text"
      },
      "source": [
        "#### Predictions"
      ]
    },
    {
      "cell_type": "code",
      "metadata": {
        "id": "onqLKJvTk08r",
        "colab_type": "code",
        "colab": {}
      },
      "source": [
        "lr_pred = lr_model.predict(X_test)\n",
        "\n",
        "submission['target'] = lr_pred\n",
        "\n",
        "for k in similar_test.keys():\n",
        "  summation = submission.loc[similar_test[k],:]['target'].sum() + submission.loc[k,:]['target']\n",
        "  count = len(similar[k]) + 1\n",
        "  mean = summation/count\n",
        "  if mean > 0.5:\n",
        "    submission.loc[k,'target'] = 1\n",
        "    submission.loc[similar_test[k],'target'] = 1\n",
        "  else:\n",
        "    submission.loc[k,'target'] = 0\n",
        "    submission.loc[similar_test[k],'target'] = 0\n",
        "\n",
        "submission.to_csv('2_lr_submission.csv', index = False)"
      ],
      "execution_count": 0,
      "outputs": []
    },
    {
      "cell_type": "markdown",
      "metadata": {
        "id": "YGPW_7uuqR3T",
        "colab_type": "text"
      },
      "source": [
        "<br>"
      ]
    },
    {
      "cell_type": "markdown",
      "metadata": {
        "id": "YzuFKGteitca",
        "colab_type": "text"
      },
      "source": [
        "## SVC"
      ]
    },
    {
      "cell_type": "markdown",
      "metadata": {
        "id": "iSWw0ohlNgYu",
        "colab_type": "text"
      },
      "source": [
        "This section was meant to follow a similar logic to the previous, however, the increased computational time and power required by the SVC model made the cost of training too high for the reward. However, the steps required are layed out and ready to be followed."
      ]
    },
    {
      "cell_type": "markdown",
      "metadata": {
        "id": "0XfW9lNCRKMe",
        "colab_type": "text"
      },
      "source": [
        "### Setup"
      ]
    },
    {
      "cell_type": "code",
      "metadata": {
        "id": "VH5hOtoLixUZ",
        "colab_type": "code",
        "colab": {}
      },
      "source": [
        "reference = 'processed_text_svc'\n",
        "train['processed_text_svc'] = train['text'].copy()\n",
        "clf = svc_model\n",
        "base = cross_val_score(clf, X, y, cv=cv, scoring=\"f1\").mean()\n",
        "baseline = base.copy()"
      ],
      "execution_count": 0,
      "outputs": []
    },
    {
      "cell_type": "markdown",
      "metadata": {
        "colab_type": "text",
        "id": "CLAlUtVcrQ0_"
      },
      "source": [
        "### Cleaning"
      ]
    },
    {
      "cell_type": "markdown",
      "metadata": {
        "colab_type": "text",
        "id": "FvtqI_7GrQ1F"
      },
      "source": [
        "#### Spacing consistency"
      ]
    },
    {
      "cell_type": "code",
      "metadata": {
        "colab_type": "code",
        "id": "KzGgbom9rQ1G",
        "colab": {}
      },
      "source": [
        "try_step(spacing)"
      ],
      "execution_count": 0,
      "outputs": []
    },
    {
      "cell_type": "markdown",
      "metadata": {
        "colab_type": "text",
        "id": "LrVYaVHTrQ1H"
      },
      "source": [
        "#### Simple standardization"
      ]
    },
    {
      "cell_type": "code",
      "metadata": {
        "colab_type": "code",
        "id": "9kqrY1UKrQ1I",
        "colab": {}
      },
      "source": [
        "try_step(standardize_text)"
      ],
      "execution_count": 0,
      "outputs": []
    },
    {
      "cell_type": "markdown",
      "metadata": {
        "colab_type": "text",
        "id": "eLQegNoQrQ1K"
      },
      "source": [
        "#### Remove \"\\x89..\""
      ]
    },
    {
      "cell_type": "code",
      "metadata": {
        "colab_type": "code",
        "id": "Os7LRtYurQ1L",
        "colab": {}
      },
      "source": [
        "try_step(replace_expression, expression = r'\\x89..', replace_with = ' ')"
      ],
      "execution_count": 0,
      "outputs": []
    },
    {
      "cell_type": "markdown",
      "metadata": {
        "colab_type": "text",
        "id": "mag6pEb0rQ1N"
      },
      "source": [
        "#### Retweets"
      ]
    },
    {
      "cell_type": "code",
      "metadata": {
        "colab_type": "code",
        "id": "dm9xpuLjrQ1N",
        "colab": {}
      },
      "source": [
        "try_step(replace_expression, expression = r'RT ', replace_with = '_RT_')"
      ],
      "execution_count": 0,
      "outputs": []
    },
    {
      "cell_type": "markdown",
      "metadata": {
        "colab_type": "text",
        "id": "1PRvPv2LrQ1P"
      },
      "source": [
        "#### Hashtags"
      ]
    },
    {
      "cell_type": "code",
      "metadata": {
        "colab_type": "code",
        "id": "sKqoHo5ErQ1P",
        "colab": {}
      },
      "source": [
        "try_step(replace_expression, expression = hashtags['expression'], replace_with = hashtags['replacement'])"
      ],
      "execution_count": 0,
      "outputs": []
    },
    {
      "cell_type": "markdown",
      "metadata": {
        "colab_type": "text",
        "id": "WsT1aTWirQ1Q"
      },
      "source": [
        "#### Shorten elongated words"
      ]
    },
    {
      "cell_type": "code",
      "metadata": {
        "colab_type": "code",
        "id": "nTIHdTiErQ1R",
        "colab": {}
      },
      "source": [
        "try_step(replace_expression, expression = lengthening['expression'], replace_with = lengthening['replacement'])"
      ],
      "execution_count": 0,
      "outputs": []
    },
    {
      "cell_type": "markdown",
      "metadata": {
        "colab_type": "text",
        "id": "1fSaxfydrQ1S"
      },
      "source": [
        "#### Remove special characters"
      ]
    },
    {
      "cell_type": "code",
      "metadata": {
        "colab_type": "code",
        "id": "zxpoNOyirQ1T",
        "colab": {}
      },
      "source": [
        "try_step(remove_accented_chars)"
      ],
      "execution_count": 0,
      "outputs": []
    },
    {
      "cell_type": "markdown",
      "metadata": {
        "colab_type": "text",
        "id": "gjUsC6yarQ1U"
      },
      "source": [
        "#### Remove Stop Words"
      ]
    },
    {
      "cell_type": "code",
      "metadata": {
        "colab_type": "code",
        "id": "PTmxp3vtrQ1U",
        "colab": {}
      },
      "source": [
        "# all_words = get_words(train[reference]) # get words in processed_text column\n",
        "# all_stopwords = [x for x in stopwords.words('english') if x in all_words] # create list of words in interesection of all_words and default list of stopwords\n",
        "# best_score = 0.71 # hard-coded baseline\n",
        "\n",
        "# stop = stopwords_to_remove(words = all_stopwords, baseline = best_score, reference = train[reference])"
      ],
      "execution_count": 0,
      "outputs": []
    },
    {
      "cell_type": "code",
      "metadata": {
        "colab_type": "code",
        "id": "6edTqAd3rQ1W",
        "colab": {}
      },
      "source": [
        "# try_step(remove_stopwords, words = stop)"
      ],
      "execution_count": 0,
      "outputs": []
    },
    {
      "cell_type": "markdown",
      "metadata": {
        "colab_type": "text",
        "id": "ftMBXdb6rQ1X"
      },
      "source": [
        "#### Strip HTML tags"
      ]
    },
    {
      "cell_type": "code",
      "metadata": {
        "colab_type": "code",
        "id": "a_tuquJUrQ1Y",
        "colab": {}
      },
      "source": [
        "try_step(strip_html_tags)"
      ],
      "execution_count": 0,
      "outputs": []
    },
    {
      "cell_type": "markdown",
      "metadata": {
        "colab_type": "text",
        "id": "2npDoV30rQ1Z"
      },
      "source": [
        "#### Replace emojis"
      ]
    },
    {
      "cell_type": "code",
      "metadata": {
        "colab_type": "code",
        "id": "F8cRnLvrrQ1Z",
        "colab": {}
      },
      "source": [
        "try_step(replace_expression, expression = emojis['expression'], replace_with = emojis['replacement'])"
      ],
      "execution_count": 0,
      "outputs": []
    },
    {
      "cell_type": "markdown",
      "metadata": {
        "colab_type": "text",
        "id": "UBIkBt_irQ1b"
      },
      "source": [
        "#### Remove numbers"
      ]
    },
    {
      "cell_type": "code",
      "metadata": {
        "colab_type": "code",
        "id": "qMp6OoiyrQ1b",
        "colab": {}
      },
      "source": [
        "try_step(replace_expression, expression = r\"[0-9]\", replace_with = '')"
      ],
      "execution_count": 0,
      "outputs": []
    },
    {
      "cell_type": "markdown",
      "metadata": {
        "colab_type": "text",
        "id": "lv5Qgp-xrQ1d"
      },
      "source": [
        "#### Expand contracted words"
      ]
    },
    {
      "cell_type": "code",
      "metadata": {
        "colab_type": "code",
        "id": "c4UKaMrtrQ1d",
        "colab": {}
      },
      "source": [
        "# all_contractions = {}\n",
        "# all_words = get_words(train[reference])\n",
        "# best_score = 0.71\n",
        "\n",
        "# for k, v in CONTRACTION_MAP.items():\n",
        "#   if k in all_words:\n",
        "#     all_contractions[k] = v\n",
        "\n",
        "# contractions = contractions_to_expand(words = all_contractions, baseline = best_score, reference=train[reference])"
      ],
      "execution_count": 0,
      "outputs": []
    },
    {
      "cell_type": "code",
      "metadata": {
        "colab_type": "code",
        "id": "OdAM-0airQ1e",
        "colab": {}
      },
      "source": [
        "# if len(contractions) > 0:\n",
        "#   try_step(expand_contractions, contraction_mapping = contractions)"
      ],
      "execution_count": 0,
      "outputs": []
    },
    {
      "cell_type": "markdown",
      "metadata": {
        "colab_type": "text",
        "id": "mWNaI8q0rQ1f"
      },
      "source": [
        "#### Stemming"
      ]
    },
    {
      "cell_type": "code",
      "metadata": {
        "colab_type": "code",
        "id": "j7cNiW1hrQ1g",
        "colab": {}
      },
      "source": [
        "try_step(stemming)"
      ],
      "execution_count": 0,
      "outputs": []
    },
    {
      "cell_type": "markdown",
      "metadata": {
        "colab_type": "text",
        "id": "_MoHKy17rQ1h"
      },
      "source": [
        "#### Translate emoticons"
      ]
    },
    {
      "cell_type": "code",
      "metadata": {
        "colab_type": "code",
        "id": "g5wzcU6qrQ1i",
        "colab": {}
      },
      "source": [
        "try_step(emoticons)"
      ],
      "execution_count": 0,
      "outputs": []
    },
    {
      "cell_type": "markdown",
      "metadata": {
        "colab_type": "text",
        "id": "XUQxLnY9rQ1j"
      },
      "source": [
        "#### Replace abbreviations"
      ]
    },
    {
      "cell_type": "code",
      "metadata": {
        "colab_type": "code",
        "id": "icIzUXK9rQ1k",
        "colab": {}
      },
      "source": [
        "# all_words = get_words(train[reference])\n",
        "# all_abbreviations = {}\n",
        "# best_score = 0.71\n",
        "\n",
        "# for k, v in abbreviations.items():\n",
        "#   if k in all_words:\n",
        "#     all_abbreviations[k] = v\n",
        "\n",
        "# abbr = abbreviations_to_replace(words = all_abbreviations, baseline = best_score, reference = train[reference])"
      ],
      "execution_count": 0,
      "outputs": []
    },
    {
      "cell_type": "code",
      "metadata": {
        "colab_type": "code",
        "id": "n5zoop58rQ1l",
        "colab": {}
      },
      "source": [
        "# if len(abbr) > 0:\n",
        "#   try_step(convert_abbrev_in_text, words = abbr)"
      ],
      "execution_count": 0,
      "outputs": []
    },
    {
      "cell_type": "markdown",
      "metadata": {
        "colab_type": "text",
        "id": "z0ambU_WrQ1n"
      },
      "source": [
        "#### Remove punctuation"
      ]
    },
    {
      "cell_type": "code",
      "metadata": {
        "colab_type": "code",
        "id": "HvGjkqccrQ1n",
        "colab": {}
      },
      "source": [
        "# best_score = 0.71\n",
        "# punc = punct_to_remove(baseline = best_score, reference = train[reference])"
      ],
      "execution_count": 0,
      "outputs": []
    },
    {
      "cell_type": "code",
      "metadata": {
        "colab_type": "code",
        "id": "4JrTh3GtrQ1p",
        "colab": {}
      },
      "source": [
        "# if len(punc) > 0:\n",
        "#   try_step(remove_punct, punctuation = punc)"
      ],
      "execution_count": 0,
      "outputs": []
    },
    {
      "cell_type": "markdown",
      "metadata": {
        "colab_type": "text",
        "id": "qEGkkovMrQ1q"
      },
      "source": [
        "### Fine-tune and Validate"
      ]
    },
    {
      "cell_type": "markdown",
      "metadata": {
        "colab_type": "text",
        "id": "Sn9aiMK9rQ1q"
      },
      "source": [
        "#### Optimize parameters"
      ]
    },
    {
      "cell_type": "code",
      "metadata": {
        "colab_type": "code",
        "id": "AQiAHerqrQ1q",
        "colab": {}
      },
      "source": [
        "X_train = []\n",
        "for r in tqdm(train.text.values):\n",
        "  emb = use(r)\n",
        "  review_emb = tf.reshape(emb, [-1]).numpy()\n",
        "  X_train.append(review_emb)\n",
        "\n",
        "X_train = np.array(X_train)\n",
        "y_train = train.target.values\n",
        "\n",
        "X, test_arrays, y, test_labels = train_test_split(X_train, y_train, random_state = rs, test_size = 0.2)\n",
        "\n",
        "lr_model2 = lr_param_selection(X, y)"
      ],
      "execution_count": 0,
      "outputs": []
    },
    {
      "cell_type": "code",
      "metadata": {
        "colab_type": "code",
        "id": "zV5QtqxFrQ1r",
        "colab": {}
      },
      "source": [
        "dump(svc_model2, 'svc_model2.joblib')"
      ],
      "execution_count": 0,
      "outputs": []
    },
    {
      "cell_type": "code",
      "metadata": {
        "colab_type": "code",
        "id": "S-iH-7H-rQ1t",
        "colab": {}
      },
      "source": [
        "svc_model2 = load('svc_model2.joblib')"
      ],
      "execution_count": 0,
      "outputs": []
    },
    {
      "cell_type": "markdown",
      "metadata": {
        "colab_type": "text",
        "id": "4wi3wShTrQ1u"
      },
      "source": [
        "#### Evaluate"
      ]
    },
    {
      "cell_type": "code",
      "metadata": {
        "colab_type": "code",
        "id": "VmvgedLprQ1u",
        "colab": {}
      },
      "source": [
        "svc_pred = svc_model2.predict(test_arrays)\n",
        "print('SVC\\n', classification_report(test_labels, svc_pred), '\\n'*2)"
      ],
      "execution_count": 0,
      "outputs": []
    },
    {
      "cell_type": "markdown",
      "metadata": {
        "colab_type": "text",
        "id": "1Nyfzz0rrQ1w"
      },
      "source": [
        "#### Pipeline for Test Set"
      ]
    },
    {
      "cell_type": "code",
      "metadata": {
        "colab_type": "code",
        "id": "XaR-6WUGrQ1w",
        "colab": {}
      },
      "source": [
        "# test[reference] = test['text'].apply(lambda x: remove_stopwords(x))\n",
        "# test[reference] = test[reference].apply(lambda x: strip_html_tags(x))"
      ],
      "execution_count": 0,
      "outputs": []
    },
    {
      "cell_type": "code",
      "metadata": {
        "colab_type": "code",
        "id": "FEywn-OarQ1x",
        "colab": {}
      },
      "source": [
        "X_test = []\n",
        "\n",
        "for r in tqdm(test[reference].values):\n",
        "  emb = use(r)\n",
        "  review_emb = tf.reshape(emb, [-1]).numpy()\n",
        "  X_test.append(review_emb)\n",
        "\n",
        "X_test = np.array(X_test)"
      ],
      "execution_count": 0,
      "outputs": []
    },
    {
      "cell_type": "markdown",
      "metadata": {
        "colab_type": "text",
        "id": "8Ez21d9prQ1z"
      },
      "source": [
        "#### Predictions"
      ]
    },
    {
      "cell_type": "code",
      "metadata": {
        "colab_type": "code",
        "id": "HiynAlw7rQ1z",
        "colab": {}
      },
      "source": [
        "svc_pred = svc_model2.predict(X_test)\n",
        "\n",
        "submission['target'] = svc_pred\n",
        "\n",
        "for k in similar_test.keys():\n",
        "  summation = submission.loc[similar_test[k],:]['target'].sum() + submission.loc[k,:]['target']\n",
        "  count = len(similar[k]) + 1\n",
        "  mean = summation/count\n",
        "  if mean > 0.5:\n",
        "    submission.loc[k,'target'] = 1\n",
        "    submission.loc[similar_test[k],'target'] = 1\n",
        "  else:\n",
        "    submission.loc[k,'target'] = 0\n",
        "    submission.loc[similar_test[k],'target'] = 0\n",
        "\n",
        "submission.to_csv('2_svc_submission.csv', index = False)"
      ],
      "execution_count": 0,
      "outputs": []
    },
    {
      "cell_type": "markdown",
      "metadata": {
        "id": "OUnS8LPMqMbu",
        "colab_type": "text"
      },
      "source": [
        "<br>\n",
        "<br>"
      ]
    },
    {
      "cell_type": "markdown",
      "metadata": {
        "id": "6Cz9eNyfY9Fi",
        "colab_type": "text"
      },
      "source": [
        "# 5. Deep Learning"
      ]
    },
    {
      "cell_type": "code",
      "metadata": {
        "id": "swt051QqHvCA",
        "colab_type": "code",
        "outputId": "6d5e4b56-72c4-4f72-ad70-d19166103325",
        "colab": {
          "base_uri": "https://localhost:8080/",
          "height": 34
        }
      },
      "source": [
        "!pip install sentencepiece\n",
        "!wget --quiet https://raw.githubusercontent.com/tensorflow/models/master/official/nlp/bert/tokenization.py"
      ],
      "execution_count": 0,
      "outputs": [
        {
          "output_type": "stream",
          "text": [
            "Requirement already satisfied: sentencepiece in /usr/local/lib/python3.6/dist-packages (0.1.85)\n"
          ],
          "name": "stdout"
        }
      ]
    },
    {
      "cell_type": "code",
      "metadata": {
        "id": "sbxzUJOfVP4R",
        "colab_type": "code",
        "colab": {}
      },
      "source": [
        "from sklearn.pipeline import FeatureUnion\n",
        "from tensorflow.keras.models import Sequential, Model\n",
        "from tensorflow.keras.layers import SimpleRNN, GlobalAveragePooling1D, GlobalMaxPooling1D, Dropout, Embedding, Dense, Bidirectional, LSTM, Input\n",
        "from tensorflow.keras import backend as K\n",
        "from tensorflow.keras.callbacks import EarlyStopping, ModelCheckpoint\n",
        "from tensorflow.keras.optimizers import Adam\n",
        "from tensorflow.keras import backend as K\n",
        "from keras.preprocessing.text import Tokenizer\n",
        "from keras.preprocessing.sequence import pad_sequences\n",
        "\n",
        "import sentencepiece\n",
        "import tokenization"
      ],
      "execution_count": 0,
      "outputs": []
    },
    {
      "cell_type": "markdown",
      "metadata": {
        "id": "Ag9m6WU57T-I",
        "colab_type": "text"
      },
      "source": [
        "### Perceptron"
      ]
    },
    {
      "cell_type": "code",
      "metadata": {
        "id": "bvE2eDWK4IPz",
        "colab_type": "code",
        "outputId": "0c9a1258-9dbe-46b9-8c7e-6c7c81a7afbc",
        "colab": {
          "base_uri": "https://localhost:8080/",
          "height": 34
        }
      },
      "source": [
        "X, y = train['text'], train['target'].values\n",
        "X_train, X_test, y_train, y_test = train_test_split(X, y, test_size=0.2, random_state=42)\n",
        "\n",
        "word_vectorizer = TfidfVectorizer(\n",
        "    analyzer='word',\n",
        "    stop_words='english',\n",
        "    ngram_range=(1, 3),\n",
        "    lowercase=True,\n",
        "    min_df=5,\n",
        "    max_features=30000)\n",
        "\n",
        "char_vectorizer = TfidfVectorizer(\n",
        "    analyzer='char',\n",
        "    stop_words='english',\n",
        "    ngram_range=(3, 6),\n",
        "    lowercase=True,\n",
        "    min_df=5,\n",
        "    max_features=50000)\n",
        "\n",
        "vectorizer = FeatureUnion([('word_vectorizer', word_vectorizer),  ('char_vectorizer', char_vectorizer)])\n",
        "vectorizer.fit(X_train)\n",
        "\n",
        "X_train_vectors = vectorizer.transform(X_train).toarray()\n",
        "X_test_vectors = vectorizer.transform(X_test).toarray()\n",
        "print(X_train_vectors.shape, X_test_vectors.shape)\n",
        "\n",
        "X_train_text = X_train.tolist()\n",
        "X_test_text = X_test.tolist()"
      ],
      "execution_count": 0,
      "outputs": [
        {
          "output_type": "stream",
          "text": [
            "(5473, 52512) (1369, 52512)\n"
          ],
          "name": "stdout"
        }
      ]
    },
    {
      "cell_type": "code",
      "metadata": {
        "id": "M0y-BUSzVxw8",
        "colab_type": "code",
        "colab": {}
      },
      "source": [
        "model = Sequential([\n",
        "    Dense(256, activation='relu'),\n",
        "    Dense(50, activation='relu'),\n",
        "    Dense(50, activation='relu'),\n",
        "    Dense(1, activation='sigmoid')\n",
        "])"
      ],
      "execution_count": 0,
      "outputs": []
    },
    {
      "cell_type": "code",
      "metadata": {
        "id": "xOR8tyS-Vyyt",
        "colab_type": "code",
        "colab": {}
      },
      "source": [
        "model.compile(\n",
        "    loss='binary_crossentropy', \n",
        "    optimizer='adam', \n",
        "    metrics=['accuracy']\n",
        ")"
      ],
      "execution_count": 0,
      "outputs": []
    },
    {
      "cell_type": "code",
      "metadata": {
        "id": "K-6wDmXExmlr",
        "colab_type": "code",
        "outputId": "fb2f9a7e-2c0e-46db-b80a-d0ac418a64ca",
        "colab": {
          "base_uri": "https://localhost:8080/",
          "height": 238
        }
      },
      "source": [
        "es = EarlyStopping(patience = 3, monitor='val_loss')\n",
        "nn_checkpoint = ModelCheckpoint('model_perceptron.h5', monitor='val_loss', save_best_only=True)\n",
        "\n",
        "history = model.fit(\n",
        "    x=X_train_vectors, y=y_train, batch_size=1024, epochs=10, verbose=True,\n",
        "    validation_data=(X_test_vectors, y_test), shuffle=True, callbacks = [es, nn_checkpoint]\n",
        ")\n",
        "\n",
        "K.clear_session()"
      ],
      "execution_count": 0,
      "outputs": [
        {
          "output_type": "stream",
          "text": [
            "Train on 5473 samples, validate on 1369 samples\n",
            "Epoch 1/10\n",
            "5473/5473 [==============================] - 2s 372us/sample - loss: 0.6799 - accuracy: 0.6850 - val_loss: 0.6384 - val_accuracy: 0.7852\n",
            "Epoch 2/10\n",
            "5473/5473 [==============================] - 2s 298us/sample - loss: 0.5784 - accuracy: 0.8551 - val_loss: 0.5374 - val_accuracy: 0.7977\n",
            "Epoch 3/10\n",
            "5473/5473 [==============================] - 2s 292us/sample - loss: 0.4218 - accuracy: 0.8891 - val_loss: 0.4591 - val_accuracy: 0.8013\n",
            "Epoch 4/10\n",
            "5473/5473 [==============================] - 1s 238us/sample - loss: 0.2810 - accuracy: 0.9143 - val_loss: 0.4713 - val_accuracy: 0.7911\n",
            "Epoch 5/10\n",
            "5473/5473 [==============================] - 1s 222us/sample - loss: 0.1860 - accuracy: 0.9421 - val_loss: 0.5325 - val_accuracy: 0.7809\n",
            "Epoch 6/10\n",
            "5473/5473 [==============================] - 1s 217us/sample - loss: 0.1141 - accuracy: 0.9715 - val_loss: 0.6162 - val_accuracy: 0.7750\n"
          ],
          "name": "stdout"
        }
      ]
    },
    {
      "cell_type": "markdown",
      "metadata": {
        "colab_type": "text",
        "id": "hGP09saAqcBW"
      },
      "source": [
        "<br>"
      ]
    },
    {
      "cell_type": "markdown",
      "metadata": {
        "id": "Yu-c08pSx1D2",
        "colab_type": "text"
      },
      "source": [
        "### RNN"
      ]
    },
    {
      "cell_type": "markdown",
      "metadata": {
        "id": "p9_I3XWCG1ux",
        "colab_type": "text"
      },
      "source": [
        "This section is meant mainly for experimentation. It does not need to be considered for the deliverable."
      ]
    },
    {
      "cell_type": "markdown",
      "metadata": {
        "id": "td1SQyYQ1R2y",
        "colab_type": "text"
      },
      "source": [
        "#### Simple RNN"
      ]
    },
    {
      "cell_type": "code",
      "metadata": {
        "id": "4heYLNHkFvsD",
        "colab_type": "code",
        "colab": {}
      },
      "source": [
        "max_features=50000\n",
        "maxlen=25\n",
        "tokenizer = Tokenizer(num_words=max_features)\n",
        "tokenizer.fit_on_texts(X_train.tolist())\n",
        "X_train = tokenizer.texts_to_sequences(X_train.tolist())\n",
        "X_test = tokenizer.texts_to_sequences(X_test.tolist())\n",
        "\n",
        "X_train = pad_sequences(X_train, maxlen=maxlen)\n",
        "X_test = pad_sequences(X_test, maxlen=maxlen)"
      ],
      "execution_count": 0,
      "outputs": []
    },
    {
      "cell_type": "code",
      "metadata": {
        "id": "zDX0O8X8yi-w",
        "colab_type": "code",
        "outputId": "28d1eaa6-4a67-42cc-8438-2695eff621fe",
        "colab": {
          "base_uri": "https://localhost:8080/",
          "height": 34
        }
      },
      "source": [
        "vocab_dim = X_train.max() + 1\n",
        "embed_dim = int(np.sqrt(vocab_dim))\n",
        "\n",
        "print(vocab_dim, embed_dim)\n",
        "\n",
        "model = Sequential([\n",
        "    Embedding(input_dim=vocab_dim, output_dim=embed_dim),\n",
        "    SimpleRNN(units=embed_dim, return_sequences=False),\n",
        "    Dense(1, activation='sigmoid')\n",
        "])\n",
        "\n",
        "model.compile(\n",
        "    loss='binary_crossentropy', \n",
        "    optimizer='adam', \n",
        "    metrics=['accuracy']\n",
        ")"
      ],
      "execution_count": 0,
      "outputs": [
        {
          "output_type": "stream",
          "text": [
            "18753 136\n"
          ],
          "name": "stdout"
        }
      ]
    },
    {
      "cell_type": "code",
      "metadata": {
        "id": "Bpa7XWsrymIE",
        "colab_type": "code",
        "outputId": "81e4af03-ba7e-4d66-e562-aa8577f4ab90",
        "colab": {
          "base_uri": "https://localhost:8080/",
          "height": 204
        }
      },
      "source": [
        "history = model.fit(\n",
        "    x=X_train, y=y_train, batch_size=64, epochs=5, verbose=True, validation_data=(X_test, y_test), shuffle=True\n",
        ")\n",
        "K.clear_session()"
      ],
      "execution_count": 0,
      "outputs": [
        {
          "output_type": "stream",
          "text": [
            "Train on 5473 samples, validate on 1369 samples\n",
            "Epoch 1/5\n",
            "5473/5473 [==============================] - 4s 701us/sample - loss: 0.6233 - accuracy: 0.6549 - val_loss: 0.5344 - val_accuracy: 0.7560\n",
            "Epoch 2/5\n",
            "5473/5473 [==============================] - 3s 553us/sample - loss: 0.2103 - accuracy: 0.9260 - val_loss: 0.5744 - val_accuracy: 0.7370\n",
            "Epoch 3/5\n",
            "5473/5473 [==============================] - 3s 553us/sample - loss: 0.0418 - accuracy: 0.9890 - val_loss: 0.6547 - val_accuracy: 0.7327\n",
            "Epoch 4/5\n",
            "5473/5473 [==============================] - 3s 547us/sample - loss: 0.0142 - accuracy: 0.9973 - val_loss: 0.7932 - val_accuracy: 0.7246\n",
            "Epoch 5/5\n",
            "5473/5473 [==============================] - 3s 550us/sample - loss: 0.0066 - accuracy: 0.9980 - val_loss: 0.8274 - val_accuracy: 0.6947\n"
          ],
          "name": "stdout"
        }
      ]
    },
    {
      "cell_type": "code",
      "metadata": {
        "id": "DN3pLxraynVs",
        "colab_type": "code",
        "colab": {}
      },
      "source": [
        "model = Sequential([\n",
        "    Embedding(input_dim=vocab_dim, output_dim=embed_dim),\n",
        "    SimpleRNN(units=embed_dim, return_sequences=True),\n",
        "    GlobalMaxPooling1D(),\n",
        "    Dense(1, activation='sigmoid')\n",
        "])\n",
        "\n",
        "model.compile(\n",
        "    loss='binary_crossentropy', \n",
        "    optimizer='adam', \n",
        "    metrics=['accuracy']\n",
        ")"
      ],
      "execution_count": 0,
      "outputs": []
    },
    {
      "cell_type": "code",
      "metadata": {
        "id": "5c5dRH_h1WJf",
        "colab_type": "code",
        "outputId": "e79f3b53-7884-4ae4-887f-db2c59a77299",
        "colab": {
          "base_uri": "https://localhost:8080/",
          "height": 204
        }
      },
      "source": [
        "es = EarlyStopping(patience = 3, monitor='val_loss')\n",
        "simple_rnn_checkpoint = ModelCheckpoint('model_simple_rnn.h5', monitor='val_loss', save_best_only=True)\n",
        "\n",
        "history = model.fit(\n",
        "    x=X_train, y=y_train, batch_size=64, epochs=5, verbose=True,\n",
        "    validation_data=(X_test, y_test), shuffle=True, callbacks = [es, simple_rnn_checkpoint]\n",
        ")\n",
        "\n",
        "K.clear_session()"
      ],
      "execution_count": 0,
      "outputs": [
        {
          "output_type": "stream",
          "text": [
            "Train on 5473 samples, validate on 1369 samples\n",
            "Epoch 1/5\n",
            "5473/5473 [==============================] - 4s 714us/sample - loss: 0.6542 - accuracy: 0.6201 - val_loss: 0.6125 - val_accuracy: 0.6706\n",
            "Epoch 2/5\n",
            "5473/5473 [==============================] - 3s 567us/sample - loss: 0.4483 - accuracy: 0.8122 - val_loss: 0.4690 - val_accuracy: 0.7889\n",
            "Epoch 3/5\n",
            "5473/5473 [==============================] - 3s 558us/sample - loss: 0.1893 - accuracy: 0.9342 - val_loss: 0.4999 - val_accuracy: 0.7831\n",
            "Epoch 4/5\n",
            "5473/5473 [==============================] - 3s 549us/sample - loss: 0.0782 - accuracy: 0.9766 - val_loss: 0.5413 - val_accuracy: 0.7677\n",
            "Epoch 5/5\n",
            "5473/5473 [==============================] - 3s 547us/sample - loss: 0.0356 - accuracy: 0.9907 - val_loss: 0.6698 - val_accuracy: 0.7641\n"
          ],
          "name": "stdout"
        }
      ]
    },
    {
      "cell_type": "markdown",
      "metadata": {
        "id": "DJd2dJa31YCq",
        "colab_type": "text"
      },
      "source": [
        "#### Bidirectional RNN"
      ]
    },
    {
      "cell_type": "code",
      "metadata": {
        "id": "q24gj7H71ahl",
        "colab_type": "code",
        "colab": {}
      },
      "source": [
        "model = Sequential([\n",
        "    Embedding(input_dim=vocab_dim, output_dim=embed_dim),\n",
        "    Bidirectional(SimpleRNN(units=embed_dim, return_sequences=True)),\n",
        "    GlobalMaxPooling1D(),\n",
        "    Dense(1, activation='sigmoid')\n",
        "])\n",
        "model.compile(\n",
        "    loss='binary_crossentropy', \n",
        "    optimizer='adam', \n",
        "    metrics=['accuracy']\n",
        ")"
      ],
      "execution_count": 0,
      "outputs": []
    },
    {
      "cell_type": "code",
      "metadata": {
        "id": "QMBWpgFB1cgX",
        "colab_type": "code",
        "outputId": "10c9c0f8-6cb5-4f59-acb4-9b49c1c05f14",
        "colab": {
          "base_uri": "https://localhost:8080/",
          "height": 204
        }
      },
      "source": [
        "es = EarlyStopping(patience = 3, monitor='val_loss')\n",
        "bi_rnn_checkpoint = ModelCheckpoint('model_bi_rnn.h5', monitor='val_loss', save_best_only=True)\n",
        "\n",
        "history = model.fit(\n",
        "    x=X_train, y=y_train, batch_size=64, epochs=5, verbose=True,\n",
        "    validation_data=(X_test, y_test), shuffle=True, callbacks = [es, bi_rnn_checkpoint]\n",
        ")\n",
        "\n",
        "K.clear_session()"
      ],
      "execution_count": 0,
      "outputs": [
        {
          "output_type": "stream",
          "text": [
            "Train on 5473 samples, validate on 1369 samples\n",
            "Epoch 1/5\n",
            "5473/5473 [==============================] - 6s 1ms/sample - loss: 0.6146 - accuracy: 0.6572 - val_loss: 0.5146 - val_accuracy: 0.7714\n",
            "Epoch 2/5\n",
            "5473/5473 [==============================] - 4s 757us/sample - loss: 0.3071 - accuracy: 0.8798 - val_loss: 0.5110 - val_accuracy: 0.7553\n",
            "Epoch 3/5\n",
            "5473/5473 [==============================] - 4s 759us/sample - loss: 0.1223 - accuracy: 0.9587 - val_loss: 0.7488 - val_accuracy: 0.7115\n",
            "Epoch 4/5\n",
            "5473/5473 [==============================] - 4s 750us/sample - loss: 0.0497 - accuracy: 0.9843 - val_loss: 0.8470 - val_accuracy: 0.7421\n",
            "Epoch 5/5\n",
            "5473/5473 [==============================] - 4s 759us/sample - loss: 0.0209 - accuracy: 0.9945 - val_loss: 0.9992 - val_accuracy: 0.7180\n"
          ],
          "name": "stdout"
        }
      ]
    },
    {
      "cell_type": "markdown",
      "metadata": {
        "id": "URvYe_He1csE",
        "colab_type": "text"
      },
      "source": [
        "#### LSTM"
      ]
    },
    {
      "cell_type": "code",
      "metadata": {
        "id": "wnxsKGz51cpD",
        "colab_type": "code",
        "colab": {}
      },
      "source": [
        "model = Sequential([\n",
        "    Embedding(input_dim=vocab_dim, output_dim=embed_dim),\n",
        "    LSTM(units=embed_dim, return_sequences=False),\n",
        "    LSTM(units=embed_dim, return_sequences=False),\n",
        "    Dense(1, activation='sigmoid')\n",
        "])\n",
        "model.compile(\n",
        "    loss='binary_crossentropy', \n",
        "    optimizer='adam', \n",
        "    metrics=['accuracy']\n",
        ")"
      ],
      "execution_count": 0,
      "outputs": []
    },
    {
      "cell_type": "code",
      "metadata": {
        "id": "IPOgqvxSGNwB",
        "colab_type": "code",
        "outputId": "963235f0-dd0d-4a29-bab0-00c58033e4e1",
        "colab": {
          "base_uri": "https://localhost:8080/",
          "height": 255
        }
      },
      "source": [
        "model.summary()"
      ],
      "execution_count": 0,
      "outputs": [
        {
          "output_type": "stream",
          "text": [
            "Model: \"sequential_1\"\n",
            "_________________________________________________________________\n",
            "Layer (type)                 Output Shape              Param #   \n",
            "=================================================================\n",
            "embedding_1 (Embedding)      (None, None, 136)         2550408   \n",
            "_________________________________________________________________\n",
            "lstm_2 (LSTM)                (None, 136)               148512    \n",
            "_________________________________________________________________\n",
            "dense_1 (Dense)              (None, 1)                 137       \n",
            "=================================================================\n",
            "Total params: 2,699,057\n",
            "Trainable params: 2,699,057\n",
            "Non-trainable params: 0\n",
            "_________________________________________________________________\n"
          ],
          "name": "stdout"
        }
      ]
    },
    {
      "cell_type": "code",
      "metadata": {
        "id": "EM5YHlXr1cmy",
        "colab_type": "code",
        "outputId": "22eb6018-b4bc-4634-a3ba-eb8a444156f5",
        "colab": {
          "base_uri": "https://localhost:8080/",
          "height": 170
        }
      },
      "source": [
        "es = EarlyStopping(patience = 3, monitor='val_loss')\n",
        "lstm_checkpoint = ModelCheckpoint('model_lstm_rnn.h5', monitor='val_loss', save_best_only=True)\n",
        "\n",
        "history = model.fit(\n",
        "    x=X_train, y=y_train, batch_size=64, epochs=10, verbose=True,\n",
        "    validation_data=(X_test, y_test), shuffle=True, callbacks = [es, lstm_checkpoint]\n",
        ")\n",
        "\n",
        "K.clear_session()"
      ],
      "execution_count": 0,
      "outputs": [
        {
          "output_type": "stream",
          "text": [
            "Train on 5473 samples, validate on 1369 samples\n",
            "Epoch 1/10\n",
            "5473/5473 [==============================] - 4s 706us/sample - loss: 0.5722 - accuracy: 0.6974 - val_loss: 0.4858 - val_accuracy: 0.7874\n",
            "Epoch 2/10\n",
            "5473/5473 [==============================] - 2s 384us/sample - loss: 0.2859 - accuracy: 0.8895 - val_loss: 0.4926 - val_accuracy: 0.7984\n",
            "Epoch 3/10\n",
            "5473/5473 [==============================] - 2s 373us/sample - loss: 0.1088 - accuracy: 0.9618 - val_loss: 0.7094 - val_accuracy: 0.7750\n",
            "Epoch 4/10\n",
            "5473/5473 [==============================] - 2s 375us/sample - loss: 0.0378 - accuracy: 0.9892 - val_loss: 0.7240 - val_accuracy: 0.7670\n"
          ],
          "name": "stdout"
        }
      ]
    },
    {
      "cell_type": "markdown",
      "metadata": {
        "id": "QUCiC0SqqeBs",
        "colab_type": "text"
      },
      "source": [
        "<br>"
      ]
    },
    {
      "cell_type": "markdown",
      "metadata": {
        "id": "eQsEIVZw1kss",
        "colab_type": "text"
      },
      "source": [
        "### Transformer Encoder – BERT "
      ]
    },
    {
      "cell_type": "code",
      "metadata": {
        "id": "VcxfAH6Qanut",
        "colab_type": "code",
        "colab": {}
      },
      "source": [
        "def bert_encode(texts, tokenizer, max_len=512):\n",
        "    all_tokens = []\n",
        "    all_masks = []\n",
        "    all_segments = []\n",
        "    \n",
        "    for text in texts:\n",
        "        text = tokenizer.tokenize(text)\n",
        "            \n",
        "        text = text[:max_len-2]\n",
        "        input_sequence = [\"[CLS]\"] + text + [\"[SEP]\"]\n",
        "        pad_len = max_len - len(input_sequence)\n",
        "        \n",
        "        tokens = tokenizer.convert_tokens_to_ids(input_sequence)\n",
        "        tokens += [0] * pad_len\n",
        "        pad_masks = [1] * len(input_sequence) + [0] * pad_len\n",
        "        segment_ids = [0] * max_len\n",
        "        \n",
        "        all_tokens.append(tokens)\n",
        "        all_masks.append(pad_masks)\n",
        "        all_segments.append(segment_ids)\n",
        "    \n",
        "    return np.array(all_tokens), np.array(all_masks), np.array(all_segments)\n",
        "\n",
        "def recall_m(y_true, y_pred):\n",
        "    true_positives = K.sum(K.round(K.clip(y_true * y_pred, 0, 1)))\n",
        "    possible_positives = K.sum(K.round(K.clip(y_true, 0, 1)))\n",
        "    recall = true_positives / (possible_positives + K.epsilon())\n",
        "    return recall\n",
        "\n",
        "def precision_m(y_true, y_pred):\n",
        "    true_positives = K.sum(K.round(K.clip(y_true * y_pred, 0, 1)))\n",
        "    predicted_positives = K.sum(K.round(K.clip(y_pred, 0, 1)))\n",
        "    precision = true_positives / (predicted_positives + K.epsilon())\n",
        "    return precision\n",
        "\n",
        "def f1_m(y_true, y_pred):\n",
        "    precision = precision_m(y_true, y_pred)\n",
        "    recall = recall_m(y_true, y_pred)\n",
        "    return 2*((precision*recall)/(precision+recall+K.epsilon()))\n",
        "\n",
        "def build_model(bert_layer, max_len=512):\n",
        "    input_word_ids = Input(shape=(max_len,), dtype=tf.int32, name=\"input_word_ids\")\n",
        "    input_mask = Input(shape=(max_len,), dtype=tf.int32, name=\"input_mask\")\n",
        "    segment_ids = Input(shape=(max_len,), dtype=tf.int32, name=\"segment_ids\")\n",
        "\n",
        "    _, sequence_output = bert_layer([input_word_ids, input_mask, segment_ids])\n",
        "    clf_output = sequence_output[:, 0, :]\n",
        "    out = Dense(1, activation='sigmoid')(clf_output)\n",
        "    \n",
        "    model = Model(inputs=[input_word_ids, input_mask, segment_ids], outputs=out)\n",
        "    model.compile(Adam(lr=6e-6), loss='binary_crossentropy', metrics=['accuracy'])\n",
        "    \n",
        "    return model"
      ],
      "execution_count": 0,
      "outputs": []
    },
    {
      "cell_type": "code",
      "metadata": {
        "id": "hiklsEV1apHu",
        "colab_type": "code",
        "outputId": "1465111c-0c0e-421c-fc27-1d931013ea23",
        "colab": {
          "base_uri": "https://localhost:8080/",
          "height": 51
        }
      },
      "source": [
        "%%time\n",
        "module_url = \"https://tfhub.dev/tensorflow/bert_en_uncased_L-24_H-1024_A-16/1\"\n",
        "bert_layer = hub.KerasLayer(module_url, trainable=True)"
      ],
      "execution_count": 0,
      "outputs": [
        {
          "output_type": "stream",
          "text": [
            "CPU times: user 19.6 s, sys: 4.36 s, total: 24 s\n",
            "Wall time: 34.9 s\n"
          ],
          "name": "stdout"
        }
      ]
    },
    {
      "cell_type": "code",
      "metadata": {
        "id": "WqtcICZqazoV",
        "colab_type": "code",
        "colab": {}
      },
      "source": [
        "vocab_file = bert_layer.resolved_object.vocab_file.asset_path.numpy()\n",
        "do_lower_case = bert_layer.resolved_object.do_lower_case.numpy()\n",
        "tokenizer = tokenization.FullTokenizer(vocab_file, do_lower_case)"
      ],
      "execution_count": 0,
      "outputs": []
    },
    {
      "cell_type": "code",
      "metadata": {
        "id": "17G3P_7ia01U",
        "colab_type": "code",
        "colab": {}
      },
      "source": [
        "train_input = bert_encode(train.text.values, tokenizer, max_len=160)\n",
        "test_input = bert_encode(test.text.values, tokenizer, max_len=160)\n",
        "train_labels = train.target.values"
      ],
      "execution_count": 0,
      "outputs": []
    },
    {
      "cell_type": "code",
      "metadata": {
        "id": "vFdHNQ-6a19I",
        "colab_type": "code",
        "outputId": "1da0c24b-7a95-4fbe-be8c-58b3553d8e87",
        "colab": {
          "base_uri": "https://localhost:8080/",
          "height": 391
        }
      },
      "source": [
        "model = build_model(bert_layer, max_len=160)\n",
        "model.summary()"
      ],
      "execution_count": 0,
      "outputs": [
        {
          "output_type": "stream",
          "text": [
            "Model: \"model\"\n",
            "__________________________________________________________________________________________________\n",
            "Layer (type)                    Output Shape         Param #     Connected to                     \n",
            "==================================================================================================\n",
            "input_word_ids (InputLayer)     [(None, 160)]        0                                            \n",
            "__________________________________________________________________________________________________\n",
            "input_mask (InputLayer)         [(None, 160)]        0                                            \n",
            "__________________________________________________________________________________________________\n",
            "segment_ids (InputLayer)        [(None, 160)]        0                                            \n",
            "__________________________________________________________________________________________________\n",
            "keras_layer (KerasLayer)        [(None, 1024), (None 335141889   input_word_ids[0][0]             \n",
            "                                                                 input_mask[0][0]                 \n",
            "                                                                 segment_ids[0][0]                \n",
            "__________________________________________________________________________________________________\n",
            "tf_op_layer_strided_slice (Tens [(None, 1024)]       0           keras_layer[0][1]                \n",
            "__________________________________________________________________________________________________\n",
            "dense (Dense)                   (None, 1)            1025        tf_op_layer_strided_slice[0][0]  \n",
            "==================================================================================================\n",
            "Total params: 335,142,914\n",
            "Trainable params: 335,142,913\n",
            "Non-trainable params: 1\n",
            "__________________________________________________________________________________________________\n"
          ],
          "name": "stdout"
        }
      ]
    },
    {
      "cell_type": "code",
      "metadata": {
        "id": "mmpJ6uB1bptS",
        "colab_type": "code",
        "outputId": "7260c2e2-6b4e-408c-8da4-b45bad85702e",
        "colab": {
          "base_uri": "https://localhost:8080/",
          "height": 170
        }
      },
      "source": [
        "es = EarlyStopping(patience = 3, restore_best_weights = True)\n",
        "checkpoint = ModelCheckpoint('model_BERT.h5', monitor='val_loss', save_best_only=True)\n",
        "\n",
        "train_history = model.fit(\n",
        "    train_input, train_labels,\n",
        "    validation_split=0.2,\n",
        "    epochs=10,\n",
        "    batch_size=16,\n",
        "    callbacks = [es, checkpoint]\n",
        ")"
      ],
      "execution_count": 0,
      "outputs": [
        {
          "output_type": "stream",
          "text": [
            "Train on 5473 samples, validate on 1369 samples\n",
            "Epoch 1/10\n",
            "5473/5473 [==============================] - 445s 81ms/sample - loss: 0.4416 - accuracy: 0.8091 - val_loss: 0.3972 - val_accuracy: 0.8305\n",
            "Epoch 2/10\n",
            "5473/5473 [==============================] - 338s 62ms/sample - loss: 0.2673 - accuracy: 0.8969 - val_loss: 0.4581 - val_accuracy: 0.8232\n",
            "Epoch 3/10\n",
            "5473/5473 [==============================] - 337s 62ms/sample - loss: 0.0956 - accuracy: 0.9671 - val_loss: 0.6233 - val_accuracy: 0.8064\n",
            "Epoch 4/10\n",
            "5473/5473 [==============================] - 338s 62ms/sample - loss: 0.0356 - accuracy: 0.9905 - val_loss: 0.7522 - val_accuracy: 0.8137\n"
          ],
          "name": "stdout"
        }
      ]
    },
    {
      "cell_type": "code",
      "metadata": {
        "id": "gK7nP9T2S8H8",
        "colab_type": "code",
        "outputId": "67810769-1ec4-4ad3-ae38-76da6a877665",
        "colab": {
          "base_uri": "https://localhost:8080/",
          "height": 308
        }
      },
      "source": [
        "# f, (ax1, ax2, ax3) = plt.subplots(1, 3, figsize=(20, 4))\n",
        "f, (ax1, ax3) = plt.subplots(1, 2, figsize=(12, 4))\n",
        "t = f.suptitle('Basic Multi-Layered Perceptron Performance', fontsize=12)\n",
        "f.subplots_adjust(top=0.85, wspace=0.3)\n",
        "\n",
        "epoch_list = list(range(len(train_history.history['loss'])))\n",
        "ax1.plot(epoch_list, train_history.history['accuracy'], label='Train Accuracy')\n",
        "ax1.plot(epoch_list, train_history.history['val_accuracy'], label='Validation Accuracy')\n",
        "ax1.set_ylabel('Accuracy Value')\n",
        "ax1.set_xlabel('Epoch')\n",
        "ax1.set_title('Accuracy')\n",
        "l1 = ax1.legend(loc=\"best\")\n",
        "\n",
        "# ax2.plot(epoch_list, train_history.history['f1_m'], label='Train F1 Score')\n",
        "# ax2.plot(epoch_list, train_history.history['val_f1_m'], label='Validation F1 Score')\n",
        "# ax2.set_ylabel('F1 Score Value')\n",
        "# ax2.set_xlabel('Epoch')\n",
        "# ax2.set_title('F1 Score')\n",
        "# l2 = ax2.legend(loc=\"best\")\n",
        "\n",
        "ax3.plot(epoch_list, train_history.history['loss'], label='Train Loss')\n",
        "ax3.plot(epoch_list, train_history.history['val_loss'], label='Validation Loss')\n",
        "ax3.set_ylabel('Loss Value')\n",
        "ax3.set_xlabel('Epoch')\n",
        "ax3.set_title('Loss')\n",
        "l3 = ax3.legend(loc=\"best\")"
      ],
      "execution_count": 0,
      "outputs": [
        {
          "output_type": "display_data",
          "data": {
            "image/png": "[encoded data removed]",
            "text/plain": [
              "<Figure size 864x288 with 2 Axes>"
            ]
          },
          "metadata": {
            "tags": [],
            "needs_background": "light"
          }
        }
      ]
    },
    {
      "cell_type": "code",
      "metadata": {
        "id": "yyT7DefpbrLC",
        "colab_type": "code",
        "outputId": "0846a1f7-f02f-4552-80f3-3ab930f2d773",
        "colab": {
          "base_uri": "https://localhost:8080/",
          "height": 170
        }
      },
      "source": [
        "bert_preds = model.predict(train_input)\n",
        "\n",
        "print(classification_report(train_labels, bert_preds.round().astype(int)))"
      ],
      "execution_count": 0,
      "outputs": [
        {
          "output_type": "stream",
          "text": [
            "              precision    recall  f1-score   support\n",
            "\n",
            "         0.0       0.87      0.95      0.91      4097\n",
            "         1.0       0.91      0.79      0.84      2745\n",
            "\n",
            "    accuracy                           0.88      6842\n",
            "   macro avg       0.89      0.87      0.87      6842\n",
            "weighted avg       0.88      0.88      0.88      6842\n",
            "\n"
          ],
          "name": "stdout"
        }
      ]
    },
    {
      "cell_type": "code",
      "metadata": {
        "id": "OUzcP-2-4XYM",
        "colab_type": "code",
        "colab": {}
      },
      "source": [
        "test_pred = model.predict(test_input)"
      ],
      "execution_count": 0,
      "outputs": []
    },
    {
      "cell_type": "code",
      "metadata": {
        "id": "-PX4xXbA4cts",
        "colab_type": "code",
        "colab": {}
      },
      "source": [
        "submission['target'] = test_pred.round().astype(int)\n",
        "\n",
        "for k in similar_test.keys():\n",
        "  summation = submission.loc[similar_test[k],:]['target'].sum() + submission.loc[k,:]['target']\n",
        "  count = len(similar[k]) + 1\n",
        "  mean = summation/count\n",
        "  if mean > 0.5:\n",
        "    submission.loc[k,'target'] = 1\n",
        "    submission.loc[similar_test[k],'target'] = 1\n",
        "  else:\n",
        "    submission.loc[k,'target'] = 0\n",
        "    submission.loc[similar_test[k],'target'] = 0\n",
        "\n",
        "submission.to_csv('2_bert_submission.csv', index = False)"
      ],
      "execution_count": 0,
      "outputs": []
    },
    {
      "cell_type": "markdown",
      "metadata": {
        "id": "cwgmJIrxPz1I",
        "colab_type": "text"
      },
      "source": [
        "**KAGGLE SCORE:** 0.83946"
      ]
    },
    {
      "cell_type": "markdown",
      "metadata": {
        "id": "STaF42MrRJ6p",
        "colab_type": "text"
      },
      "source": [
        "Lastly, we will try and combine the predictions of the BERT model with the two previously strongest models, which produced `lr_pred` and `svc_pred`. The results are not likely to be as strong as the BERT model alone, but it's worth a try."
      ]
    },
    {
      "cell_type": "code",
      "metadata": {
        "id": "iJlD6PnbQCxZ",
        "colab_type": "code",
        "colab": {}
      },
      "source": [
        "stack_pred_2 = []\n",
        "\n",
        "for i in range(len(lr_pred)):\n",
        "  if (lr_pred[i] + test_pred[i] + svc_pred[i]) >= 2:\n",
        "    stack_pred_2.append(1)\n",
        "  else:\n",
        "    stack_pred_2.append(0)\n",
        "    \n",
        "\n",
        "submission['target'] = stack_pred_2\n",
        "\n",
        "for k in similar_test.keys():\n",
        "  summation = submission.loc[similar_test[k],:]['target'].sum() + submission.loc[k,:]['target']\n",
        "  count = len(similar[k]) + 1\n",
        "  mean = summation/count\n",
        "  if mean > 0.5:\n",
        "    submission.loc[k,'target'] = 1\n",
        "    submission.loc[similar_test[k],'target'] = 1\n",
        "  else:\n",
        "    submission.loc[k,'target'] = 0\n",
        "    submission.loc[similar_test[k],'target'] = 0\n",
        "\n",
        "submission.to_csv('2_stacked_submission.csv', index = False)"
      ],
      "execution_count": 0,
      "outputs": []
    },
    {
      "cell_type": "markdown",
      "metadata": {
        "id": "SxcMk5caRJbQ",
        "colab_type": "text"
      },
      "source": [
        "**KAGGLE SCORE:** 0.83231\n",
        "\n",
        "As expected, the introduction of the two weaker models hindered performance."
      ]
    },
    {
      "cell_type": "markdown",
      "metadata": {
        "id": "cP6NFcIH4mxf",
        "colab_type": "text"
      },
      "source": [
        "# 6. Conclusion"
      ]
    },
    {
      "cell_type": "markdown",
      "metadata": {
        "id": "1zYPbzq5JrDG",
        "colab_type": "text"
      },
      "source": [
        "## Reflection\n",
        "\n",
        "The results I achieved throughout this process were very surprising. After dozens of hours of experimentation, a fragment of which can be seen here, the best results proved to have come from some very simple pre-processing.\n",
        "\n",
        "<br>\n",
        "\n",
        "When I initially began modelling, I had not dealt with duplicates and I was using a simple Tfidf Vectorizer. When doing so, my initial baseline results were relatively poor. As a result, many of the iterative cleaning steps improved the model substantially. Many of the cleaning steps were being accepted by the `try_step()` function and my models were improving by rougly 5 percentage points from the baseline throughout the cleaning process. However, they remained in the high-70s.\n",
        "\n",
        "<br>\n",
        "\n",
        "However, after taking a closer look at the data and dealing with duplicates and putting Google's universal encoder to use, the baseline models shot up. The stacked model, which achieved 81%+ f1-score on Kaggle, was 3+ percentage points better than the cleaned and optimized non-deep learning models I had trained before.\n",
        "\n",
        "<br>\n",
        "\n",
        "Ultimately, of the models scored on Kaggle, BERT proved to be the best, which was to be expected. However, the difference between the BERT results and the result of the stacked baseline is not immense. Though with more time, the results of the BERT model could likely be improved from the ~84% that was achieved, it's not clear that the complexity of the model is warranted given the performance of the simpler models."
      ]
    },
    {
      "cell_type": "markdown",
      "metadata": {
        "id": "tm9th5kNqjBI",
        "colab_type": "text"
      },
      "source": [
        "## Recommendations\n",
        "\n",
        "The recommendation for users of the models created above is to opt for the simplicity of the ensembled approach using simple algorithms, such as **logistic regress** and **naive bayes**. Given that performance is quite good if cleaning is done with some amount of diligence, the simpler models are a good option. More complex models, though powerful in their own right, introduce unwarranted overhead and complexity."
      ]
    },
    {
      "cell_type": "markdown",
      "metadata": {
        "id": "605EmKNiqn_P",
        "colab_type": "text"
      },
      "source": [
        "## Opportunities for Improvement\n",
        "\n",
        "Other steps that may have been worthwhile to experiment include dependency parsing and n-grams. However, the reason for not using them is that nature of tweets is that they are not easily cleaned so as to be used effectively alongside a parser. With that said, with more time, the appropriate cleaning could have been done to make those tools effective."
      ]
    },
    {
      "cell_type": "code",
      "metadata": {
        "id": "Mtz1bQTpM6Gt",
        "colab_type": "code",
        "colab": {}
      },
      "source": [
        "!zip -r /content/file.zip /content"
      ],
      "execution_count": 0,
      "outputs": []
    },
    {
      "cell_type": "code",
      "metadata": {
        "id": "90JjvV7WM8pG",
        "colab_type": "code",
        "colab": {}
      },
      "source": [
        "from google.colab import files\n",
        "files.download(\"/content\")"
      ],
      "execution_count": 0,
      "outputs": []
    }
  ]
}